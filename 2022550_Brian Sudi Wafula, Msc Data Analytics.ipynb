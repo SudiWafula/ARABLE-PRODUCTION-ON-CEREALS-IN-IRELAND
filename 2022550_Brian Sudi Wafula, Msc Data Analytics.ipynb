{
 "cells": [
  {
   "cell_type": "markdown",
   "id": "7b420550",
   "metadata": {},
   "source": [
    "# ANALAYSIS ON ARABLE PRODUCTION OF CEREAL CROPS IN IRELAND\n"
   ]
  },
  {
   "cell_type": "markdown",
   "id": "792a9a78",
   "metadata": {},
   "source": [
    "## A CRISP-DM approach was used in this research"
   ]
  },
  {
   "cell_type": "markdown",
   "id": "8b7f65b9",
   "metadata": {},
   "source": [
    "### STEP 1: Importing Relevant Libraries for Data Exploration and Analysis"
   ]
  },
  {
   "cell_type": "code",
   "execution_count": 1,
   "id": "c04a81b1",
   "metadata": {},
   "outputs": [],
   "source": [
    "# Importing the relevant libraries\n",
    "import pandas as pd\n",
    "import numpy as np\n",
    "import seaborn as sns \n",
    "import matplotlib.pyplot as plt \n",
    "%matplotlib inline\n",
    "sns.set(color_codes=True)\n",
    "import statistics\n",
    "import warnings\n",
    "warnings.filterwarnings('ignore')"
   ]
  },
  {
   "cell_type": "markdown",
   "id": "ac151c07",
   "metadata": {},
   "source": [
    "### STEP 2: Loading & Exploring Data on Cereal Crops in Ireland(source: Central Statistics Office)\n",
    "\n",
    "* Loading Data\n",
    "* Cleaning and enriching Data\n",
    "* Graphical Representation of the Data"
   ]
  },
  {
   "cell_type": "markdown",
   "id": "1a0afa68",
   "metadata": {},
   "source": [
    "#### (i.) Loading Data"
   ]
  },
  {
   "cell_type": "code",
   "execution_count": 2,
   "id": "1aa81155",
   "metadata": {},
   "outputs": [],
   "source": [
    "# loading data into the data frame\n",
    "df_cereals = pd.read_csv(\"AQA04.20221222T221238.csv\")"
   ]
  },
  {
   "cell_type": "code",
   "execution_count": 3,
   "id": "3aeab9c7",
   "metadata": {},
   "outputs": [
    {
     "data": {
      "text/html": [
       "<div>\n",
       "<style scoped>\n",
       "    .dataframe tbody tr th:only-of-type {\n",
       "        vertical-align: middle;\n",
       "    }\n",
       "\n",
       "    .dataframe tbody tr th {\n",
       "        vertical-align: top;\n",
       "    }\n",
       "\n",
       "    .dataframe thead th {\n",
       "        text-align: right;\n",
       "    }\n",
       "</style>\n",
       "<table border=\"1\" class=\"dataframe\">\n",
       "  <thead>\n",
       "    <tr style=\"text-align: right;\">\n",
       "      <th></th>\n",
       "      <th>Statistic Label</th>\n",
       "      <th>Year</th>\n",
       "      <th>Type of Crop</th>\n",
       "      <th>UNIT</th>\n",
       "      <th>VALUE</th>\n",
       "    </tr>\n",
       "  </thead>\n",
       "  <tbody>\n",
       "    <tr>\n",
       "      <th>0</th>\n",
       "      <td>Area under Crops</td>\n",
       "      <td>2008</td>\n",
       "      <td>Winter wheat</td>\n",
       "      <td>000 Hectares</td>\n",
       "      <td>87.5</td>\n",
       "    </tr>\n",
       "    <tr>\n",
       "      <th>1</th>\n",
       "      <td>Area under Crops</td>\n",
       "      <td>2008</td>\n",
       "      <td>Spring wheat</td>\n",
       "      <td>000 Hectares</td>\n",
       "      <td>23.2</td>\n",
       "    </tr>\n",
       "    <tr>\n",
       "      <th>2</th>\n",
       "      <td>Area under Crops</td>\n",
       "      <td>2008</td>\n",
       "      <td>Winter oats</td>\n",
       "      <td>000 Hectares</td>\n",
       "      <td>18.7</td>\n",
       "    </tr>\n",
       "    <tr>\n",
       "      <th>3</th>\n",
       "      <td>Area under Crops</td>\n",
       "      <td>2008</td>\n",
       "      <td>Spring oats</td>\n",
       "      <td>000 Hectares</td>\n",
       "      <td>4.2</td>\n",
       "    </tr>\n",
       "    <tr>\n",
       "      <th>4</th>\n",
       "      <td>Area under Crops</td>\n",
       "      <td>2008</td>\n",
       "      <td>Winter barley</td>\n",
       "      <td>000 Hectares</td>\n",
       "      <td>21.1</td>\n",
       "    </tr>\n",
       "  </tbody>\n",
       "</table>\n",
       "</div>"
      ],
      "text/plain": [
       "    Statistic Label  Year   Type of Crop          UNIT  VALUE\n",
       "0  Area under Crops  2008   Winter wheat  000 Hectares   87.5\n",
       "1  Area under Crops  2008   Spring wheat  000 Hectares   23.2\n",
       "2  Area under Crops  2008    Winter oats  000 Hectares   18.7\n",
       "3  Area under Crops  2008    Spring oats  000 Hectares    4.2\n",
       "4  Area under Crops  2008  Winter barley  000 Hectares   21.1"
      ]
     },
     "execution_count": 3,
     "metadata": {},
     "output_type": "execute_result"
    }
   ],
   "source": [
    "# Displaying the top five rows in the data set\n",
    "df_cereals.head()"
   ]
  },
  {
   "cell_type": "code",
   "execution_count": 4,
   "id": "b86c0d59",
   "metadata": {},
   "outputs": [
    {
     "data": {
      "text/html": [
       "<div>\n",
       "<style scoped>\n",
       "    .dataframe tbody tr th:only-of-type {\n",
       "        vertical-align: middle;\n",
       "    }\n",
       "\n",
       "    .dataframe tbody tr th {\n",
       "        vertical-align: top;\n",
       "    }\n",
       "\n",
       "    .dataframe thead th {\n",
       "        text-align: right;\n",
       "    }\n",
       "</style>\n",
       "<table border=\"1\" class=\"dataframe\">\n",
       "  <thead>\n",
       "    <tr style=\"text-align: right;\">\n",
       "      <th></th>\n",
       "      <th>Statistic Label</th>\n",
       "      <th>Year</th>\n",
       "      <th>Type of Crop</th>\n",
       "      <th>UNIT</th>\n",
       "      <th>VALUE</th>\n",
       "    </tr>\n",
       "  </thead>\n",
       "  <tbody>\n",
       "    <tr>\n",
       "      <th>247</th>\n",
       "      <td>Crop Production</td>\n",
       "      <td>2021</td>\n",
       "      <td>Spring wheat</td>\n",
       "      <td>000 Tonnes</td>\n",
       "      <td>52.7</td>\n",
       "    </tr>\n",
       "    <tr>\n",
       "      <th>248</th>\n",
       "      <td>Crop Production</td>\n",
       "      <td>2021</td>\n",
       "      <td>Winter oats</td>\n",
       "      <td>000 Tonnes</td>\n",
       "      <td>126.9</td>\n",
       "    </tr>\n",
       "    <tr>\n",
       "      <th>249</th>\n",
       "      <td>Crop Production</td>\n",
       "      <td>2021</td>\n",
       "      <td>Spring oats</td>\n",
       "      <td>000 Tonnes</td>\n",
       "      <td>111.4</td>\n",
       "    </tr>\n",
       "    <tr>\n",
       "      <th>250</th>\n",
       "      <td>Crop Production</td>\n",
       "      <td>2021</td>\n",
       "      <td>Winter barley</td>\n",
       "      <td>000 Tonnes</td>\n",
       "      <td>638.8</td>\n",
       "    </tr>\n",
       "    <tr>\n",
       "      <th>251</th>\n",
       "      <td>Crop Production</td>\n",
       "      <td>2021</td>\n",
       "      <td>Spring barley</td>\n",
       "      <td>000 Tonnes</td>\n",
       "      <td>917.6</td>\n",
       "    </tr>\n",
       "  </tbody>\n",
       "</table>\n",
       "</div>"
      ],
      "text/plain": [
       "     Statistic Label  Year   Type of Crop        UNIT  VALUE\n",
       "247  Crop Production  2021   Spring wheat  000 Tonnes   52.7\n",
       "248  Crop Production  2021    Winter oats  000 Tonnes  126.9\n",
       "249  Crop Production  2021    Spring oats  000 Tonnes  111.4\n",
       "250  Crop Production  2021  Winter barley  000 Tonnes  638.8\n",
       "251  Crop Production  2021  Spring barley  000 Tonnes  917.6"
      ]
     },
     "execution_count": 4,
     "metadata": {},
     "output_type": "execute_result"
    }
   ],
   "source": [
    "# Displaying the last five rows in the data set\n",
    "df_cereals.tail()"
   ]
  },
  {
   "cell_type": "code",
   "execution_count": 5,
   "id": "312c83a7",
   "metadata": {},
   "outputs": [
    {
     "name": "stdout",
     "output_type": "stream",
     "text": [
      "<class 'pandas.core.frame.DataFrame'>\n",
      "RangeIndex: 252 entries, 0 to 251\n",
      "Data columns (total 5 columns):\n",
      " #   Column           Non-Null Count  Dtype  \n",
      "---  ------           --------------  -----  \n",
      " 0   Statistic Label  252 non-null    object \n",
      " 1   Year             252 non-null    int64  \n",
      " 2   Type of Crop     252 non-null    object \n",
      " 3   UNIT             252 non-null    object \n",
      " 4   VALUE            252 non-null    float64\n",
      "dtypes: float64(1), int64(1), object(3)\n",
      "memory usage: 10.0+ KB\n"
     ]
    }
   ],
   "source": [
    "# Displaying the info of the data set\n",
    "# checking for data types because sometimes variables may be stored as string or an object\n",
    "df_cereals.info()"
   ]
  },
  {
   "cell_type": "code",
   "execution_count": 6,
   "id": "fda1b407",
   "metadata": {},
   "outputs": [
    {
     "name": "stdout",
     "output_type": "stream",
     "text": [
      "Statistic Label    0\n",
      "Year               0\n",
      "Type of Crop       0\n",
      "UNIT               0\n",
      "VALUE              0\n",
      "dtype: int64\n"
     ]
    }
   ],
   "source": [
    "# Checking for missing values\n",
    "print(df_cereals.isnull().sum()) "
   ]
  },
  {
   "cell_type": "code",
   "execution_count": 7,
   "id": "9785acc3",
   "metadata": {
    "scrolled": true
   },
   "outputs": [
    {
     "name": "stdout",
     "output_type": "stream",
     "text": [
      "Area under Crops          84\n",
      "Crop Yield per Hectare    84\n",
      "Crop Production           84\n",
      "Name: Statistic Label, dtype: int64\n"
     ]
    }
   ],
   "source": [
    "# Function to Count the frequency of all values in a column\n",
    "def count_values(df, column):\n",
    "    counts = df[column].value_counts()\n",
    "    return counts\n",
    "\n",
    "df = df_cereals\n",
    "counts = count_values(df, 'Statistic Label')\n",
    "print(counts)"
   ]
  },
  {
   "cell_type": "markdown",
   "id": "2997e3ab",
   "metadata": {},
   "source": [
    "#### (ii.) Cleaning and enriching Data"
   ]
  },
  {
   "cell_type": "code",
   "execution_count": 8,
   "id": "550a41cd",
   "metadata": {},
   "outputs": [],
   "source": [
    "# Create a pivot table with the \"Statistic Label\", \"Year\", \"UNIT\" columns as the index,\n",
    "# the \"Type of Crop\" column as the columns, and the 'VALUE' column as the values\n",
    "irish_cer = df_cereals.pivot_table(index=[\"Statistic Label\",\"Year\",\"UNIT\"], columns=\"Type of Crop\", values=\"VALUE\")"
   ]
  },
  {
   "cell_type": "code",
   "execution_count": 9,
   "id": "aa3b6742",
   "metadata": {},
   "outputs": [
    {
     "data": {
      "text/html": [
       "<div>\n",
       "<style scoped>\n",
       "    .dataframe tbody tr th:only-of-type {\n",
       "        vertical-align: middle;\n",
       "    }\n",
       "\n",
       "    .dataframe tbody tr th {\n",
       "        vertical-align: top;\n",
       "    }\n",
       "\n",
       "    .dataframe thead th {\n",
       "        text-align: right;\n",
       "    }\n",
       "</style>\n",
       "<table border=\"1\" class=\"dataframe\">\n",
       "  <thead>\n",
       "    <tr style=\"text-align: right;\">\n",
       "      <th></th>\n",
       "      <th></th>\n",
       "      <th>Type of Crop</th>\n",
       "      <th>Spring barley</th>\n",
       "      <th>Spring oats</th>\n",
       "      <th>Spring wheat</th>\n",
       "      <th>Winter barley</th>\n",
       "      <th>Winter oats</th>\n",
       "      <th>Winter wheat</th>\n",
       "    </tr>\n",
       "    <tr>\n",
       "      <th>Statistic Label</th>\n",
       "      <th>Year</th>\n",
       "      <th>UNIT</th>\n",
       "      <th></th>\n",
       "      <th></th>\n",
       "      <th></th>\n",
       "      <th></th>\n",
       "      <th></th>\n",
       "      <th></th>\n",
       "    </tr>\n",
       "  </thead>\n",
       "  <tbody>\n",
       "    <tr>\n",
       "      <th rowspan=\"5\" valign=\"top\">Area under Crops</th>\n",
       "      <th>2008</th>\n",
       "      <th>000 Hectares</th>\n",
       "      <td>166.0</td>\n",
       "      <td>4.2</td>\n",
       "      <td>23.2</td>\n",
       "      <td>21.1</td>\n",
       "      <td>18.7</td>\n",
       "      <td>87.5</td>\n",
       "    </tr>\n",
       "    <tr>\n",
       "      <th>2009</th>\n",
       "      <th>000 Hectares</th>\n",
       "      <td>174.3</td>\n",
       "      <td>11.3</td>\n",
       "      <td>20.2</td>\n",
       "      <td>19.3</td>\n",
       "      <td>9.1</td>\n",
       "      <td>64.3</td>\n",
       "    </tr>\n",
       "    <tr>\n",
       "      <th>2010</th>\n",
       "      <th>000 Hectares</th>\n",
       "      <td>146.0</td>\n",
       "      <td>9.4</td>\n",
       "      <td>18.0</td>\n",
       "      <td>28.8</td>\n",
       "      <td>10.3</td>\n",
       "      <td>59.8</td>\n",
       "    </tr>\n",
       "    <tr>\n",
       "      <th>2011</th>\n",
       "      <th>000 Hectares</th>\n",
       "      <td>144.8</td>\n",
       "      <td>12.4</td>\n",
       "      <td>16.4</td>\n",
       "      <td>35.9</td>\n",
       "      <td>9.0</td>\n",
       "      <td>77.7</td>\n",
       "    </tr>\n",
       "    <tr>\n",
       "      <th>2012</th>\n",
       "      <th>000 Hectares</th>\n",
       "      <td>151.8</td>\n",
       "      <td>13.8</td>\n",
       "      <td>13.5</td>\n",
       "      <td>41.0</td>\n",
       "      <td>9.9</td>\n",
       "      <td>84.6</td>\n",
       "    </tr>\n",
       "  </tbody>\n",
       "</table>\n",
       "</div>"
      ],
      "text/plain": [
       "Type of Crop                        Spring barley  Spring oats  Spring wheat  \\\n",
       "Statistic Label  Year UNIT                                                     \n",
       "Area under Crops 2008 000 Hectares          166.0          4.2          23.2   \n",
       "                 2009 000 Hectares          174.3         11.3          20.2   \n",
       "                 2010 000 Hectares          146.0          9.4          18.0   \n",
       "                 2011 000 Hectares          144.8         12.4          16.4   \n",
       "                 2012 000 Hectares          151.8         13.8          13.5   \n",
       "\n",
       "Type of Crop                        Winter barley  Winter oats  Winter wheat  \n",
       "Statistic Label  Year UNIT                                                    \n",
       "Area under Crops 2008 000 Hectares           21.1         18.7          87.5  \n",
       "                 2009 000 Hectares           19.3          9.1          64.3  \n",
       "                 2010 000 Hectares           28.8         10.3          59.8  \n",
       "                 2011 000 Hectares           35.9          9.0          77.7  \n",
       "                 2012 000 Hectares           41.0          9.9          84.6  "
      ]
     },
     "execution_count": 9,
     "metadata": {},
     "output_type": "execute_result"
    }
   ],
   "source": [
    "# Loading the pivotted table\n",
    "irish_cer.head()"
   ]
  },
  {
   "cell_type": "code",
   "execution_count": 10,
   "id": "e6b1770a",
   "metadata": {},
   "outputs": [
    {
     "data": {
      "text/html": [
       "<div>\n",
       "<style scoped>\n",
       "    .dataframe tbody tr th:only-of-type {\n",
       "        vertical-align: middle;\n",
       "    }\n",
       "\n",
       "    .dataframe tbody tr th {\n",
       "        vertical-align: top;\n",
       "    }\n",
       "\n",
       "    .dataframe thead th {\n",
       "        text-align: right;\n",
       "    }\n",
       "</style>\n",
       "<table border=\"1\" class=\"dataframe\">\n",
       "  <thead>\n",
       "    <tr style=\"text-align: right;\">\n",
       "      <th>Type of Crop</th>\n",
       "      <th>Statistic Label</th>\n",
       "      <th>Year</th>\n",
       "      <th>UNIT</th>\n",
       "      <th>Spring barley</th>\n",
       "      <th>Spring oats</th>\n",
       "      <th>Spring wheat</th>\n",
       "      <th>Winter barley</th>\n",
       "      <th>Winter oats</th>\n",
       "      <th>Winter wheat</th>\n",
       "    </tr>\n",
       "  </thead>\n",
       "  <tbody>\n",
       "    <tr>\n",
       "      <th>0</th>\n",
       "      <td>Area under Crops</td>\n",
       "      <td>2008</td>\n",
       "      <td>000 Hectares</td>\n",
       "      <td>166.0</td>\n",
       "      <td>4.2</td>\n",
       "      <td>23.2</td>\n",
       "      <td>21.1</td>\n",
       "      <td>18.7</td>\n",
       "      <td>87.5</td>\n",
       "    </tr>\n",
       "    <tr>\n",
       "      <th>1</th>\n",
       "      <td>Area under Crops</td>\n",
       "      <td>2009</td>\n",
       "      <td>000 Hectares</td>\n",
       "      <td>174.3</td>\n",
       "      <td>11.3</td>\n",
       "      <td>20.2</td>\n",
       "      <td>19.3</td>\n",
       "      <td>9.1</td>\n",
       "      <td>64.3</td>\n",
       "    </tr>\n",
       "    <tr>\n",
       "      <th>2</th>\n",
       "      <td>Area under Crops</td>\n",
       "      <td>2010</td>\n",
       "      <td>000 Hectares</td>\n",
       "      <td>146.0</td>\n",
       "      <td>9.4</td>\n",
       "      <td>18.0</td>\n",
       "      <td>28.8</td>\n",
       "      <td>10.3</td>\n",
       "      <td>59.8</td>\n",
       "    </tr>\n",
       "    <tr>\n",
       "      <th>3</th>\n",
       "      <td>Area under Crops</td>\n",
       "      <td>2011</td>\n",
       "      <td>000 Hectares</td>\n",
       "      <td>144.8</td>\n",
       "      <td>12.4</td>\n",
       "      <td>16.4</td>\n",
       "      <td>35.9</td>\n",
       "      <td>9.0</td>\n",
       "      <td>77.7</td>\n",
       "    </tr>\n",
       "    <tr>\n",
       "      <th>4</th>\n",
       "      <td>Area under Crops</td>\n",
       "      <td>2012</td>\n",
       "      <td>000 Hectares</td>\n",
       "      <td>151.8</td>\n",
       "      <td>13.8</td>\n",
       "      <td>13.5</td>\n",
       "      <td>41.0</td>\n",
       "      <td>9.9</td>\n",
       "      <td>84.6</td>\n",
       "    </tr>\n",
       "  </tbody>\n",
       "</table>\n",
       "</div>"
      ],
      "text/plain": [
       "Type of Crop   Statistic Label  Year          UNIT  Spring barley  \\\n",
       "0             Area under Crops  2008  000 Hectares          166.0   \n",
       "1             Area under Crops  2009  000 Hectares          174.3   \n",
       "2             Area under Crops  2010  000 Hectares          146.0   \n",
       "3             Area under Crops  2011  000 Hectares          144.8   \n",
       "4             Area under Crops  2012  000 Hectares          151.8   \n",
       "\n",
       "Type of Crop  Spring oats  Spring wheat  Winter barley  Winter oats  \\\n",
       "0                     4.2          23.2           21.1         18.7   \n",
       "1                    11.3          20.2           19.3          9.1   \n",
       "2                     9.4          18.0           28.8         10.3   \n",
       "3                    12.4          16.4           35.9          9.0   \n",
       "4                    13.8          13.5           41.0          9.9   \n",
       "\n",
       "Type of Crop  Winter wheat  \n",
       "0                     87.5  \n",
       "1                     64.3  \n",
       "2                     59.8  \n",
       "3                     77.7  \n",
       "4                     84.6  "
      ]
     },
     "execution_count": 10,
     "metadata": {},
     "output_type": "execute_result"
    }
   ],
   "source": [
    "# resetting the index to view & manipulate data\n",
    "irish_cer.reset_index(inplace = True)\n",
    "irish_cer.head()"
   ]
  },
  {
   "cell_type": "code",
   "execution_count": 11,
   "id": "7bef127d",
   "metadata": {
    "scrolled": false
   },
   "outputs": [
    {
     "name": "stdout",
     "output_type": "stream",
     "text": [
      "<class 'pandas.core.frame.DataFrame'>\n",
      "RangeIndex: 42 entries, 0 to 41\n",
      "Data columns (total 9 columns):\n",
      " #   Column           Non-Null Count  Dtype  \n",
      "---  ------           --------------  -----  \n",
      " 0   Statistic Label  42 non-null     object \n",
      " 1   Year             42 non-null     int64  \n",
      " 2   UNIT             42 non-null     object \n",
      " 3   Spring barley    42 non-null     float64\n",
      " 4   Spring oats      42 non-null     float64\n",
      " 5   Spring wheat     42 non-null     float64\n",
      " 6   Winter barley    42 non-null     float64\n",
      " 7   Winter oats      42 non-null     float64\n",
      " 8   Winter wheat     42 non-null     float64\n",
      "dtypes: float64(6), int64(1), object(2)\n",
      "memory usage: 3.1+ KB\n"
     ]
    }
   ],
   "source": [
    "irish_cer.info()"
   ]
  },
  {
   "cell_type": "code",
   "execution_count": 12,
   "id": "2ef2377f",
   "metadata": {},
   "outputs": [
    {
     "name": "stdout",
     "output_type": "stream",
     "text": [
      "Area under Crops          14\n",
      "Crop Production           14\n",
      "Crop Yield per Hectare    14\n",
      "Name: Statistic Label, dtype: int64\n"
     ]
    }
   ],
   "source": [
    "# frequency of values in the \"Static label\" column\n",
    "df = irish_cer\n",
    "counts = count_values(df, 'Statistic Label')\n",
    "print(counts)"
   ]
  },
  {
   "cell_type": "code",
   "execution_count": 13,
   "id": "3634dfa5",
   "metadata": {},
   "outputs": [],
   "source": [
    "# Replacing 'Statistic Label' values with more descriptive names\n",
    "irish_cer['Statistic Label'] = irish_cer['Statistic Label'].replace({'Area under Crops': 'Area under Crops(000ha)', \n",
    "                                                                   'Crop Production': 'Crop Production(000tonnes)',\n",
    "                                                                   'Crop Yield per Hectare': 'Crop Yield per ha(tonnes)'})\n"
   ]
  },
  {
   "cell_type": "code",
   "execution_count": 14,
   "id": "f554d27d",
   "metadata": {},
   "outputs": [
    {
     "data": {
      "text/html": [
       "<div>\n",
       "<style scoped>\n",
       "    .dataframe tbody tr th:only-of-type {\n",
       "        vertical-align: middle;\n",
       "    }\n",
       "\n",
       "    .dataframe tbody tr th {\n",
       "        vertical-align: top;\n",
       "    }\n",
       "\n",
       "    .dataframe thead th {\n",
       "        text-align: right;\n",
       "    }\n",
       "</style>\n",
       "<table border=\"1\" class=\"dataframe\">\n",
       "  <thead>\n",
       "    <tr style=\"text-align: right;\">\n",
       "      <th>Type of Crop</th>\n",
       "      <th>Statistic Label</th>\n",
       "      <th>Year</th>\n",
       "      <th>UNIT</th>\n",
       "      <th>Spring barley</th>\n",
       "      <th>Spring oats</th>\n",
       "      <th>Spring wheat</th>\n",
       "      <th>Winter barley</th>\n",
       "      <th>Winter oats</th>\n",
       "      <th>Winter wheat</th>\n",
       "    </tr>\n",
       "  </thead>\n",
       "  <tbody>\n",
       "    <tr>\n",
       "      <th>0</th>\n",
       "      <td>Area under Crops(000ha)</td>\n",
       "      <td>2008</td>\n",
       "      <td>000 Hectares</td>\n",
       "      <td>166.0</td>\n",
       "      <td>4.2</td>\n",
       "      <td>23.2</td>\n",
       "      <td>21.1</td>\n",
       "      <td>18.7</td>\n",
       "      <td>87.5</td>\n",
       "    </tr>\n",
       "    <tr>\n",
       "      <th>1</th>\n",
       "      <td>Area under Crops(000ha)</td>\n",
       "      <td>2009</td>\n",
       "      <td>000 Hectares</td>\n",
       "      <td>174.3</td>\n",
       "      <td>11.3</td>\n",
       "      <td>20.2</td>\n",
       "      <td>19.3</td>\n",
       "      <td>9.1</td>\n",
       "      <td>64.3</td>\n",
       "    </tr>\n",
       "    <tr>\n",
       "      <th>2</th>\n",
       "      <td>Area under Crops(000ha)</td>\n",
       "      <td>2010</td>\n",
       "      <td>000 Hectares</td>\n",
       "      <td>146.0</td>\n",
       "      <td>9.4</td>\n",
       "      <td>18.0</td>\n",
       "      <td>28.8</td>\n",
       "      <td>10.3</td>\n",
       "      <td>59.8</td>\n",
       "    </tr>\n",
       "    <tr>\n",
       "      <th>3</th>\n",
       "      <td>Area under Crops(000ha)</td>\n",
       "      <td>2011</td>\n",
       "      <td>000 Hectares</td>\n",
       "      <td>144.8</td>\n",
       "      <td>12.4</td>\n",
       "      <td>16.4</td>\n",
       "      <td>35.9</td>\n",
       "      <td>9.0</td>\n",
       "      <td>77.7</td>\n",
       "    </tr>\n",
       "    <tr>\n",
       "      <th>4</th>\n",
       "      <td>Area under Crops(000ha)</td>\n",
       "      <td>2012</td>\n",
       "      <td>000 Hectares</td>\n",
       "      <td>151.8</td>\n",
       "      <td>13.8</td>\n",
       "      <td>13.5</td>\n",
       "      <td>41.0</td>\n",
       "      <td>9.9</td>\n",
       "      <td>84.6</td>\n",
       "    </tr>\n",
       "  </tbody>\n",
       "</table>\n",
       "</div>"
      ],
      "text/plain": [
       "Type of Crop          Statistic Label  Year          UNIT  Spring barley  \\\n",
       "0             Area under Crops(000ha)  2008  000 Hectares          166.0   \n",
       "1             Area under Crops(000ha)  2009  000 Hectares          174.3   \n",
       "2             Area under Crops(000ha)  2010  000 Hectares          146.0   \n",
       "3             Area under Crops(000ha)  2011  000 Hectares          144.8   \n",
       "4             Area under Crops(000ha)  2012  000 Hectares          151.8   \n",
       "\n",
       "Type of Crop  Spring oats  Spring wheat  Winter barley  Winter oats  \\\n",
       "0                     4.2          23.2           21.1         18.7   \n",
       "1                    11.3          20.2           19.3          9.1   \n",
       "2                     9.4          18.0           28.8         10.3   \n",
       "3                    12.4          16.4           35.9          9.0   \n",
       "4                    13.8          13.5           41.0          9.9   \n",
       "\n",
       "Type of Crop  Winter wheat  \n",
       "0                     87.5  \n",
       "1                     64.3  \n",
       "2                     59.8  \n",
       "3                     77.7  \n",
       "4                     84.6  "
      ]
     },
     "execution_count": 14,
     "metadata": {},
     "output_type": "execute_result"
    }
   ],
   "source": [
    "irish_cer.head()"
   ]
  },
  {
   "cell_type": "code",
   "execution_count": 15,
   "id": "187b2ed2",
   "metadata": {
    "scrolled": false
   },
   "outputs": [
    {
     "data": {
      "text/html": [
       "<div>\n",
       "<style scoped>\n",
       "    .dataframe tbody tr th:only-of-type {\n",
       "        vertical-align: middle;\n",
       "    }\n",
       "\n",
       "    .dataframe tbody tr th {\n",
       "        vertical-align: top;\n",
       "    }\n",
       "\n",
       "    .dataframe thead th {\n",
       "        text-align: right;\n",
       "    }\n",
       "</style>\n",
       "<table border=\"1\" class=\"dataframe\">\n",
       "  <thead>\n",
       "    <tr style=\"text-align: right;\">\n",
       "      <th>Type of Crop</th>\n",
       "      <th>Statistic Label</th>\n",
       "      <th>Year</th>\n",
       "      <th>Spring barley</th>\n",
       "      <th>Spring oats</th>\n",
       "      <th>Spring wheat</th>\n",
       "      <th>Winter barley</th>\n",
       "      <th>Winter oats</th>\n",
       "      <th>Winter wheat</th>\n",
       "    </tr>\n",
       "  </thead>\n",
       "  <tbody>\n",
       "    <tr>\n",
       "      <th>0</th>\n",
       "      <td>Area under Crops(000ha)</td>\n",
       "      <td>2008</td>\n",
       "      <td>166.0</td>\n",
       "      <td>4.2</td>\n",
       "      <td>23.2</td>\n",
       "      <td>21.1</td>\n",
       "      <td>18.7</td>\n",
       "      <td>87.5</td>\n",
       "    </tr>\n",
       "    <tr>\n",
       "      <th>1</th>\n",
       "      <td>Area under Crops(000ha)</td>\n",
       "      <td>2009</td>\n",
       "      <td>174.3</td>\n",
       "      <td>11.3</td>\n",
       "      <td>20.2</td>\n",
       "      <td>19.3</td>\n",
       "      <td>9.1</td>\n",
       "      <td>64.3</td>\n",
       "    </tr>\n",
       "    <tr>\n",
       "      <th>2</th>\n",
       "      <td>Area under Crops(000ha)</td>\n",
       "      <td>2010</td>\n",
       "      <td>146.0</td>\n",
       "      <td>9.4</td>\n",
       "      <td>18.0</td>\n",
       "      <td>28.8</td>\n",
       "      <td>10.3</td>\n",
       "      <td>59.8</td>\n",
       "    </tr>\n",
       "    <tr>\n",
       "      <th>3</th>\n",
       "      <td>Area under Crops(000ha)</td>\n",
       "      <td>2011</td>\n",
       "      <td>144.8</td>\n",
       "      <td>12.4</td>\n",
       "      <td>16.4</td>\n",
       "      <td>35.9</td>\n",
       "      <td>9.0</td>\n",
       "      <td>77.7</td>\n",
       "    </tr>\n",
       "    <tr>\n",
       "      <th>4</th>\n",
       "      <td>Area under Crops(000ha)</td>\n",
       "      <td>2012</td>\n",
       "      <td>151.8</td>\n",
       "      <td>13.8</td>\n",
       "      <td>13.5</td>\n",
       "      <td>41.0</td>\n",
       "      <td>9.9</td>\n",
       "      <td>84.6</td>\n",
       "    </tr>\n",
       "  </tbody>\n",
       "</table>\n",
       "</div>"
      ],
      "text/plain": [
       "Type of Crop          Statistic Label  Year  Spring barley  Spring oats  \\\n",
       "0             Area under Crops(000ha)  2008          166.0          4.2   \n",
       "1             Area under Crops(000ha)  2009          174.3         11.3   \n",
       "2             Area under Crops(000ha)  2010          146.0          9.4   \n",
       "3             Area under Crops(000ha)  2011          144.8         12.4   \n",
       "4             Area under Crops(000ha)  2012          151.8         13.8   \n",
       "\n",
       "Type of Crop  Spring wheat  Winter barley  Winter oats  Winter wheat  \n",
       "0                     23.2           21.1         18.7          87.5  \n",
       "1                     20.2           19.3          9.1          64.3  \n",
       "2                     18.0           28.8         10.3          59.8  \n",
       "3                     16.4           35.9          9.0          77.7  \n",
       "4                     13.5           41.0          9.9          84.6  "
      ]
     },
     "execution_count": 15,
     "metadata": {},
     "output_type": "execute_result"
    }
   ],
   "source": [
    "# Dropping the \"UNIT\" column because its description has been added to the \"Statistic Label\" column\n",
    "irish_cer = irish_cer.drop(columns=[\"UNIT\"])\n",
    "irish_cer.head()"
   ]
  },
  {
   "cell_type": "markdown",
   "id": "a5674fe5",
   "metadata": {},
   "source": [
    "#### (iii.) Graphical Representation of the Data\n",
    "\n",
    "* Bar Graph; Bar charts are one of the most common data visualizations. You can use them to quickly compare data across categories, highlight differences, show trends and outliers, and reveal historical highs and lows at a glance.\n",
    "* Line Chart; The line chart, or line graph, connects several distinct data points, presenting them as one continuous evolution. Use line charts to view trends in data, usually over time\n",
    "* Heatmap; Heat Map Chart, or Heatmap is a two-dimensional visual representation of data, where values are encoded in colors, delivering a convenient, insightful view of information\n",
    "* Bubble Chart; Bubble charts are super useful types of graphs for making a comparison of the relationships between data in 3 numeric-data dimensions\n",
    "* https://www.tableau.com/learn/whitepapers/which-chart-or-graph-is-right-for-you\n",
    "* https://www.intellspot.com/types-graphs-charts/\n",
    "* https://www.anychart.com/chartopedia/chart-type/heatmap/#:~:text=Heat%20Map%20Chart%2C%20or%20Heatmap,denoting%20different%20sets%20of%20categories."
   ]
  },
  {
   "cell_type": "markdown",
   "id": "ccd6e0b8",
   "metadata": {},
   "source": [
    "#### Bar Chart "
   ]
  },
  {
   "cell_type": "code",
   "execution_count": 16,
   "id": "bcd8ad90",
   "metadata": {
    "scrolled": true
   },
   "outputs": [],
   "source": [
    "#!pip install altair\n",
    "#!pip install altair_viewer\n",
    "#!pip install vega\n",
    "#!pip install altair vega_datasets"
   ]
  },
  {
   "cell_type": "code",
   "execution_count": 17,
   "id": "2d58ba56",
   "metadata": {},
   "outputs": [],
   "source": [
    "import altair as alt\n",
    "import plotly.express as px\n",
    "import plotly.graph_objs as go"
   ]
  },
  {
   "cell_type": "code",
   "execution_count": 23,
   "id": "c980c7c3",
   "metadata": {},
   "outputs": [
    {
     "data": {
      "application/vnd.plotly.v1+json": {
       "config": {
        "plotlyServerURL": "https://plot.ly"
       },
       "data": [
        {
         "name": "Spring barley",
         "text": [
          "Area under Crops(000ha)",
          "Area under Crops(000ha)",
          "Area under Crops(000ha)",
          "Area under Crops(000ha)",
          "Area under Crops(000ha)",
          "Area under Crops(000ha)",
          "Area under Crops(000ha)",
          "Area under Crops(000ha)",
          "Area under Crops(000ha)",
          "Area under Crops(000ha)",
          "Area under Crops(000ha)",
          "Area under Crops(000ha)",
          "Area under Crops(000ha)",
          "Area under Crops(000ha)",
          "Crop Production(000tonnes)",
          "Crop Production(000tonnes)",
          "Crop Production(000tonnes)",
          "Crop Production(000tonnes)",
          "Crop Production(000tonnes)",
          "Crop Production(000tonnes)",
          "Crop Production(000tonnes)",
          "Crop Production(000tonnes)",
          "Crop Production(000tonnes)",
          "Crop Production(000tonnes)",
          "Crop Production(000tonnes)",
          "Crop Production(000tonnes)",
          "Crop Production(000tonnes)",
          "Crop Production(000tonnes)",
          "Crop Yield per ha(tonnes)",
          "Crop Yield per ha(tonnes)",
          "Crop Yield per ha(tonnes)",
          "Crop Yield per ha(tonnes)",
          "Crop Yield per ha(tonnes)",
          "Crop Yield per ha(tonnes)",
          "Crop Yield per ha(tonnes)",
          "Crop Yield per ha(tonnes)",
          "Crop Yield per ha(tonnes)",
          "Crop Yield per ha(tonnes)",
          "Crop Yield per ha(tonnes)",
          "Crop Yield per ha(tonnes)",
          "Crop Yield per ha(tonnes)",
          "Crop Yield per ha(tonnes)"
         ],
         "type": "bar",
         "x": [
          2008,
          2009,
          2010,
          2011,
          2012,
          2013,
          2014,
          2015,
          2016,
          2017,
          2018,
          2019,
          2020,
          2021,
          2008,
          2009,
          2010,
          2011,
          2012,
          2013,
          2014,
          2015,
          2016,
          2017,
          2018,
          2019,
          2020,
          2021,
          2008,
          2009,
          2010,
          2011,
          2012,
          2013,
          2014,
          2015,
          2016,
          2017,
          2018,
          2019,
          2020,
          2021
         ],
         "y": [
          166,
          174.3,
          146,
          144.8,
          151.8,
          183.5,
          155.6,
          133,
          114.6,
          115.2,
          127.4,
          96.5,
          141.7,
          116.4,
          1112.4,
          1063.1,
          977.9,
          1085.8,
          940.9,
          1320.9,
          1172.5,
          1027.4,
          835.5,
          913.7,
          716.1,
          776.7,
          1004,
          917.6,
          6.7,
          6.1,
          6.7,
          7.5,
          6.2,
          7.2,
          7.5,
          7.7,
          7.3,
          7.9,
          5.6,
          8,
          7.1,
          7.9
         ]
        },
        {
         "name": "Spring oats",
         "text": [
          "Area under Crops(000ha)",
          "Area under Crops(000ha)",
          "Area under Crops(000ha)",
          "Area under Crops(000ha)",
          "Area under Crops(000ha)",
          "Area under Crops(000ha)",
          "Area under Crops(000ha)",
          "Area under Crops(000ha)",
          "Area under Crops(000ha)",
          "Area under Crops(000ha)",
          "Area under Crops(000ha)",
          "Area under Crops(000ha)",
          "Area under Crops(000ha)",
          "Area under Crops(000ha)",
          "Crop Production(000tonnes)",
          "Crop Production(000tonnes)",
          "Crop Production(000tonnes)",
          "Crop Production(000tonnes)",
          "Crop Production(000tonnes)",
          "Crop Production(000tonnes)",
          "Crop Production(000tonnes)",
          "Crop Production(000tonnes)",
          "Crop Production(000tonnes)",
          "Crop Production(000tonnes)",
          "Crop Production(000tonnes)",
          "Crop Production(000tonnes)",
          "Crop Production(000tonnes)",
          "Crop Production(000tonnes)",
          "Crop Yield per ha(tonnes)",
          "Crop Yield per ha(tonnes)",
          "Crop Yield per ha(tonnes)",
          "Crop Yield per ha(tonnes)",
          "Crop Yield per ha(tonnes)",
          "Crop Yield per ha(tonnes)",
          "Crop Yield per ha(tonnes)",
          "Crop Yield per ha(tonnes)",
          "Crop Yield per ha(tonnes)",
          "Crop Yield per ha(tonnes)",
          "Crop Yield per ha(tonnes)",
          "Crop Yield per ha(tonnes)",
          "Crop Yield per ha(tonnes)",
          "Crop Yield per ha(tonnes)"
         ],
         "type": "bar",
         "x": [
          2008,
          2009,
          2010,
          2011,
          2012,
          2013,
          2014,
          2015,
          2016,
          2017,
          2018,
          2019,
          2020,
          2021,
          2008,
          2009,
          2010,
          2011,
          2012,
          2013,
          2014,
          2015,
          2016,
          2017,
          2018,
          2019,
          2020,
          2021,
          2008,
          2009,
          2010,
          2011,
          2012,
          2013,
          2014,
          2015,
          2016,
          2017,
          2018,
          2019,
          2020,
          2021
         ],
         "y": [
          4.2,
          11.3,
          9.4,
          12.4,
          13.8,
          21.3,
          8.5,
          12.1,
          10,
          10,
          7.6,
          7.2,
          17.2,
          14.5,
          26.4,
          74.4,
          67.6,
          97.6,
          88.4,
          149.1,
          61.9,
          93,
          73,
          76.4,
          42.2,
          55.5,
          122.3,
          111.4,
          6.3,
          6.6,
          7.2,
          7.9,
          6.4,
          7,
          7.3,
          7.7,
          7.3,
          7.6,
          5.6,
          7.7,
          7.1,
          7.7
         ]
        },
        {
         "name": "Spring wheat",
         "text": [
          "Area under Crops(000ha)",
          "Area under Crops(000ha)",
          "Area under Crops(000ha)",
          "Area under Crops(000ha)",
          "Area under Crops(000ha)",
          "Area under Crops(000ha)",
          "Area under Crops(000ha)",
          "Area under Crops(000ha)",
          "Area under Crops(000ha)",
          "Area under Crops(000ha)",
          "Area under Crops(000ha)",
          "Area under Crops(000ha)",
          "Area under Crops(000ha)",
          "Area under Crops(000ha)",
          "Crop Production(000tonnes)",
          "Crop Production(000tonnes)",
          "Crop Production(000tonnes)",
          "Crop Production(000tonnes)",
          "Crop Production(000tonnes)",
          "Crop Production(000tonnes)",
          "Crop Production(000tonnes)",
          "Crop Production(000tonnes)",
          "Crop Production(000tonnes)",
          "Crop Production(000tonnes)",
          "Crop Production(000tonnes)",
          "Crop Production(000tonnes)",
          "Crop Production(000tonnes)",
          "Crop Production(000tonnes)",
          "Crop Yield per ha(tonnes)",
          "Crop Yield per ha(tonnes)",
          "Crop Yield per ha(tonnes)",
          "Crop Yield per ha(tonnes)",
          "Crop Yield per ha(tonnes)",
          "Crop Yield per ha(tonnes)",
          "Crop Yield per ha(tonnes)",
          "Crop Yield per ha(tonnes)",
          "Crop Yield per ha(tonnes)",
          "Crop Yield per ha(tonnes)",
          "Crop Yield per ha(tonnes)",
          "Crop Yield per ha(tonnes)",
          "Crop Yield per ha(tonnes)",
          "Crop Yield per ha(tonnes)"
         ],
         "type": "bar",
         "x": [
          2008,
          2009,
          2010,
          2011,
          2012,
          2013,
          2014,
          2015,
          2016,
          2017,
          2018,
          2019,
          2020,
          2021,
          2008,
          2009,
          2010,
          2011,
          2012,
          2013,
          2014,
          2015,
          2016,
          2017,
          2018,
          2019,
          2020,
          2021,
          2008,
          2009,
          2010,
          2011,
          2012,
          2013,
          2014,
          2015,
          2016,
          2017,
          2018,
          2019,
          2020,
          2021
         ],
         "y": [
          23.2,
          20.2,
          18,
          16.4,
          13.5,
          15.2,
          6.5,
          10.1,
          7.5,
          6.8,
          3.6,
          3.8,
          11.5,
          6.1,
          153,
          137.4,
          137.2,
          136.4,
          82.2,
          123.3,
          53.6,
          86.5,
          60.3,
          55.2,
          22.2,
          31.4,
          85.4,
          52.7,
          6.6,
          6.8,
          7.6,
          8.3,
          6.1,
          8.1,
          8.3,
          8.6,
          8,
          8.2,
          6.2,
          8.3,
          7.4,
          8.7
         ]
        },
        {
         "name": "Winter barley",
         "text": [
          "Area under Crops(000ha)",
          "Area under Crops(000ha)",
          "Area under Crops(000ha)",
          "Area under Crops(000ha)",
          "Area under Crops(000ha)",
          "Area under Crops(000ha)",
          "Area under Crops(000ha)",
          "Area under Crops(000ha)",
          "Area under Crops(000ha)",
          "Area under Crops(000ha)",
          "Area under Crops(000ha)",
          "Area under Crops(000ha)",
          "Area under Crops(000ha)",
          "Area under Crops(000ha)",
          "Crop Production(000tonnes)",
          "Crop Production(000tonnes)",
          "Crop Production(000tonnes)",
          "Crop Production(000tonnes)",
          "Crop Production(000tonnes)",
          "Crop Production(000tonnes)",
          "Crop Production(000tonnes)",
          "Crop Production(000tonnes)",
          "Crop Production(000tonnes)",
          "Crop Production(000tonnes)",
          "Crop Production(000tonnes)",
          "Crop Production(000tonnes)",
          "Crop Production(000tonnes)",
          "Crop Production(000tonnes)",
          "Crop Yield per ha(tonnes)",
          "Crop Yield per ha(tonnes)",
          "Crop Yield per ha(tonnes)",
          "Crop Yield per ha(tonnes)",
          "Crop Yield per ha(tonnes)",
          "Crop Yield per ha(tonnes)",
          "Crop Yield per ha(tonnes)",
          "Crop Yield per ha(tonnes)",
          "Crop Yield per ha(tonnes)",
          "Crop Yield per ha(tonnes)",
          "Crop Yield per ha(tonnes)",
          "Crop Yield per ha(tonnes)",
          "Crop Yield per ha(tonnes)",
          "Crop Yield per ha(tonnes)"
         ],
         "type": "bar",
         "x": [
          2008,
          2009,
          2010,
          2011,
          2012,
          2013,
          2014,
          2015,
          2016,
          2017,
          2018,
          2019,
          2020,
          2021,
          2008,
          2009,
          2010,
          2011,
          2012,
          2013,
          2014,
          2015,
          2016,
          2017,
          2018,
          2019,
          2020,
          2021,
          2008,
          2009,
          2010,
          2011,
          2012,
          2013,
          2014,
          2015,
          2016,
          2017,
          2018,
          2019,
          2020,
          2021
         ],
         "y": [
          21.1,
          19.3,
          28.8,
          35.9,
          41,
          36,
          60.1,
          69.8,
          74.6,
          65,
          57.9,
          82.8,
          51.5,
          67.5,
          181.8,
          164.2,
          245.1,
          326.3,
          319.8,
          341.8,
          558.7,
          711.9,
          644.4,
          592.2,
          508.8,
          780.8,
          426.3,
          638.8,
          8.6,
          8.5,
          8.5,
          9.1,
          7.8,
          9.5,
          9.3,
          10.2,
          8.6,
          9.1,
          8.8,
          9.4,
          8.3,
          9.5
         ]
        },
        {
         "name": "Winter oats",
         "text": [
          "Area under Crops(000ha)",
          "Area under Crops(000ha)",
          "Area under Crops(000ha)",
          "Area under Crops(000ha)",
          "Area under Crops(000ha)",
          "Area under Crops(000ha)",
          "Area under Crops(000ha)",
          "Area under Crops(000ha)",
          "Area under Crops(000ha)",
          "Area under Crops(000ha)",
          "Area under Crops(000ha)",
          "Area under Crops(000ha)",
          "Area under Crops(000ha)",
          "Area under Crops(000ha)",
          "Crop Production(000tonnes)",
          "Crop Production(000tonnes)",
          "Crop Production(000tonnes)",
          "Crop Production(000tonnes)",
          "Crop Production(000tonnes)",
          "Crop Production(000tonnes)",
          "Crop Production(000tonnes)",
          "Crop Production(000tonnes)",
          "Crop Production(000tonnes)",
          "Crop Production(000tonnes)",
          "Crop Production(000tonnes)",
          "Crop Production(000tonnes)",
          "Crop Production(000tonnes)",
          "Crop Production(000tonnes)",
          "Crop Yield per ha(tonnes)",
          "Crop Yield per ha(tonnes)",
          "Crop Yield per ha(tonnes)",
          "Crop Yield per ha(tonnes)",
          "Crop Yield per ha(tonnes)",
          "Crop Yield per ha(tonnes)",
          "Crop Yield per ha(tonnes)",
          "Crop Yield per ha(tonnes)",
          "Crop Yield per ha(tonnes)",
          "Crop Yield per ha(tonnes)",
          "Crop Yield per ha(tonnes)",
          "Crop Yield per ha(tonnes)",
          "Crop Yield per ha(tonnes)",
          "Crop Yield per ha(tonnes)"
         ],
         "type": "bar",
         "x": [
          2008,
          2009,
          2010,
          2011,
          2012,
          2013,
          2014,
          2015,
          2016,
          2017,
          2018,
          2019,
          2020,
          2021,
          2008,
          2009,
          2010,
          2011,
          2012,
          2013,
          2014,
          2015,
          2016,
          2017,
          2018,
          2019,
          2020,
          2021,
          2008,
          2009,
          2010,
          2011,
          2012,
          2013,
          2014,
          2015,
          2016,
          2017,
          2018,
          2019,
          2020,
          2021
         ],
         "y": [
          18.7,
          9.1,
          10.3,
          9,
          9.9,
          5.4,
          10.1,
          11.4,
          13.2,
          14.4,
          10.2,
          16.6,
          8.3,
          13.9,
          147.9,
          71.3,
          80.5,
          70.5,
          68.2,
          43.4,
          87.8,
          104.7,
          110.3,
          128.7,
          80.1,
          147.2,
          67.6,
          126.9,
          7.9,
          7.8,
          7.8,
          7.8,
          6.9,
          8.1,
          8.7,
          9.2,
          8.3,
          8.9,
          7.9,
          8.9,
          8.2,
          9.1
         ]
        },
        {
         "name": "Winter wheat",
         "text": [
          "Area under Crops(000ha)",
          "Area under Crops(000ha)",
          "Area under Crops(000ha)",
          "Area under Crops(000ha)",
          "Area under Crops(000ha)",
          "Area under Crops(000ha)",
          "Area under Crops(000ha)",
          "Area under Crops(000ha)",
          "Area under Crops(000ha)",
          "Area under Crops(000ha)",
          "Area under Crops(000ha)",
          "Area under Crops(000ha)",
          "Area under Crops(000ha)",
          "Area under Crops(000ha)",
          "Crop Production(000tonnes)",
          "Crop Production(000tonnes)",
          "Crop Production(000tonnes)",
          "Crop Production(000tonnes)",
          "Crop Production(000tonnes)",
          "Crop Production(000tonnes)",
          "Crop Production(000tonnes)",
          "Crop Production(000tonnes)",
          "Crop Production(000tonnes)",
          "Crop Production(000tonnes)",
          "Crop Production(000tonnes)",
          "Crop Production(000tonnes)",
          "Crop Production(000tonnes)",
          "Crop Production(000tonnes)",
          "Crop Yield per ha(tonnes)",
          "Crop Yield per ha(tonnes)",
          "Crop Yield per ha(tonnes)",
          "Crop Yield per ha(tonnes)",
          "Crop Yield per ha(tonnes)",
          "Crop Yield per ha(tonnes)",
          "Crop Yield per ha(tonnes)",
          "Crop Yield per ha(tonnes)",
          "Crop Yield per ha(tonnes)",
          "Crop Yield per ha(tonnes)",
          "Crop Yield per ha(tonnes)",
          "Crop Yield per ha(tonnes)",
          "Crop Yield per ha(tonnes)",
          "Crop Yield per ha(tonnes)"
         ],
         "type": "bar",
         "x": [
          2008,
          2009,
          2010,
          2011,
          2012,
          2013,
          2014,
          2015,
          2016,
          2017,
          2018,
          2019,
          2020,
          2021,
          2008,
          2009,
          2010,
          2011,
          2012,
          2013,
          2014,
          2015,
          2016,
          2017,
          2018,
          2019,
          2020,
          2021,
          2008,
          2009,
          2010,
          2011,
          2012,
          2013,
          2014,
          2015,
          2016,
          2017,
          2018,
          2019,
          2020,
          2021
         ],
         "y": [
          87.5,
          64.3,
          59.8,
          77.7,
          84.6,
          45.4,
          65.1,
          55.3,
          60.4,
          60.3,
          54.4,
          59.7,
          35.4,
          56.2,
          839.9,
          552.7,
          532,
          792.9,
          625.7,
          422.1,
          663.4,
          610.1,
          587.5,
          626.6,
          484.6,
          604.6,
          307.6,
          609.7,
          9.6,
          8.6,
          8.9,
          10.2,
          7.4,
          9.3,
          10.2,
          11,
          9.7,
          10.4,
          8.9,
          10.1,
          8.7,
          10.8
         ]
        }
       ],
       "layout": {
        "template": {
         "data": {
          "bar": [
           {
            "error_x": {
             "color": "#2a3f5f"
            },
            "error_y": {
             "color": "#2a3f5f"
            },
            "marker": {
             "line": {
              "color": "#E5ECF6",
              "width": 0.5
             },
             "pattern": {
              "fillmode": "overlay",
              "size": 10,
              "solidity": 0.2
             }
            },
            "type": "bar"
           }
          ],
          "barpolar": [
           {
            "marker": {
             "line": {
              "color": "#E5ECF6",
              "width": 0.5
             },
             "pattern": {
              "fillmode": "overlay",
              "size": 10,
              "solidity": 0.2
             }
            },
            "type": "barpolar"
           }
          ],
          "carpet": [
           {
            "aaxis": {
             "endlinecolor": "#2a3f5f",
             "gridcolor": "white",
             "linecolor": "white",
             "minorgridcolor": "white",
             "startlinecolor": "#2a3f5f"
            },
            "baxis": {
             "endlinecolor": "#2a3f5f",
             "gridcolor": "white",
             "linecolor": "white",
             "minorgridcolor": "white",
             "startlinecolor": "#2a3f5f"
            },
            "type": "carpet"
           }
          ],
          "choropleth": [
           {
            "colorbar": {
             "outlinewidth": 0,
             "ticks": ""
            },
            "type": "choropleth"
           }
          ],
          "contour": [
           {
            "colorbar": {
             "outlinewidth": 0,
             "ticks": ""
            },
            "colorscale": [
             [
              0,
              "#0d0887"
             ],
             [
              0.1111111111111111,
              "#46039f"
             ],
             [
              0.2222222222222222,
              "#7201a8"
             ],
             [
              0.3333333333333333,
              "#9c179e"
             ],
             [
              0.4444444444444444,
              "#bd3786"
             ],
             [
              0.5555555555555556,
              "#d8576b"
             ],
             [
              0.6666666666666666,
              "#ed7953"
             ],
             [
              0.7777777777777778,
              "#fb9f3a"
             ],
             [
              0.8888888888888888,
              "#fdca26"
             ],
             [
              1,
              "#f0f921"
             ]
            ],
            "type": "contour"
           }
          ],
          "contourcarpet": [
           {
            "colorbar": {
             "outlinewidth": 0,
             "ticks": ""
            },
            "type": "contourcarpet"
           }
          ],
          "heatmap": [
           {
            "colorbar": {
             "outlinewidth": 0,
             "ticks": ""
            },
            "colorscale": [
             [
              0,
              "#0d0887"
             ],
             [
              0.1111111111111111,
              "#46039f"
             ],
             [
              0.2222222222222222,
              "#7201a8"
             ],
             [
              0.3333333333333333,
              "#9c179e"
             ],
             [
              0.4444444444444444,
              "#bd3786"
             ],
             [
              0.5555555555555556,
              "#d8576b"
             ],
             [
              0.6666666666666666,
              "#ed7953"
             ],
             [
              0.7777777777777778,
              "#fb9f3a"
             ],
             [
              0.8888888888888888,
              "#fdca26"
             ],
             [
              1,
              "#f0f921"
             ]
            ],
            "type": "heatmap"
           }
          ],
          "heatmapgl": [
           {
            "colorbar": {
             "outlinewidth": 0,
             "ticks": ""
            },
            "colorscale": [
             [
              0,
              "#0d0887"
             ],
             [
              0.1111111111111111,
              "#46039f"
             ],
             [
              0.2222222222222222,
              "#7201a8"
             ],
             [
              0.3333333333333333,
              "#9c179e"
             ],
             [
              0.4444444444444444,
              "#bd3786"
             ],
             [
              0.5555555555555556,
              "#d8576b"
             ],
             [
              0.6666666666666666,
              "#ed7953"
             ],
             [
              0.7777777777777778,
              "#fb9f3a"
             ],
             [
              0.8888888888888888,
              "#fdca26"
             ],
             [
              1,
              "#f0f921"
             ]
            ],
            "type": "heatmapgl"
           }
          ],
          "histogram": [
           {
            "marker": {
             "pattern": {
              "fillmode": "overlay",
              "size": 10,
              "solidity": 0.2
             }
            },
            "type": "histogram"
           }
          ],
          "histogram2d": [
           {
            "colorbar": {
             "outlinewidth": 0,
             "ticks": ""
            },
            "colorscale": [
             [
              0,
              "#0d0887"
             ],
             [
              0.1111111111111111,
              "#46039f"
             ],
             [
              0.2222222222222222,
              "#7201a8"
             ],
             [
              0.3333333333333333,
              "#9c179e"
             ],
             [
              0.4444444444444444,
              "#bd3786"
             ],
             [
              0.5555555555555556,
              "#d8576b"
             ],
             [
              0.6666666666666666,
              "#ed7953"
             ],
             [
              0.7777777777777778,
              "#fb9f3a"
             ],
             [
              0.8888888888888888,
              "#fdca26"
             ],
             [
              1,
              "#f0f921"
             ]
            ],
            "type": "histogram2d"
           }
          ],
          "histogram2dcontour": [
           {
            "colorbar": {
             "outlinewidth": 0,
             "ticks": ""
            },
            "colorscale": [
             [
              0,
              "#0d0887"
             ],
             [
              0.1111111111111111,
              "#46039f"
             ],
             [
              0.2222222222222222,
              "#7201a8"
             ],
             [
              0.3333333333333333,
              "#9c179e"
             ],
             [
              0.4444444444444444,
              "#bd3786"
             ],
             [
              0.5555555555555556,
              "#d8576b"
             ],
             [
              0.6666666666666666,
              "#ed7953"
             ],
             [
              0.7777777777777778,
              "#fb9f3a"
             ],
             [
              0.8888888888888888,
              "#fdca26"
             ],
             [
              1,
              "#f0f921"
             ]
            ],
            "type": "histogram2dcontour"
           }
          ],
          "mesh3d": [
           {
            "colorbar": {
             "outlinewidth": 0,
             "ticks": ""
            },
            "type": "mesh3d"
           }
          ],
          "parcoords": [
           {
            "line": {
             "colorbar": {
              "outlinewidth": 0,
              "ticks": ""
             }
            },
            "type": "parcoords"
           }
          ],
          "pie": [
           {
            "automargin": true,
            "type": "pie"
           }
          ],
          "scatter": [
           {
            "marker": {
             "colorbar": {
              "outlinewidth": 0,
              "ticks": ""
             }
            },
            "type": "scatter"
           }
          ],
          "scatter3d": [
           {
            "line": {
             "colorbar": {
              "outlinewidth": 0,
              "ticks": ""
             }
            },
            "marker": {
             "colorbar": {
              "outlinewidth": 0,
              "ticks": ""
             }
            },
            "type": "scatter3d"
           }
          ],
          "scattercarpet": [
           {
            "marker": {
             "colorbar": {
              "outlinewidth": 0,
              "ticks": ""
             }
            },
            "type": "scattercarpet"
           }
          ],
          "scattergeo": [
           {
            "marker": {
             "colorbar": {
              "outlinewidth": 0,
              "ticks": ""
             }
            },
            "type": "scattergeo"
           }
          ],
          "scattergl": [
           {
            "marker": {
             "colorbar": {
              "outlinewidth": 0,
              "ticks": ""
             }
            },
            "type": "scattergl"
           }
          ],
          "scattermapbox": [
           {
            "marker": {
             "colorbar": {
              "outlinewidth": 0,
              "ticks": ""
             }
            },
            "type": "scattermapbox"
           }
          ],
          "scatterpolar": [
           {
            "marker": {
             "colorbar": {
              "outlinewidth": 0,
              "ticks": ""
             }
            },
            "type": "scatterpolar"
           }
          ],
          "scatterpolargl": [
           {
            "marker": {
             "colorbar": {
              "outlinewidth": 0,
              "ticks": ""
             }
            },
            "type": "scatterpolargl"
           }
          ],
          "scatterternary": [
           {
            "marker": {
             "colorbar": {
              "outlinewidth": 0,
              "ticks": ""
             }
            },
            "type": "scatterternary"
           }
          ],
          "surface": [
           {
            "colorbar": {
             "outlinewidth": 0,
             "ticks": ""
            },
            "colorscale": [
             [
              0,
              "#0d0887"
             ],
             [
              0.1111111111111111,
              "#46039f"
             ],
             [
              0.2222222222222222,
              "#7201a8"
             ],
             [
              0.3333333333333333,
              "#9c179e"
             ],
             [
              0.4444444444444444,
              "#bd3786"
             ],
             [
              0.5555555555555556,
              "#d8576b"
             ],
             [
              0.6666666666666666,
              "#ed7953"
             ],
             [
              0.7777777777777778,
              "#fb9f3a"
             ],
             [
              0.8888888888888888,
              "#fdca26"
             ],
             [
              1,
              "#f0f921"
             ]
            ],
            "type": "surface"
           }
          ],
          "table": [
           {
            "cells": {
             "fill": {
              "color": "#EBF0F8"
             },
             "line": {
              "color": "white"
             }
            },
            "header": {
             "fill": {
              "color": "#C8D4E3"
             },
             "line": {
              "color": "white"
             }
            },
            "type": "table"
           }
          ]
         },
         "layout": {
          "annotationdefaults": {
           "arrowcolor": "#2a3f5f",
           "arrowhead": 0,
           "arrowwidth": 1
          },
          "autotypenumbers": "strict",
          "coloraxis": {
           "colorbar": {
            "outlinewidth": 0,
            "ticks": ""
           }
          },
          "colorscale": {
           "diverging": [
            [
             0,
             "#8e0152"
            ],
            [
             0.1,
             "#c51b7d"
            ],
            [
             0.2,
             "#de77ae"
            ],
            [
             0.3,
             "#f1b6da"
            ],
            [
             0.4,
             "#fde0ef"
            ],
            [
             0.5,
             "#f7f7f7"
            ],
            [
             0.6,
             "#e6f5d0"
            ],
            [
             0.7,
             "#b8e186"
            ],
            [
             0.8,
             "#7fbc41"
            ],
            [
             0.9,
             "#4d9221"
            ],
            [
             1,
             "#276419"
            ]
           ],
           "sequential": [
            [
             0,
             "#0d0887"
            ],
            [
             0.1111111111111111,
             "#46039f"
            ],
            [
             0.2222222222222222,
             "#7201a8"
            ],
            [
             0.3333333333333333,
             "#9c179e"
            ],
            [
             0.4444444444444444,
             "#bd3786"
            ],
            [
             0.5555555555555556,
             "#d8576b"
            ],
            [
             0.6666666666666666,
             "#ed7953"
            ],
            [
             0.7777777777777778,
             "#fb9f3a"
            ],
            [
             0.8888888888888888,
             "#fdca26"
            ],
            [
             1,
             "#f0f921"
            ]
           ],
           "sequentialminus": [
            [
             0,
             "#0d0887"
            ],
            [
             0.1111111111111111,
             "#46039f"
            ],
            [
             0.2222222222222222,
             "#7201a8"
            ],
            [
             0.3333333333333333,
             "#9c179e"
            ],
            [
             0.4444444444444444,
             "#bd3786"
            ],
            [
             0.5555555555555556,
             "#d8576b"
            ],
            [
             0.6666666666666666,
             "#ed7953"
            ],
            [
             0.7777777777777778,
             "#fb9f3a"
            ],
            [
             0.8888888888888888,
             "#fdca26"
            ],
            [
             1,
             "#f0f921"
            ]
           ]
          },
          "colorway": [
           "#636efa",
           "#EF553B",
           "#00cc96",
           "#ab63fa",
           "#FFA15A",
           "#19d3f3",
           "#FF6692",
           "#B6E880",
           "#FF97FF",
           "#FECB52"
          ],
          "font": {
           "color": "#2a3f5f"
          },
          "geo": {
           "bgcolor": "white",
           "lakecolor": "white",
           "landcolor": "#E5ECF6",
           "showlakes": true,
           "showland": true,
           "subunitcolor": "white"
          },
          "hoverlabel": {
           "align": "left"
          },
          "hovermode": "closest",
          "mapbox": {
           "style": "light"
          },
          "paper_bgcolor": "white",
          "plot_bgcolor": "#E5ECF6",
          "polar": {
           "angularaxis": {
            "gridcolor": "white",
            "linecolor": "white",
            "ticks": ""
           },
           "bgcolor": "#E5ECF6",
           "radialaxis": {
            "gridcolor": "white",
            "linecolor": "white",
            "ticks": ""
           }
          },
          "scene": {
           "xaxis": {
            "backgroundcolor": "#E5ECF6",
            "gridcolor": "white",
            "gridwidth": 2,
            "linecolor": "white",
            "showbackground": true,
            "ticks": "",
            "zerolinecolor": "white"
           },
           "yaxis": {
            "backgroundcolor": "#E5ECF6",
            "gridcolor": "white",
            "gridwidth": 2,
            "linecolor": "white",
            "showbackground": true,
            "ticks": "",
            "zerolinecolor": "white"
           },
           "zaxis": {
            "backgroundcolor": "#E5ECF6",
            "gridcolor": "white",
            "gridwidth": 2,
            "linecolor": "white",
            "showbackground": true,
            "ticks": "",
            "zerolinecolor": "white"
           }
          },
          "shapedefaults": {
           "line": {
            "color": "#2a3f5f"
           }
          },
          "ternary": {
           "aaxis": {
            "gridcolor": "white",
            "linecolor": "white",
            "ticks": ""
           },
           "baxis": {
            "gridcolor": "white",
            "linecolor": "white",
            "ticks": ""
           },
           "bgcolor": "#E5ECF6",
           "caxis": {
            "gridcolor": "white",
            "linecolor": "white",
            "ticks": ""
           }
          },
          "title": {
           "x": 0.05
          },
          "xaxis": {
           "automargin": true,
           "gridcolor": "white",
           "linecolor": "white",
           "ticks": "",
           "title": {
            "standoff": 15
           },
           "zerolinecolor": "white",
           "zerolinewidth": 2
          },
          "yaxis": {
           "automargin": true,
           "gridcolor": "white",
           "linecolor": "white",
           "ticks": "",
           "title": {
            "standoff": 15
           },
           "zerolinecolor": "white",
           "zerolinewidth": 2
          }
         }
        },
        "title": {
         "text": "Bar Chart to Show Comparisons & Volume (2004 to 2011)"
        },
        "xaxis": {
         "title": {
          "text": "Year"
         }
        },
        "yaxis": {
         "title": {
          "text": "Values"
         }
        }
       }
      },
      "text/html": [
       "<div>                            <div id=\"01012d79-26a3-4730-b86d-37a4dea77c07\" class=\"plotly-graph-div\" style=\"height:525px; width:100%;\"></div>            <script type=\"text/javascript\">                require([\"plotly\"], function(Plotly) {                    window.PLOTLYENV=window.PLOTLYENV || {};                                    if (document.getElementById(\"01012d79-26a3-4730-b86d-37a4dea77c07\")) {                    Plotly.newPlot(                        \"01012d79-26a3-4730-b86d-37a4dea77c07\",                        [{\"name\":\"Spring barley\",\"text\":[\"Area under Crops(000ha)\",\"Area under Crops(000ha)\",\"Area under Crops(000ha)\",\"Area under Crops(000ha)\",\"Area under Crops(000ha)\",\"Area under Crops(000ha)\",\"Area under Crops(000ha)\",\"Area under Crops(000ha)\",\"Area under Crops(000ha)\",\"Area under Crops(000ha)\",\"Area under Crops(000ha)\",\"Area under Crops(000ha)\",\"Area under Crops(000ha)\",\"Area under Crops(000ha)\",\"Crop Production(000tonnes)\",\"Crop Production(000tonnes)\",\"Crop Production(000tonnes)\",\"Crop Production(000tonnes)\",\"Crop Production(000tonnes)\",\"Crop Production(000tonnes)\",\"Crop Production(000tonnes)\",\"Crop Production(000tonnes)\",\"Crop Production(000tonnes)\",\"Crop Production(000tonnes)\",\"Crop Production(000tonnes)\",\"Crop Production(000tonnes)\",\"Crop Production(000tonnes)\",\"Crop Production(000tonnes)\",\"Crop Yield per ha(tonnes)\",\"Crop Yield per ha(tonnes)\",\"Crop Yield per ha(tonnes)\",\"Crop Yield per ha(tonnes)\",\"Crop Yield per ha(tonnes)\",\"Crop Yield per ha(tonnes)\",\"Crop Yield per ha(tonnes)\",\"Crop Yield per ha(tonnes)\",\"Crop Yield per ha(tonnes)\",\"Crop Yield per ha(tonnes)\",\"Crop Yield per ha(tonnes)\",\"Crop Yield per ha(tonnes)\",\"Crop Yield per ha(tonnes)\",\"Crop Yield per ha(tonnes)\"],\"x\":[2008,2009,2010,2011,2012,2013,2014,2015,2016,2017,2018,2019,2020,2021,2008,2009,2010,2011,2012,2013,2014,2015,2016,2017,2018,2019,2020,2021,2008,2009,2010,2011,2012,2013,2014,2015,2016,2017,2018,2019,2020,2021],\"y\":[166.0,174.3,146.0,144.8,151.8,183.5,155.6,133.0,114.6,115.2,127.4,96.5,141.7,116.4,1112.4,1063.1,977.9,1085.8,940.9,1320.9,1172.5,1027.4,835.5,913.7,716.1,776.7,1004.0,917.6,6.7,6.1,6.7,7.5,6.2,7.2,7.5,7.7,7.3,7.9,5.6,8.0,7.1,7.9],\"type\":\"bar\"},{\"name\":\"Spring oats\",\"text\":[\"Area under Crops(000ha)\",\"Area under Crops(000ha)\",\"Area under Crops(000ha)\",\"Area under Crops(000ha)\",\"Area under Crops(000ha)\",\"Area under Crops(000ha)\",\"Area under Crops(000ha)\",\"Area under Crops(000ha)\",\"Area under Crops(000ha)\",\"Area under Crops(000ha)\",\"Area under Crops(000ha)\",\"Area under Crops(000ha)\",\"Area under Crops(000ha)\",\"Area under Crops(000ha)\",\"Crop Production(000tonnes)\",\"Crop Production(000tonnes)\",\"Crop Production(000tonnes)\",\"Crop Production(000tonnes)\",\"Crop Production(000tonnes)\",\"Crop Production(000tonnes)\",\"Crop Production(000tonnes)\",\"Crop Production(000tonnes)\",\"Crop Production(000tonnes)\",\"Crop Production(000tonnes)\",\"Crop Production(000tonnes)\",\"Crop Production(000tonnes)\",\"Crop Production(000tonnes)\",\"Crop Production(000tonnes)\",\"Crop Yield per ha(tonnes)\",\"Crop Yield per ha(tonnes)\",\"Crop Yield per ha(tonnes)\",\"Crop Yield per ha(tonnes)\",\"Crop Yield per ha(tonnes)\",\"Crop Yield per ha(tonnes)\",\"Crop Yield per ha(tonnes)\",\"Crop Yield per ha(tonnes)\",\"Crop Yield per ha(tonnes)\",\"Crop Yield per ha(tonnes)\",\"Crop Yield per ha(tonnes)\",\"Crop Yield per ha(tonnes)\",\"Crop Yield per ha(tonnes)\",\"Crop Yield per ha(tonnes)\"],\"x\":[2008,2009,2010,2011,2012,2013,2014,2015,2016,2017,2018,2019,2020,2021,2008,2009,2010,2011,2012,2013,2014,2015,2016,2017,2018,2019,2020,2021,2008,2009,2010,2011,2012,2013,2014,2015,2016,2017,2018,2019,2020,2021],\"y\":[4.2,11.3,9.4,12.4,13.8,21.3,8.5,12.1,10.0,10.0,7.6,7.2,17.2,14.5,26.4,74.4,67.6,97.6,88.4,149.1,61.9,93.0,73.0,76.4,42.2,55.5,122.3,111.4,6.3,6.6,7.2,7.9,6.4,7.0,7.3,7.7,7.3,7.6,5.6,7.7,7.1,7.7],\"type\":\"bar\"},{\"name\":\"Spring wheat\",\"text\":[\"Area under Crops(000ha)\",\"Area under Crops(000ha)\",\"Area under Crops(000ha)\",\"Area under Crops(000ha)\",\"Area under Crops(000ha)\",\"Area under Crops(000ha)\",\"Area under Crops(000ha)\",\"Area under Crops(000ha)\",\"Area under Crops(000ha)\",\"Area under Crops(000ha)\",\"Area under Crops(000ha)\",\"Area under Crops(000ha)\",\"Area under Crops(000ha)\",\"Area under Crops(000ha)\",\"Crop Production(000tonnes)\",\"Crop Production(000tonnes)\",\"Crop Production(000tonnes)\",\"Crop Production(000tonnes)\",\"Crop Production(000tonnes)\",\"Crop Production(000tonnes)\",\"Crop Production(000tonnes)\",\"Crop Production(000tonnes)\",\"Crop Production(000tonnes)\",\"Crop Production(000tonnes)\",\"Crop Production(000tonnes)\",\"Crop Production(000tonnes)\",\"Crop Production(000tonnes)\",\"Crop Production(000tonnes)\",\"Crop Yield per ha(tonnes)\",\"Crop Yield per ha(tonnes)\",\"Crop Yield per ha(tonnes)\",\"Crop Yield per ha(tonnes)\",\"Crop Yield per ha(tonnes)\",\"Crop Yield per ha(tonnes)\",\"Crop Yield per ha(tonnes)\",\"Crop Yield per ha(tonnes)\",\"Crop Yield per ha(tonnes)\",\"Crop Yield per ha(tonnes)\",\"Crop Yield per ha(tonnes)\",\"Crop Yield per ha(tonnes)\",\"Crop Yield per ha(tonnes)\",\"Crop Yield per ha(tonnes)\"],\"x\":[2008,2009,2010,2011,2012,2013,2014,2015,2016,2017,2018,2019,2020,2021,2008,2009,2010,2011,2012,2013,2014,2015,2016,2017,2018,2019,2020,2021,2008,2009,2010,2011,2012,2013,2014,2015,2016,2017,2018,2019,2020,2021],\"y\":[23.2,20.2,18.0,16.4,13.5,15.2,6.5,10.1,7.5,6.8,3.6,3.8,11.5,6.1,153.0,137.4,137.2,136.4,82.2,123.3,53.6,86.5,60.3,55.2,22.2,31.4,85.4,52.7,6.6,6.8,7.6,8.3,6.1,8.1,8.3,8.6,8.0,8.2,6.2,8.3,7.4,8.7],\"type\":\"bar\"},{\"name\":\"Winter barley\",\"text\":[\"Area under Crops(000ha)\",\"Area under Crops(000ha)\",\"Area under Crops(000ha)\",\"Area under Crops(000ha)\",\"Area under Crops(000ha)\",\"Area under Crops(000ha)\",\"Area under Crops(000ha)\",\"Area under Crops(000ha)\",\"Area under Crops(000ha)\",\"Area under Crops(000ha)\",\"Area under Crops(000ha)\",\"Area under Crops(000ha)\",\"Area under Crops(000ha)\",\"Area under Crops(000ha)\",\"Crop Production(000tonnes)\",\"Crop Production(000tonnes)\",\"Crop Production(000tonnes)\",\"Crop Production(000tonnes)\",\"Crop Production(000tonnes)\",\"Crop Production(000tonnes)\",\"Crop Production(000tonnes)\",\"Crop Production(000tonnes)\",\"Crop Production(000tonnes)\",\"Crop Production(000tonnes)\",\"Crop Production(000tonnes)\",\"Crop Production(000tonnes)\",\"Crop Production(000tonnes)\",\"Crop Production(000tonnes)\",\"Crop Yield per ha(tonnes)\",\"Crop Yield per ha(tonnes)\",\"Crop Yield per ha(tonnes)\",\"Crop Yield per ha(tonnes)\",\"Crop Yield per ha(tonnes)\",\"Crop Yield per ha(tonnes)\",\"Crop Yield per ha(tonnes)\",\"Crop Yield per ha(tonnes)\",\"Crop Yield per ha(tonnes)\",\"Crop Yield per ha(tonnes)\",\"Crop Yield per ha(tonnes)\",\"Crop Yield per ha(tonnes)\",\"Crop Yield per ha(tonnes)\",\"Crop Yield per ha(tonnes)\"],\"x\":[2008,2009,2010,2011,2012,2013,2014,2015,2016,2017,2018,2019,2020,2021,2008,2009,2010,2011,2012,2013,2014,2015,2016,2017,2018,2019,2020,2021,2008,2009,2010,2011,2012,2013,2014,2015,2016,2017,2018,2019,2020,2021],\"y\":[21.1,19.3,28.8,35.9,41.0,36.0,60.1,69.8,74.6,65.0,57.9,82.8,51.5,67.5,181.8,164.2,245.1,326.3,319.8,341.8,558.7,711.9,644.4,592.2,508.8,780.8,426.3,638.8,8.6,8.5,8.5,9.1,7.8,9.5,9.3,10.2,8.6,9.1,8.8,9.4,8.3,9.5],\"type\":\"bar\"},{\"name\":\"Winter oats\",\"text\":[\"Area under Crops(000ha)\",\"Area under Crops(000ha)\",\"Area under Crops(000ha)\",\"Area under Crops(000ha)\",\"Area under Crops(000ha)\",\"Area under Crops(000ha)\",\"Area under Crops(000ha)\",\"Area under Crops(000ha)\",\"Area under Crops(000ha)\",\"Area under Crops(000ha)\",\"Area under Crops(000ha)\",\"Area under Crops(000ha)\",\"Area under Crops(000ha)\",\"Area under Crops(000ha)\",\"Crop Production(000tonnes)\",\"Crop Production(000tonnes)\",\"Crop Production(000tonnes)\",\"Crop Production(000tonnes)\",\"Crop Production(000tonnes)\",\"Crop Production(000tonnes)\",\"Crop Production(000tonnes)\",\"Crop Production(000tonnes)\",\"Crop Production(000tonnes)\",\"Crop Production(000tonnes)\",\"Crop Production(000tonnes)\",\"Crop Production(000tonnes)\",\"Crop Production(000tonnes)\",\"Crop Production(000tonnes)\",\"Crop Yield per ha(tonnes)\",\"Crop Yield per ha(tonnes)\",\"Crop Yield per ha(tonnes)\",\"Crop Yield per ha(tonnes)\",\"Crop Yield per ha(tonnes)\",\"Crop Yield per ha(tonnes)\",\"Crop Yield per ha(tonnes)\",\"Crop Yield per ha(tonnes)\",\"Crop Yield per ha(tonnes)\",\"Crop Yield per ha(tonnes)\",\"Crop Yield per ha(tonnes)\",\"Crop Yield per ha(tonnes)\",\"Crop Yield per ha(tonnes)\",\"Crop Yield per ha(tonnes)\"],\"x\":[2008,2009,2010,2011,2012,2013,2014,2015,2016,2017,2018,2019,2020,2021,2008,2009,2010,2011,2012,2013,2014,2015,2016,2017,2018,2019,2020,2021,2008,2009,2010,2011,2012,2013,2014,2015,2016,2017,2018,2019,2020,2021],\"y\":[18.7,9.1,10.3,9.0,9.9,5.4,10.1,11.4,13.2,14.4,10.2,16.6,8.3,13.9,147.9,71.3,80.5,70.5,68.2,43.4,87.8,104.7,110.3,128.7,80.1,147.2,67.6,126.9,7.9,7.8,7.8,7.8,6.9,8.1,8.7,9.2,8.3,8.9,7.9,8.9,8.2,9.1],\"type\":\"bar\"},{\"name\":\"Winter wheat\",\"text\":[\"Area under Crops(000ha)\",\"Area under Crops(000ha)\",\"Area under Crops(000ha)\",\"Area under Crops(000ha)\",\"Area under Crops(000ha)\",\"Area under Crops(000ha)\",\"Area under Crops(000ha)\",\"Area under Crops(000ha)\",\"Area under Crops(000ha)\",\"Area under Crops(000ha)\",\"Area under Crops(000ha)\",\"Area under Crops(000ha)\",\"Area under Crops(000ha)\",\"Area under Crops(000ha)\",\"Crop Production(000tonnes)\",\"Crop Production(000tonnes)\",\"Crop Production(000tonnes)\",\"Crop Production(000tonnes)\",\"Crop Production(000tonnes)\",\"Crop Production(000tonnes)\",\"Crop Production(000tonnes)\",\"Crop Production(000tonnes)\",\"Crop Production(000tonnes)\",\"Crop Production(000tonnes)\",\"Crop Production(000tonnes)\",\"Crop Production(000tonnes)\",\"Crop Production(000tonnes)\",\"Crop Production(000tonnes)\",\"Crop Yield per ha(tonnes)\",\"Crop Yield per ha(tonnes)\",\"Crop Yield per ha(tonnes)\",\"Crop Yield per ha(tonnes)\",\"Crop Yield per ha(tonnes)\",\"Crop Yield per ha(tonnes)\",\"Crop Yield per ha(tonnes)\",\"Crop Yield per ha(tonnes)\",\"Crop Yield per ha(tonnes)\",\"Crop Yield per ha(tonnes)\",\"Crop Yield per ha(tonnes)\",\"Crop Yield per ha(tonnes)\",\"Crop Yield per ha(tonnes)\",\"Crop Yield per ha(tonnes)\"],\"x\":[2008,2009,2010,2011,2012,2013,2014,2015,2016,2017,2018,2019,2020,2021,2008,2009,2010,2011,2012,2013,2014,2015,2016,2017,2018,2019,2020,2021,2008,2009,2010,2011,2012,2013,2014,2015,2016,2017,2018,2019,2020,2021],\"y\":[87.5,64.3,59.8,77.7,84.6,45.4,65.1,55.3,60.4,60.3,54.4,59.7,35.4,56.2,839.9,552.7,532.0,792.9,625.7,422.1,663.4,610.1,587.5,626.6,484.6,604.6,307.6,609.7,9.6,8.6,8.9,10.2,7.4,9.3,10.2,11.0,9.7,10.4,8.9,10.1,8.7,10.8],\"type\":\"bar\"}],                        {\"template\":{\"data\":{\"bar\":[{\"error_x\":{\"color\":\"#2a3f5f\"},\"error_y\":{\"color\":\"#2a3f5f\"},\"marker\":{\"line\":{\"color\":\"#E5ECF6\",\"width\":0.5},\"pattern\":{\"fillmode\":\"overlay\",\"size\":10,\"solidity\":0.2}},\"type\":\"bar\"}],\"barpolar\":[{\"marker\":{\"line\":{\"color\":\"#E5ECF6\",\"width\":0.5},\"pattern\":{\"fillmode\":\"overlay\",\"size\":10,\"solidity\":0.2}},\"type\":\"barpolar\"}],\"carpet\":[{\"aaxis\":{\"endlinecolor\":\"#2a3f5f\",\"gridcolor\":\"white\",\"linecolor\":\"white\",\"minorgridcolor\":\"white\",\"startlinecolor\":\"#2a3f5f\"},\"baxis\":{\"endlinecolor\":\"#2a3f5f\",\"gridcolor\":\"white\",\"linecolor\":\"white\",\"minorgridcolor\":\"white\",\"startlinecolor\":\"#2a3f5f\"},\"type\":\"carpet\"}],\"choropleth\":[{\"colorbar\":{\"outlinewidth\":0,\"ticks\":\"\"},\"type\":\"choropleth\"}],\"contour\":[{\"colorbar\":{\"outlinewidth\":0,\"ticks\":\"\"},\"colorscale\":[[0.0,\"#0d0887\"],[0.1111111111111111,\"#46039f\"],[0.2222222222222222,\"#7201a8\"],[0.3333333333333333,\"#9c179e\"],[0.4444444444444444,\"#bd3786\"],[0.5555555555555556,\"#d8576b\"],[0.6666666666666666,\"#ed7953\"],[0.7777777777777778,\"#fb9f3a\"],[0.8888888888888888,\"#fdca26\"],[1.0,\"#f0f921\"]],\"type\":\"contour\"}],\"contourcarpet\":[{\"colorbar\":{\"outlinewidth\":0,\"ticks\":\"\"},\"type\":\"contourcarpet\"}],\"heatmap\":[{\"colorbar\":{\"outlinewidth\":0,\"ticks\":\"\"},\"colorscale\":[[0.0,\"#0d0887\"],[0.1111111111111111,\"#46039f\"],[0.2222222222222222,\"#7201a8\"],[0.3333333333333333,\"#9c179e\"],[0.4444444444444444,\"#bd3786\"],[0.5555555555555556,\"#d8576b\"],[0.6666666666666666,\"#ed7953\"],[0.7777777777777778,\"#fb9f3a\"],[0.8888888888888888,\"#fdca26\"],[1.0,\"#f0f921\"]],\"type\":\"heatmap\"}],\"heatmapgl\":[{\"colorbar\":{\"outlinewidth\":0,\"ticks\":\"\"},\"colorscale\":[[0.0,\"#0d0887\"],[0.1111111111111111,\"#46039f\"],[0.2222222222222222,\"#7201a8\"],[0.3333333333333333,\"#9c179e\"],[0.4444444444444444,\"#bd3786\"],[0.5555555555555556,\"#d8576b\"],[0.6666666666666666,\"#ed7953\"],[0.7777777777777778,\"#fb9f3a\"],[0.8888888888888888,\"#fdca26\"],[1.0,\"#f0f921\"]],\"type\":\"heatmapgl\"}],\"histogram\":[{\"marker\":{\"pattern\":{\"fillmode\":\"overlay\",\"size\":10,\"solidity\":0.2}},\"type\":\"histogram\"}],\"histogram2d\":[{\"colorbar\":{\"outlinewidth\":0,\"ticks\":\"\"},\"colorscale\":[[0.0,\"#0d0887\"],[0.1111111111111111,\"#46039f\"],[0.2222222222222222,\"#7201a8\"],[0.3333333333333333,\"#9c179e\"],[0.4444444444444444,\"#bd3786\"],[0.5555555555555556,\"#d8576b\"],[0.6666666666666666,\"#ed7953\"],[0.7777777777777778,\"#fb9f3a\"],[0.8888888888888888,\"#fdca26\"],[1.0,\"#f0f921\"]],\"type\":\"histogram2d\"}],\"histogram2dcontour\":[{\"colorbar\":{\"outlinewidth\":0,\"ticks\":\"\"},\"colorscale\":[[0.0,\"#0d0887\"],[0.1111111111111111,\"#46039f\"],[0.2222222222222222,\"#7201a8\"],[0.3333333333333333,\"#9c179e\"],[0.4444444444444444,\"#bd3786\"],[0.5555555555555556,\"#d8576b\"],[0.6666666666666666,\"#ed7953\"],[0.7777777777777778,\"#fb9f3a\"],[0.8888888888888888,\"#fdca26\"],[1.0,\"#f0f921\"]],\"type\":\"histogram2dcontour\"}],\"mesh3d\":[{\"colorbar\":{\"outlinewidth\":0,\"ticks\":\"\"},\"type\":\"mesh3d\"}],\"parcoords\":[{\"line\":{\"colorbar\":{\"outlinewidth\":0,\"ticks\":\"\"}},\"type\":\"parcoords\"}],\"pie\":[{\"automargin\":true,\"type\":\"pie\"}],\"scatter\":[{\"marker\":{\"colorbar\":{\"outlinewidth\":0,\"ticks\":\"\"}},\"type\":\"scatter\"}],\"scatter3d\":[{\"line\":{\"colorbar\":{\"outlinewidth\":0,\"ticks\":\"\"}},\"marker\":{\"colorbar\":{\"outlinewidth\":0,\"ticks\":\"\"}},\"type\":\"scatter3d\"}],\"scattercarpet\":[{\"marker\":{\"colorbar\":{\"outlinewidth\":0,\"ticks\":\"\"}},\"type\":\"scattercarpet\"}],\"scattergeo\":[{\"marker\":{\"colorbar\":{\"outlinewidth\":0,\"ticks\":\"\"}},\"type\":\"scattergeo\"}],\"scattergl\":[{\"marker\":{\"colorbar\":{\"outlinewidth\":0,\"ticks\":\"\"}},\"type\":\"scattergl\"}],\"scattermapbox\":[{\"marker\":{\"colorbar\":{\"outlinewidth\":0,\"ticks\":\"\"}},\"type\":\"scattermapbox\"}],\"scatterpolar\":[{\"marker\":{\"colorbar\":{\"outlinewidth\":0,\"ticks\":\"\"}},\"type\":\"scatterpolar\"}],\"scatterpolargl\":[{\"marker\":{\"colorbar\":{\"outlinewidth\":0,\"ticks\":\"\"}},\"type\":\"scatterpolargl\"}],\"scatterternary\":[{\"marker\":{\"colorbar\":{\"outlinewidth\":0,\"ticks\":\"\"}},\"type\":\"scatterternary\"}],\"surface\":[{\"colorbar\":{\"outlinewidth\":0,\"ticks\":\"\"},\"colorscale\":[[0.0,\"#0d0887\"],[0.1111111111111111,\"#46039f\"],[0.2222222222222222,\"#7201a8\"],[0.3333333333333333,\"#9c179e\"],[0.4444444444444444,\"#bd3786\"],[0.5555555555555556,\"#d8576b\"],[0.6666666666666666,\"#ed7953\"],[0.7777777777777778,\"#fb9f3a\"],[0.8888888888888888,\"#fdca26\"],[1.0,\"#f0f921\"]],\"type\":\"surface\"}],\"table\":[{\"cells\":{\"fill\":{\"color\":\"#EBF0F8\"},\"line\":{\"color\":\"white\"}},\"header\":{\"fill\":{\"color\":\"#C8D4E3\"},\"line\":{\"color\":\"white\"}},\"type\":\"table\"}]},\"layout\":{\"annotationdefaults\":{\"arrowcolor\":\"#2a3f5f\",\"arrowhead\":0,\"arrowwidth\":1},\"autotypenumbers\":\"strict\",\"coloraxis\":{\"colorbar\":{\"outlinewidth\":0,\"ticks\":\"\"}},\"colorscale\":{\"diverging\":[[0,\"#8e0152\"],[0.1,\"#c51b7d\"],[0.2,\"#de77ae\"],[0.3,\"#f1b6da\"],[0.4,\"#fde0ef\"],[0.5,\"#f7f7f7\"],[0.6,\"#e6f5d0\"],[0.7,\"#b8e186\"],[0.8,\"#7fbc41\"],[0.9,\"#4d9221\"],[1,\"#276419\"]],\"sequential\":[[0.0,\"#0d0887\"],[0.1111111111111111,\"#46039f\"],[0.2222222222222222,\"#7201a8\"],[0.3333333333333333,\"#9c179e\"],[0.4444444444444444,\"#bd3786\"],[0.5555555555555556,\"#d8576b\"],[0.6666666666666666,\"#ed7953\"],[0.7777777777777778,\"#fb9f3a\"],[0.8888888888888888,\"#fdca26\"],[1.0,\"#f0f921\"]],\"sequentialminus\":[[0.0,\"#0d0887\"],[0.1111111111111111,\"#46039f\"],[0.2222222222222222,\"#7201a8\"],[0.3333333333333333,\"#9c179e\"],[0.4444444444444444,\"#bd3786\"],[0.5555555555555556,\"#d8576b\"],[0.6666666666666666,\"#ed7953\"],[0.7777777777777778,\"#fb9f3a\"],[0.8888888888888888,\"#fdca26\"],[1.0,\"#f0f921\"]]},\"colorway\":[\"#636efa\",\"#EF553B\",\"#00cc96\",\"#ab63fa\",\"#FFA15A\",\"#19d3f3\",\"#FF6692\",\"#B6E880\",\"#FF97FF\",\"#FECB52\"],\"font\":{\"color\":\"#2a3f5f\"},\"geo\":{\"bgcolor\":\"white\",\"lakecolor\":\"white\",\"landcolor\":\"#E5ECF6\",\"showlakes\":true,\"showland\":true,\"subunitcolor\":\"white\"},\"hoverlabel\":{\"align\":\"left\"},\"hovermode\":\"closest\",\"mapbox\":{\"style\":\"light\"},\"paper_bgcolor\":\"white\",\"plot_bgcolor\":\"#E5ECF6\",\"polar\":{\"angularaxis\":{\"gridcolor\":\"white\",\"linecolor\":\"white\",\"ticks\":\"\"},\"bgcolor\":\"#E5ECF6\",\"radialaxis\":{\"gridcolor\":\"white\",\"linecolor\":\"white\",\"ticks\":\"\"}},\"scene\":{\"xaxis\":{\"backgroundcolor\":\"#E5ECF6\",\"gridcolor\":\"white\",\"gridwidth\":2,\"linecolor\":\"white\",\"showbackground\":true,\"ticks\":\"\",\"zerolinecolor\":\"white\"},\"yaxis\":{\"backgroundcolor\":\"#E5ECF6\",\"gridcolor\":\"white\",\"gridwidth\":2,\"linecolor\":\"white\",\"showbackground\":true,\"ticks\":\"\",\"zerolinecolor\":\"white\"},\"zaxis\":{\"backgroundcolor\":\"#E5ECF6\",\"gridcolor\":\"white\",\"gridwidth\":2,\"linecolor\":\"white\",\"showbackground\":true,\"ticks\":\"\",\"zerolinecolor\":\"white\"}},\"shapedefaults\":{\"line\":{\"color\":\"#2a3f5f\"}},\"ternary\":{\"aaxis\":{\"gridcolor\":\"white\",\"linecolor\":\"white\",\"ticks\":\"\"},\"baxis\":{\"gridcolor\":\"white\",\"linecolor\":\"white\",\"ticks\":\"\"},\"bgcolor\":\"#E5ECF6\",\"caxis\":{\"gridcolor\":\"white\",\"linecolor\":\"white\",\"ticks\":\"\"}},\"title\":{\"x\":0.05},\"xaxis\":{\"automargin\":true,\"gridcolor\":\"white\",\"linecolor\":\"white\",\"ticks\":\"\",\"title\":{\"standoff\":15},\"zerolinecolor\":\"white\",\"zerolinewidth\":2},\"yaxis\":{\"automargin\":true,\"gridcolor\":\"white\",\"linecolor\":\"white\",\"ticks\":\"\",\"title\":{\"standoff\":15},\"zerolinecolor\":\"white\",\"zerolinewidth\":2}}},\"title\":{\"text\":\"Bar Chart to Show Comparisons & Volume (2004 to 2011)\"},\"xaxis\":{\"title\":{\"text\":\"Year\"}},\"yaxis\":{\"title\":{\"text\":\"Values\"}}},                        {\"responsive\": true}                    ).then(function(){\n",
       "                            \n",
       "var gd = document.getElementById('01012d79-26a3-4730-b86d-37a4dea77c07');\n",
       "var x = new MutationObserver(function (mutations, observer) {{\n",
       "        var display = window.getComputedStyle(gd).display;\n",
       "        if (!display || display === 'none') {{\n",
       "            console.log([gd, 'removed!']);\n",
       "            Plotly.purge(gd);\n",
       "            observer.disconnect();\n",
       "        }}\n",
       "}});\n",
       "\n",
       "// Listen for the removal of the full notebook cells\n",
       "var notebookContainer = gd.closest('#notebook-container');\n",
       "if (notebookContainer) {{\n",
       "    x.observe(notebookContainer, {childList: true});\n",
       "}}\n",
       "\n",
       "// Listen for the clearing of the current output cell\n",
       "var outputEl = gd.closest('.output');\n",
       "if (outputEl) {{\n",
       "    x.observe(outputEl, {childList: true});\n",
       "}}\n",
       "\n",
       "                        })                };                });            </script>        </div>"
      ]
     },
     "metadata": {},
     "output_type": "display_data"
    }
   ],
   "source": [
    "fig = go.Figure(data=[\n",
    "    go.Bar(x=irish_cer['Year'], y=irish_cer[col], name=col, text=irish_cer['Statistic Label']) for col in ['Spring barley', 'Spring oats', 'Spring wheat', 'Winter barley', 'Winter oats', 'Winter wheat']\n",
    "])\n",
    "\n",
    "fig.update_layout(title='Bar Chart to Show Comparisons & Volume (2004 to 2011)', xaxis_title='Year', yaxis_title='Values')\n"
   ]
  },
  {
   "cell_type": "markdown",
   "id": "fb2a6124",
   "metadata": {},
   "source": [
    "#### Bubble Chart"
   ]
  },
  {
   "cell_type": "code",
   "execution_count": null,
   "id": "94496574",
   "metadata": {},
   "outputs": [],
   "source": []
  },
  {
   "cell_type": "markdown",
   "id": "4c221316",
   "metadata": {},
   "source": [
    "### STEP 3: Loading & Exploring Data on Cereal Crops Worldwide in Comparison to Ireland(source: World Bank)"
   ]
  },
  {
   "cell_type": "markdown",
   "id": "67bbf397",
   "metadata": {},
   "source": [
    "#### DATA SET 1: Cereal Production in Metric Tonnes\n",
    "* Load the Data set\n",
    "* Data Cleaning"
   ]
  },
  {
   "cell_type": "code",
   "execution_count": null,
   "id": "f487a545",
   "metadata": {},
   "outputs": [],
   "source": [
    "# loading data set on cereal production in metric tonnes\n",
    "df_prod = pd.read_csv(\"API_AG.PRD.CREL.MT_DS2_en_csv_v2_4772045.csv\")"
   ]
  },
  {
   "cell_type": "code",
   "execution_count": null,
   "id": "946d64ef",
   "metadata": {},
   "outputs": [],
   "source": [
    "# Displaying the head of data set 1\n",
    "df_prod.head()"
   ]
  },
  {
   "cell_type": "code",
   "execution_count": null,
   "id": "576b67b5",
   "metadata": {
    "scrolled": true
   },
   "outputs": [],
   "source": [
    "# Displaying the tail of data set 1\n",
    "df_prod.tail()"
   ]
  },
  {
   "cell_type": "code",
   "execution_count": null,
   "id": "cd826084",
   "metadata": {},
   "outputs": [],
   "source": [
    "# Displaying the info of the data set 1\n",
    "# checking for data types because sometimes variables may be stored as string or an object\n",
    "df_prod.info()"
   ]
  },
  {
   "cell_type": "code",
   "execution_count": null,
   "id": "d59b2eb7",
   "metadata": {},
   "outputs": [],
   "source": [
    "# Check if there are 'Not A Number' (NaN) values, also known as missing data, in the dataset columns\n",
    "df_prod_missing =df_prod.isna()\n",
    "df_prod_missing.head()"
   ]
  },
  {
   "cell_type": "code",
   "execution_count": null,
   "id": "1a0c0b74",
   "metadata": {},
   "outputs": [],
   "source": [
    "# Function to check for missing values and replace them with zeros\n",
    "def fill_missing_values(df_prod):\n",
    "    # Check for missing values\n",
    "    missing = df_prod.isnull().sum()\n",
    "    \n",
    "    # Replace missing values with 0\n",
    "    df_prod = df_prod.fillna(0)\n",
    "      \n",
    "    return df_prod\n"
   ]
  },
  {
   "cell_type": "code",
   "execution_count": null,
   "id": "b6421cef",
   "metadata": {},
   "outputs": [],
   "source": [
    "# Fill missing values with 0\n",
    "df_prod = fill_missing_values(df_prod)\n",
    "df_prod.head()"
   ]
  },
  {
   "cell_type": "code",
   "execution_count": null,
   "id": "f568dcc5",
   "metadata": {
    "scrolled": true
   },
   "outputs": [],
   "source": [
    "# checking on the description of the values of the column \"1960\"\n",
    "df_prod[\"1960\"].describe"
   ]
  },
  {
   "cell_type": "code",
   "execution_count": null,
   "id": "485be895",
   "metadata": {},
   "outputs": [],
   "source": [
    "# checking on the description of the values of the column \"2021\"\n",
    "df_prod[\"2021\"].describe"
   ]
  },
  {
   "cell_type": "code",
   "execution_count": null,
   "id": "a31a9dd3",
   "metadata": {},
   "outputs": [],
   "source": [
    "# dropping the column \"1960\" & \"2021\" because they have zeroes\n",
    "df_prod = df_prod.drop(columns=[\"1960\",\"2021\"])\n",
    "df_prod.head()"
   ]
  },
  {
   "cell_type": "code",
   "execution_count": null,
   "id": "caaa8067",
   "metadata": {},
   "outputs": [],
   "source": [
    "# Using Melt to arrange the data set in a chronological order\n",
    "# to be able to add more columns from new data sets and retain meaning\n",
    "df_prod_melt=df_prod.melt(id_vars=[\"Country Name\",\"Country Code\",\"Indicator Name\",\"Indicator Code\"],\n",
    "                    var_name=\"Date\",\n",
    "                    value_name=\"Cereals\")"
   ]
  },
  {
   "cell_type": "code",
   "execution_count": null,
   "id": "d56ae331",
   "metadata": {},
   "outputs": [],
   "source": [
    "# loading the first five rows of the melted data\n",
    "df_prod_melt.head()"
   ]
  },
  {
   "cell_type": "code",
   "execution_count": null,
   "id": "ad971c09",
   "metadata": {},
   "outputs": [],
   "source": [
    "# Rename the 'Cereals' column to 'Cereals(metric tons)' so as to drop colum \"Indicator Name\" & \"Indicator Code\"\n",
    "df_prod1 = df_prod_melt.rename(columns={'Cereals': 'CerealProduction(metric tons)'})\n",
    "df_prod1.head()"
   ]
  },
  {
   "cell_type": "code",
   "execution_count": null,
   "id": "457c2590",
   "metadata": {},
   "outputs": [],
   "source": [
    "# dropping the column \"Indicator Name\" & \"Indicator Code\"\n",
    "# because their description has been added to the \"Cereals(metric tons)\" column\n",
    "# the description of the data set information(mark down) has been giving before loading the data hence\n",
    "df_prodmt = df_prod1.drop(columns=[\"Indicator Name\",\"Indicator Code\"])\n",
    "df_prodmt.head()"
   ]
  },
  {
   "cell_type": "code",
   "execution_count": null,
   "id": "c68f18fc",
   "metadata": {},
   "outputs": [],
   "source": [
    "# Changing the year column from an object into a string for analysis\n",
    "df_prodmt[\"Date\"] = pd.to_numeric(df_prodmt[\"Date\"])\n",
    "df_prodmt.info()"
   ]
  },
  {
   "cell_type": "markdown",
   "id": "473d877c",
   "metadata": {},
   "source": [
    "#### DATA SET 2: Cereal Yields Per Hectare\n",
    "* Load the Data set\n",
    "* Data Cleaning"
   ]
  },
  {
   "cell_type": "code",
   "execution_count": null,
   "id": "4bf64811",
   "metadata": {},
   "outputs": [],
   "source": [
    "# loading data set on cereal yields per hectare\n",
    "df_yield = pd.read_csv(\"API_AG.YLD.CREL.KG_DS2_en_csv_v2_4772233.csv\")"
   ]
  },
  {
   "cell_type": "code",
   "execution_count": null,
   "id": "caf90e40",
   "metadata": {},
   "outputs": [],
   "source": [
    "# Displaying the head of data set 2\n",
    "df_yield.head()"
   ]
  },
  {
   "cell_type": "code",
   "execution_count": null,
   "id": "e1a7b107",
   "metadata": {},
   "outputs": [],
   "source": [
    "# Function to check for missing values and replace them with zeros\n",
    "def fill_missing_values(df_yield):\n",
    "    # Check for missing values\n",
    "    missing = df_yield.isnull().sum()\n",
    "    \n",
    "    # Replace missing values with 0\n",
    "    df_yield = df_yield.fillna(0)\n",
    "      \n",
    "    return df_yield"
   ]
  },
  {
   "cell_type": "code",
   "execution_count": null,
   "id": "d3ce56cb",
   "metadata": {},
   "outputs": [],
   "source": [
    "# Fill missing values with 0\n",
    "df_yield = fill_missing_values(df_yield)\n",
    "df_yield.head()"
   ]
  },
  {
   "cell_type": "code",
   "execution_count": null,
   "id": "9cbc47a9",
   "metadata": {},
   "outputs": [],
   "source": [
    "# dropping the column \"1960\" & \"2021\" because they have zeroes\n",
    "df_yield = df_yield.drop(columns=[\"1960\",\"2021\"])\n",
    "df_yield.head()"
   ]
  },
  {
   "cell_type": "code",
   "execution_count": null,
   "id": "7299bd69",
   "metadata": {},
   "outputs": [],
   "source": [
    "# Using Melt to arrange the data set in a chronological order\n",
    "# to be able to add more columns from new data sets and retain meaning\n",
    "df_yield_melt=df_yield.melt(id_vars=[\"Country Name\",\"Country Code\",\"Indicator Name\",\"Indicator Code\"],\n",
    "                    var_name=\"Date\",\n",
    "                    value_name=\"CerealYield(Kg per ha)\")"
   ]
  },
  {
   "cell_type": "code",
   "execution_count": null,
   "id": "ba566cd7",
   "metadata": {},
   "outputs": [],
   "source": [
    "# dropping the column \"Indicator Name\" & \"Indicator Code\"\n",
    "# because their description has been added to the \"CerealYield(Kg per ha)\" column\n",
    "# the description of the data set information(mark down) has been giving before loading the data hence\n",
    "df_yieldkg = df_yield_melt.drop(columns=[\"Indicator Name\",\"Indicator Code\"])\n",
    "df_yieldkg.head()"
   ]
  },
  {
   "cell_type": "code",
   "execution_count": null,
   "id": "0e1ea341",
   "metadata": {
    "scrolled": true
   },
   "outputs": [],
   "source": [
    "# Changing the year column from an object into a string for analysis\n",
    "df_yieldkg[\"Date\"] = pd.to_numeric(df_yieldkg[\"Date\"])\n",
    "df_yieldkg.info()"
   ]
  },
  {
   "cell_type": "markdown",
   "id": "b6149c40",
   "metadata": {},
   "source": [
    "#### DATA SET 3: Land Under Cereal Production\n",
    "* Load the Data set\n",
    "* Data Cleaning"
   ]
  },
  {
   "cell_type": "code",
   "execution_count": null,
   "id": "5d688365",
   "metadata": {},
   "outputs": [],
   "source": [
    "# loading data set on land under cereal production\n",
    "df_land = pd.read_csv(\"API_AG.LND.CREL.HA_DS2_en_csv_v2_4772643.csv\")"
   ]
  },
  {
   "cell_type": "code",
   "execution_count": null,
   "id": "521909e6",
   "metadata": {},
   "outputs": [],
   "source": [
    "# Displaying the head of data set 3\n",
    "df_land.head()"
   ]
  },
  {
   "cell_type": "code",
   "execution_count": null,
   "id": "462347a4",
   "metadata": {},
   "outputs": [],
   "source": [
    "# Function to check for missing values and replace them with zeros\n",
    "def fill_missing_values(df_land):\n",
    "    # Check for missing values\n",
    "    missing = df_land.isnull().sum()\n",
    "    \n",
    "    # Replace missing values with 0\n",
    "    df_land = df_land.fillna(0)\n",
    "      \n",
    "    return df_land"
   ]
  },
  {
   "cell_type": "code",
   "execution_count": null,
   "id": "745ccfa0",
   "metadata": {},
   "outputs": [],
   "source": [
    "# Fill missing values with 0\n",
    "df_land = fill_missing_values(df_land)\n",
    "df_land.head()"
   ]
  },
  {
   "cell_type": "code",
   "execution_count": null,
   "id": "238d6272",
   "metadata": {},
   "outputs": [],
   "source": [
    "# dropping the column \"1960\" & \"2021\" to balance the years with the data set 1 and data set 2 when merging\n",
    "df_land = df_land.drop(columns=[\"1960\",\"2021\"])\n",
    "df_land.head()"
   ]
  },
  {
   "cell_type": "code",
   "execution_count": null,
   "id": "a7a85ae9",
   "metadata": {},
   "outputs": [],
   "source": [
    "# Using Melt to arrange the data set in a chronological order\n",
    "# to be able to add more columns from new data sets and retain meaning\n",
    "df_land_melt=df_land.melt(id_vars=[\"Country Name\",\"Country Code\",\"Indicator Name\",\"Indicator Code\"],\n",
    "                    var_name=\"Date\",\n",
    "                    value_name=\"LandUnderCereal(ha)\")"
   ]
  },
  {
   "cell_type": "code",
   "execution_count": null,
   "id": "4332980f",
   "metadata": {},
   "outputs": [],
   "source": [
    "# dropping the column \"Indicator Name\" & \"Indicator Code\"\n",
    "# because their description has been added to the \"LandUnderCereal(ha)\" column\n",
    "# the description of the data set information(mark down) has been giving before loading the data hence\n",
    "df_landha = df_land_melt.drop(columns=[\"Indicator Name\",\"Indicator Code\"])\n",
    "df_landha.head()"
   ]
  },
  {
   "cell_type": "code",
   "execution_count": null,
   "id": "49d8bdcd",
   "metadata": {},
   "outputs": [],
   "source": [
    "# Changing the year column from an object into a string for analysis\n",
    "df_landha[\"Date\"] = pd.to_numeric(df_landha[\"Date\"])\n",
    "df_landha.info()"
   ]
  },
  {
   "cell_type": "markdown",
   "id": "eb5fcf78",
   "metadata": {},
   "source": [
    "### Merging Data Set 1, Data Set 2 & Data Set 3 to one Data set(World Data on Arable Production of Cereals)"
   ]
  },
  {
   "cell_type": "code",
   "execution_count": null,
   "id": "26160754",
   "metadata": {},
   "outputs": [],
   "source": [
    "# Adding the columns \"CerealYield(Kg per ha)\",\"LandUnderCereal(ha)\" from df_yieldkg & df_landha to df_prodmt\n",
    "df_prodmt[\"CerealYield(Kg per ha)\"] = df_yieldkg[\"CerealYield(Kg per ha)\"]\n",
    "df_prodmt[\"LandUnderCereal(ha)\"] = df_landha[\"LandUnderCereal(ha)\"]\n",
    "\n",
    "# Saving the resulting data set to a new CSV file\n",
    "df_prodmt.to_csv(\"arable-production-of-cereal-crops\", index=False)\n"
   ]
  },
  {
   "cell_type": "code",
   "execution_count": null,
   "id": "b910cda3",
   "metadata": {},
   "outputs": [],
   "source": [
    "df_arable = df_prodmt\n",
    "df_arable"
   ]
  },
  {
   "cell_type": "code",
   "execution_count": null,
   "id": "39cdcf08",
   "metadata": {},
   "outputs": [],
   "source": []
  }
 ],
 "metadata": {
  "kernelspec": {
   "display_name": "Python 3 (ipykernel)",
   "language": "python",
   "name": "python3"
  },
  "language_info": {
   "codemirror_mode": {
    "name": "ipython",
    "version": 3
   },
   "file_extension": ".py",
   "mimetype": "text/x-python",
   "name": "python",
   "nbconvert_exporter": "python",
   "pygments_lexer": "ipython3",
   "version": "3.9.12"
  }
 },
 "nbformat": 4,
 "nbformat_minor": 5
}
