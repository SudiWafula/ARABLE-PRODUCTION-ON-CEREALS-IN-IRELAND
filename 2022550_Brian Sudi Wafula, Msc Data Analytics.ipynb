{
 "cells": [
  {
   "cell_type": "markdown",
   "id": "7b420550",
   "metadata": {},
   "source": [
    "# ANALAYSIS ON ARABLE PRODUCTION OF CEREAL CROPS IN IRELAND\n"
   ]
  },
  {
   "cell_type": "markdown",
   "id": "792a9a78",
   "metadata": {},
   "source": [
    "## A CRISP-DM approach was used in this research"
   ]
  },
  {
   "cell_type": "markdown",
   "id": "8b7f65b9",
   "metadata": {},
   "source": [
    "### STEP 1: Importing Relevant Libraries for Data Exploration and Analysis"
   ]
  },
  {
   "cell_type": "code",
   "execution_count": 1,
   "id": "c04a81b1",
   "metadata": {},
   "outputs": [],
   "source": [
    "# Importing the relevant libraries\n",
    "import pandas as pd\n",
    "import numpy as np\n",
    "import seaborn as sns \n",
    "import matplotlib.pyplot as plt \n",
    "%matplotlib inline\n",
    "sns.set(color_codes=True)\n",
    "import statistics\n",
    "import warnings\n",
    "warnings.filterwarnings('ignore')"
   ]
  },
  {
   "cell_type": "markdown",
   "id": "ac151c07",
   "metadata": {},
   "source": [
    "### STEP 2: Loading & Exploring Data on Cereal Crops in Ireland(source: Central Statistics Office)\n",
    "\n",
    "* Loading Data\n",
    "* Cleaning and enriching Data\n",
    "* Graphical Representation of the Data"
   ]
  },
  {
   "cell_type": "markdown",
   "id": "9205b6d1",
   "metadata": {},
   "source": [
    "#### (i.) Loading Data"
   ]
  },
  {
   "cell_type": "code",
   "execution_count": 2,
   "id": "1aa81155",
   "metadata": {},
   "outputs": [],
   "source": [
    "# loading data into the data frame\n",
    "df_cereals = pd.read_csv(\"AQA04.20221222T221238.csv\")"
   ]
  },
  {
   "cell_type": "code",
   "execution_count": 3,
   "id": "3aeab9c7",
   "metadata": {},
   "outputs": [
    {
     "data": {
      "text/html": [
       "<div>\n",
       "<style scoped>\n",
       "    .dataframe tbody tr th:only-of-type {\n",
       "        vertical-align: middle;\n",
       "    }\n",
       "\n",
       "    .dataframe tbody tr th {\n",
       "        vertical-align: top;\n",
       "    }\n",
       "\n",
       "    .dataframe thead th {\n",
       "        text-align: right;\n",
       "    }\n",
       "</style>\n",
       "<table border=\"1\" class=\"dataframe\">\n",
       "  <thead>\n",
       "    <tr style=\"text-align: right;\">\n",
       "      <th></th>\n",
       "      <th>Statistic Label</th>\n",
       "      <th>Year</th>\n",
       "      <th>Type of Crop</th>\n",
       "      <th>UNIT</th>\n",
       "      <th>VALUE</th>\n",
       "    </tr>\n",
       "  </thead>\n",
       "  <tbody>\n",
       "    <tr>\n",
       "      <th>0</th>\n",
       "      <td>Area under Crops</td>\n",
       "      <td>2008</td>\n",
       "      <td>Winter wheat</td>\n",
       "      <td>000 Hectares</td>\n",
       "      <td>87.5</td>\n",
       "    </tr>\n",
       "    <tr>\n",
       "      <th>1</th>\n",
       "      <td>Area under Crops</td>\n",
       "      <td>2008</td>\n",
       "      <td>Spring wheat</td>\n",
       "      <td>000 Hectares</td>\n",
       "      <td>23.2</td>\n",
       "    </tr>\n",
       "    <tr>\n",
       "      <th>2</th>\n",
       "      <td>Area under Crops</td>\n",
       "      <td>2008</td>\n",
       "      <td>Winter oats</td>\n",
       "      <td>000 Hectares</td>\n",
       "      <td>18.7</td>\n",
       "    </tr>\n",
       "    <tr>\n",
       "      <th>3</th>\n",
       "      <td>Area under Crops</td>\n",
       "      <td>2008</td>\n",
       "      <td>Spring oats</td>\n",
       "      <td>000 Hectares</td>\n",
       "      <td>4.2</td>\n",
       "    </tr>\n",
       "    <tr>\n",
       "      <th>4</th>\n",
       "      <td>Area under Crops</td>\n",
       "      <td>2008</td>\n",
       "      <td>Winter barley</td>\n",
       "      <td>000 Hectares</td>\n",
       "      <td>21.1</td>\n",
       "    </tr>\n",
       "  </tbody>\n",
       "</table>\n",
       "</div>"
      ],
      "text/plain": [
       "    Statistic Label  Year   Type of Crop          UNIT  VALUE\n",
       "0  Area under Crops  2008   Winter wheat  000 Hectares   87.5\n",
       "1  Area under Crops  2008   Spring wheat  000 Hectares   23.2\n",
       "2  Area under Crops  2008    Winter oats  000 Hectares   18.7\n",
       "3  Area under Crops  2008    Spring oats  000 Hectares    4.2\n",
       "4  Area under Crops  2008  Winter barley  000 Hectares   21.1"
      ]
     },
     "execution_count": 3,
     "metadata": {},
     "output_type": "execute_result"
    }
   ],
   "source": [
    "# Displaying the top five rows in the data set\n",
    "df_cereals.head()"
   ]
  },
  {
   "cell_type": "code",
   "execution_count": 4,
   "id": "b86c0d59",
   "metadata": {},
   "outputs": [
    {
     "data": {
      "text/html": [
       "<div>\n",
       "<style scoped>\n",
       "    .dataframe tbody tr th:only-of-type {\n",
       "        vertical-align: middle;\n",
       "    }\n",
       "\n",
       "    .dataframe tbody tr th {\n",
       "        vertical-align: top;\n",
       "    }\n",
       "\n",
       "    .dataframe thead th {\n",
       "        text-align: right;\n",
       "    }\n",
       "</style>\n",
       "<table border=\"1\" class=\"dataframe\">\n",
       "  <thead>\n",
       "    <tr style=\"text-align: right;\">\n",
       "      <th></th>\n",
       "      <th>Statistic Label</th>\n",
       "      <th>Year</th>\n",
       "      <th>Type of Crop</th>\n",
       "      <th>UNIT</th>\n",
       "      <th>VALUE</th>\n",
       "    </tr>\n",
       "  </thead>\n",
       "  <tbody>\n",
       "    <tr>\n",
       "      <th>247</th>\n",
       "      <td>Crop Production</td>\n",
       "      <td>2021</td>\n",
       "      <td>Spring wheat</td>\n",
       "      <td>000 Tonnes</td>\n",
       "      <td>52.7</td>\n",
       "    </tr>\n",
       "    <tr>\n",
       "      <th>248</th>\n",
       "      <td>Crop Production</td>\n",
       "      <td>2021</td>\n",
       "      <td>Winter oats</td>\n",
       "      <td>000 Tonnes</td>\n",
       "      <td>126.9</td>\n",
       "    </tr>\n",
       "    <tr>\n",
       "      <th>249</th>\n",
       "      <td>Crop Production</td>\n",
       "      <td>2021</td>\n",
       "      <td>Spring oats</td>\n",
       "      <td>000 Tonnes</td>\n",
       "      <td>111.4</td>\n",
       "    </tr>\n",
       "    <tr>\n",
       "      <th>250</th>\n",
       "      <td>Crop Production</td>\n",
       "      <td>2021</td>\n",
       "      <td>Winter barley</td>\n",
       "      <td>000 Tonnes</td>\n",
       "      <td>638.8</td>\n",
       "    </tr>\n",
       "    <tr>\n",
       "      <th>251</th>\n",
       "      <td>Crop Production</td>\n",
       "      <td>2021</td>\n",
       "      <td>Spring barley</td>\n",
       "      <td>000 Tonnes</td>\n",
       "      <td>917.6</td>\n",
       "    </tr>\n",
       "  </tbody>\n",
       "</table>\n",
       "</div>"
      ],
      "text/plain": [
       "     Statistic Label  Year   Type of Crop        UNIT  VALUE\n",
       "247  Crop Production  2021   Spring wheat  000 Tonnes   52.7\n",
       "248  Crop Production  2021    Winter oats  000 Tonnes  126.9\n",
       "249  Crop Production  2021    Spring oats  000 Tonnes  111.4\n",
       "250  Crop Production  2021  Winter barley  000 Tonnes  638.8\n",
       "251  Crop Production  2021  Spring barley  000 Tonnes  917.6"
      ]
     },
     "execution_count": 4,
     "metadata": {},
     "output_type": "execute_result"
    }
   ],
   "source": [
    "# Displaying the last five rows in the data set\n",
    "df_cereals.tail()"
   ]
  },
  {
   "cell_type": "code",
   "execution_count": 5,
   "id": "312c83a7",
   "metadata": {},
   "outputs": [
    {
     "name": "stdout",
     "output_type": "stream",
     "text": [
      "<class 'pandas.core.frame.DataFrame'>\n",
      "RangeIndex: 252 entries, 0 to 251\n",
      "Data columns (total 5 columns):\n",
      " #   Column           Non-Null Count  Dtype  \n",
      "---  ------           --------------  -----  \n",
      " 0   Statistic Label  252 non-null    object \n",
      " 1   Year             252 non-null    int64  \n",
      " 2   Type of Crop     252 non-null    object \n",
      " 3   UNIT             252 non-null    object \n",
      " 4   VALUE            252 non-null    float64\n",
      "dtypes: float64(1), int64(1), object(3)\n",
      "memory usage: 10.0+ KB\n"
     ]
    }
   ],
   "source": [
    "# Displaying the info of the data set\n",
    "# checking for data types because sometimes variables may be stored as string or an object\n",
    "df_cereals.info()"
   ]
  },
  {
   "cell_type": "code",
   "execution_count": 6,
   "id": "fda1b407",
   "metadata": {},
   "outputs": [
    {
     "name": "stdout",
     "output_type": "stream",
     "text": [
      "Statistic Label    0\n",
      "Year               0\n",
      "Type of Crop       0\n",
      "UNIT               0\n",
      "VALUE              0\n",
      "dtype: int64\n"
     ]
    }
   ],
   "source": [
    "# Checking for missing values\n",
    "print(df_cereals.isnull().sum()) "
   ]
  },
  {
   "cell_type": "code",
   "execution_count": 7,
   "id": "9785acc3",
   "metadata": {
    "scrolled": true
   },
   "outputs": [
    {
     "name": "stdout",
     "output_type": "stream",
     "text": [
      "Area under Crops          84\n",
      "Crop Yield per Hectare    84\n",
      "Crop Production           84\n",
      "Name: Statistic Label, dtype: int64\n"
     ]
    }
   ],
   "source": [
    "# Function to Count the frequency of all values in a column\n",
    "def count_values(df, column):\n",
    "    counts = df[column].value_counts()\n",
    "    return counts\n",
    "\n",
    "df = df_cereals\n",
    "counts = count_values(df, 'Statistic Label')\n",
    "print(counts)"
   ]
  },
  {
   "cell_type": "markdown",
   "id": "409a7b65",
   "metadata": {},
   "source": [
    "#### (ii.) Cleaning and enriching Data"
   ]
  },
  {
   "cell_type": "code",
   "execution_count": 8,
   "id": "550a41cd",
   "metadata": {},
   "outputs": [],
   "source": [
    "# Create a pivot table with the \"Statistic Label\", \"Year\", \"UNIT\" columns as the index,\n",
    "# the \"Type of Crop\" column as the columns, and the 'VALUE' column as the values\n",
    "irish_cer = df_cereals.pivot_table(index=[\"Statistic Label\",\"Year\",\"UNIT\"], columns=\"Type of Crop\", values=\"VALUE\")"
   ]
  },
  {
   "cell_type": "code",
   "execution_count": 9,
   "id": "aa3b6742",
   "metadata": {},
   "outputs": [
    {
     "data": {
      "text/html": [
       "<div>\n",
       "<style scoped>\n",
       "    .dataframe tbody tr th:only-of-type {\n",
       "        vertical-align: middle;\n",
       "    }\n",
       "\n",
       "    .dataframe tbody tr th {\n",
       "        vertical-align: top;\n",
       "    }\n",
       "\n",
       "    .dataframe thead th {\n",
       "        text-align: right;\n",
       "    }\n",
       "</style>\n",
       "<table border=\"1\" class=\"dataframe\">\n",
       "  <thead>\n",
       "    <tr style=\"text-align: right;\">\n",
       "      <th></th>\n",
       "      <th></th>\n",
       "      <th>Type of Crop</th>\n",
       "      <th>Spring barley</th>\n",
       "      <th>Spring oats</th>\n",
       "      <th>Spring wheat</th>\n",
       "      <th>Winter barley</th>\n",
       "      <th>Winter oats</th>\n",
       "      <th>Winter wheat</th>\n",
       "    </tr>\n",
       "    <tr>\n",
       "      <th>Statistic Label</th>\n",
       "      <th>Year</th>\n",
       "      <th>UNIT</th>\n",
       "      <th></th>\n",
       "      <th></th>\n",
       "      <th></th>\n",
       "      <th></th>\n",
       "      <th></th>\n",
       "      <th></th>\n",
       "    </tr>\n",
       "  </thead>\n",
       "  <tbody>\n",
       "    <tr>\n",
       "      <th rowspan=\"5\" valign=\"top\">Area under Crops</th>\n",
       "      <th>2008</th>\n",
       "      <th>000 Hectares</th>\n",
       "      <td>166.0</td>\n",
       "      <td>4.2</td>\n",
       "      <td>23.2</td>\n",
       "      <td>21.1</td>\n",
       "      <td>18.7</td>\n",
       "      <td>87.5</td>\n",
       "    </tr>\n",
       "    <tr>\n",
       "      <th>2009</th>\n",
       "      <th>000 Hectares</th>\n",
       "      <td>174.3</td>\n",
       "      <td>11.3</td>\n",
       "      <td>20.2</td>\n",
       "      <td>19.3</td>\n",
       "      <td>9.1</td>\n",
       "      <td>64.3</td>\n",
       "    </tr>\n",
       "    <tr>\n",
       "      <th>2010</th>\n",
       "      <th>000 Hectares</th>\n",
       "      <td>146.0</td>\n",
       "      <td>9.4</td>\n",
       "      <td>18.0</td>\n",
       "      <td>28.8</td>\n",
       "      <td>10.3</td>\n",
       "      <td>59.8</td>\n",
       "    </tr>\n",
       "    <tr>\n",
       "      <th>2011</th>\n",
       "      <th>000 Hectares</th>\n",
       "      <td>144.8</td>\n",
       "      <td>12.4</td>\n",
       "      <td>16.4</td>\n",
       "      <td>35.9</td>\n",
       "      <td>9.0</td>\n",
       "      <td>77.7</td>\n",
       "    </tr>\n",
       "    <tr>\n",
       "      <th>2012</th>\n",
       "      <th>000 Hectares</th>\n",
       "      <td>151.8</td>\n",
       "      <td>13.8</td>\n",
       "      <td>13.5</td>\n",
       "      <td>41.0</td>\n",
       "      <td>9.9</td>\n",
       "      <td>84.6</td>\n",
       "    </tr>\n",
       "  </tbody>\n",
       "</table>\n",
       "</div>"
      ],
      "text/plain": [
       "Type of Crop                        Spring barley  Spring oats  Spring wheat  \\\n",
       "Statistic Label  Year UNIT                                                     \n",
       "Area under Crops 2008 000 Hectares          166.0          4.2          23.2   \n",
       "                 2009 000 Hectares          174.3         11.3          20.2   \n",
       "                 2010 000 Hectares          146.0          9.4          18.0   \n",
       "                 2011 000 Hectares          144.8         12.4          16.4   \n",
       "                 2012 000 Hectares          151.8         13.8          13.5   \n",
       "\n",
       "Type of Crop                        Winter barley  Winter oats  Winter wheat  \n",
       "Statistic Label  Year UNIT                                                    \n",
       "Area under Crops 2008 000 Hectares           21.1         18.7          87.5  \n",
       "                 2009 000 Hectares           19.3          9.1          64.3  \n",
       "                 2010 000 Hectares           28.8         10.3          59.8  \n",
       "                 2011 000 Hectares           35.9          9.0          77.7  \n",
       "                 2012 000 Hectares           41.0          9.9          84.6  "
      ]
     },
     "execution_count": 9,
     "metadata": {},
     "output_type": "execute_result"
    }
   ],
   "source": [
    "# Loading the pivotted table\n",
    "irish_cer.head()"
   ]
  },
  {
   "cell_type": "code",
   "execution_count": 10,
   "id": "e6b1770a",
   "metadata": {},
   "outputs": [
    {
     "data": {
      "text/html": [
       "<div>\n",
       "<style scoped>\n",
       "    .dataframe tbody tr th:only-of-type {\n",
       "        vertical-align: middle;\n",
       "    }\n",
       "\n",
       "    .dataframe tbody tr th {\n",
       "        vertical-align: top;\n",
       "    }\n",
       "\n",
       "    .dataframe thead th {\n",
       "        text-align: right;\n",
       "    }\n",
       "</style>\n",
       "<table border=\"1\" class=\"dataframe\">\n",
       "  <thead>\n",
       "    <tr style=\"text-align: right;\">\n",
       "      <th>Type of Crop</th>\n",
       "      <th>Statistic Label</th>\n",
       "      <th>Year</th>\n",
       "      <th>UNIT</th>\n",
       "      <th>Spring barley</th>\n",
       "      <th>Spring oats</th>\n",
       "      <th>Spring wheat</th>\n",
       "      <th>Winter barley</th>\n",
       "      <th>Winter oats</th>\n",
       "      <th>Winter wheat</th>\n",
       "    </tr>\n",
       "  </thead>\n",
       "  <tbody>\n",
       "    <tr>\n",
       "      <th>0</th>\n",
       "      <td>Area under Crops</td>\n",
       "      <td>2008</td>\n",
       "      <td>000 Hectares</td>\n",
       "      <td>166.0</td>\n",
       "      <td>4.2</td>\n",
       "      <td>23.2</td>\n",
       "      <td>21.1</td>\n",
       "      <td>18.7</td>\n",
       "      <td>87.5</td>\n",
       "    </tr>\n",
       "    <tr>\n",
       "      <th>1</th>\n",
       "      <td>Area under Crops</td>\n",
       "      <td>2009</td>\n",
       "      <td>000 Hectares</td>\n",
       "      <td>174.3</td>\n",
       "      <td>11.3</td>\n",
       "      <td>20.2</td>\n",
       "      <td>19.3</td>\n",
       "      <td>9.1</td>\n",
       "      <td>64.3</td>\n",
       "    </tr>\n",
       "    <tr>\n",
       "      <th>2</th>\n",
       "      <td>Area under Crops</td>\n",
       "      <td>2010</td>\n",
       "      <td>000 Hectares</td>\n",
       "      <td>146.0</td>\n",
       "      <td>9.4</td>\n",
       "      <td>18.0</td>\n",
       "      <td>28.8</td>\n",
       "      <td>10.3</td>\n",
       "      <td>59.8</td>\n",
       "    </tr>\n",
       "    <tr>\n",
       "      <th>3</th>\n",
       "      <td>Area under Crops</td>\n",
       "      <td>2011</td>\n",
       "      <td>000 Hectares</td>\n",
       "      <td>144.8</td>\n",
       "      <td>12.4</td>\n",
       "      <td>16.4</td>\n",
       "      <td>35.9</td>\n",
       "      <td>9.0</td>\n",
       "      <td>77.7</td>\n",
       "    </tr>\n",
       "    <tr>\n",
       "      <th>4</th>\n",
       "      <td>Area under Crops</td>\n",
       "      <td>2012</td>\n",
       "      <td>000 Hectares</td>\n",
       "      <td>151.8</td>\n",
       "      <td>13.8</td>\n",
       "      <td>13.5</td>\n",
       "      <td>41.0</td>\n",
       "      <td>9.9</td>\n",
       "      <td>84.6</td>\n",
       "    </tr>\n",
       "  </tbody>\n",
       "</table>\n",
       "</div>"
      ],
      "text/plain": [
       "Type of Crop   Statistic Label  Year          UNIT  Spring barley  \\\n",
       "0             Area under Crops  2008  000 Hectares          166.0   \n",
       "1             Area under Crops  2009  000 Hectares          174.3   \n",
       "2             Area under Crops  2010  000 Hectares          146.0   \n",
       "3             Area under Crops  2011  000 Hectares          144.8   \n",
       "4             Area under Crops  2012  000 Hectares          151.8   \n",
       "\n",
       "Type of Crop  Spring oats  Spring wheat  Winter barley  Winter oats  \\\n",
       "0                     4.2          23.2           21.1         18.7   \n",
       "1                    11.3          20.2           19.3          9.1   \n",
       "2                     9.4          18.0           28.8         10.3   \n",
       "3                    12.4          16.4           35.9          9.0   \n",
       "4                    13.8          13.5           41.0          9.9   \n",
       "\n",
       "Type of Crop  Winter wheat  \n",
       "0                     87.5  \n",
       "1                     64.3  \n",
       "2                     59.8  \n",
       "3                     77.7  \n",
       "4                     84.6  "
      ]
     },
     "execution_count": 10,
     "metadata": {},
     "output_type": "execute_result"
    }
   ],
   "source": [
    "# resetting the index to view & manipulate data\n",
    "irish_cer.reset_index(inplace = True)\n",
    "irish_cer.head()"
   ]
  },
  {
   "cell_type": "code",
   "execution_count": 11,
   "id": "7bef127d",
   "metadata": {
    "scrolled": false
   },
   "outputs": [
    {
     "name": "stdout",
     "output_type": "stream",
     "text": [
      "<class 'pandas.core.frame.DataFrame'>\n",
      "RangeIndex: 42 entries, 0 to 41\n",
      "Data columns (total 9 columns):\n",
      " #   Column           Non-Null Count  Dtype  \n",
      "---  ------           --------------  -----  \n",
      " 0   Statistic Label  42 non-null     object \n",
      " 1   Year             42 non-null     int64  \n",
      " 2   UNIT             42 non-null     object \n",
      " 3   Spring barley    42 non-null     float64\n",
      " 4   Spring oats      42 non-null     float64\n",
      " 5   Spring wheat     42 non-null     float64\n",
      " 6   Winter barley    42 non-null     float64\n",
      " 7   Winter oats      42 non-null     float64\n",
      " 8   Winter wheat     42 non-null     float64\n",
      "dtypes: float64(6), int64(1), object(2)\n",
      "memory usage: 3.1+ KB\n"
     ]
    }
   ],
   "source": [
    "irish_cer.info()"
   ]
  },
  {
   "cell_type": "code",
   "execution_count": 12,
   "id": "2ef2377f",
   "metadata": {},
   "outputs": [
    {
     "name": "stdout",
     "output_type": "stream",
     "text": [
      "Area under Crops          14\n",
      "Crop Production           14\n",
      "Crop Yield per Hectare    14\n",
      "Name: Statistic Label, dtype: int64\n"
     ]
    }
   ],
   "source": [
    "# frequency of values in the \"Static label\" column\n",
    "df = irish_cer\n",
    "counts = count_values(df, 'Statistic Label')\n",
    "print(counts)"
   ]
  },
  {
   "cell_type": "code",
   "execution_count": 13,
   "id": "3634dfa5",
   "metadata": {},
   "outputs": [],
   "source": [
    "# Replacing 'Statistic Label' values with more descriptive names\n",
    "irish_cer['Statistic Label'] = irish_cer['Statistic Label'].replace({'Area under Crops': 'Area under Crops(000ha)', \n",
    "                                                                   'Crop Production': 'Crop Production(000tonnes)',\n",
    "                                                                   'Crop Yield per Hectare': 'Crop Yield per ha(tonnes)'})\n"
   ]
  },
  {
   "cell_type": "code",
   "execution_count": 14,
   "id": "f554d27d",
   "metadata": {},
   "outputs": [
    {
     "data": {
      "text/html": [
       "<div>\n",
       "<style scoped>\n",
       "    .dataframe tbody tr th:only-of-type {\n",
       "        vertical-align: middle;\n",
       "    }\n",
       "\n",
       "    .dataframe tbody tr th {\n",
       "        vertical-align: top;\n",
       "    }\n",
       "\n",
       "    .dataframe thead th {\n",
       "        text-align: right;\n",
       "    }\n",
       "</style>\n",
       "<table border=\"1\" class=\"dataframe\">\n",
       "  <thead>\n",
       "    <tr style=\"text-align: right;\">\n",
       "      <th>Type of Crop</th>\n",
       "      <th>Statistic Label</th>\n",
       "      <th>Year</th>\n",
       "      <th>UNIT</th>\n",
       "      <th>Spring barley</th>\n",
       "      <th>Spring oats</th>\n",
       "      <th>Spring wheat</th>\n",
       "      <th>Winter barley</th>\n",
       "      <th>Winter oats</th>\n",
       "      <th>Winter wheat</th>\n",
       "    </tr>\n",
       "  </thead>\n",
       "  <tbody>\n",
       "    <tr>\n",
       "      <th>0</th>\n",
       "      <td>Area under Crops(000ha)</td>\n",
       "      <td>2008</td>\n",
       "      <td>000 Hectares</td>\n",
       "      <td>166.0</td>\n",
       "      <td>4.2</td>\n",
       "      <td>23.2</td>\n",
       "      <td>21.1</td>\n",
       "      <td>18.7</td>\n",
       "      <td>87.5</td>\n",
       "    </tr>\n",
       "    <tr>\n",
       "      <th>1</th>\n",
       "      <td>Area under Crops(000ha)</td>\n",
       "      <td>2009</td>\n",
       "      <td>000 Hectares</td>\n",
       "      <td>174.3</td>\n",
       "      <td>11.3</td>\n",
       "      <td>20.2</td>\n",
       "      <td>19.3</td>\n",
       "      <td>9.1</td>\n",
       "      <td>64.3</td>\n",
       "    </tr>\n",
       "    <tr>\n",
       "      <th>2</th>\n",
       "      <td>Area under Crops(000ha)</td>\n",
       "      <td>2010</td>\n",
       "      <td>000 Hectares</td>\n",
       "      <td>146.0</td>\n",
       "      <td>9.4</td>\n",
       "      <td>18.0</td>\n",
       "      <td>28.8</td>\n",
       "      <td>10.3</td>\n",
       "      <td>59.8</td>\n",
       "    </tr>\n",
       "    <tr>\n",
       "      <th>3</th>\n",
       "      <td>Area under Crops(000ha)</td>\n",
       "      <td>2011</td>\n",
       "      <td>000 Hectares</td>\n",
       "      <td>144.8</td>\n",
       "      <td>12.4</td>\n",
       "      <td>16.4</td>\n",
       "      <td>35.9</td>\n",
       "      <td>9.0</td>\n",
       "      <td>77.7</td>\n",
       "    </tr>\n",
       "    <tr>\n",
       "      <th>4</th>\n",
       "      <td>Area under Crops(000ha)</td>\n",
       "      <td>2012</td>\n",
       "      <td>000 Hectares</td>\n",
       "      <td>151.8</td>\n",
       "      <td>13.8</td>\n",
       "      <td>13.5</td>\n",
       "      <td>41.0</td>\n",
       "      <td>9.9</td>\n",
       "      <td>84.6</td>\n",
       "    </tr>\n",
       "    <tr>\n",
       "      <th>5</th>\n",
       "      <td>Area under Crops(000ha)</td>\n",
       "      <td>2013</td>\n",
       "      <td>000 Hectares</td>\n",
       "      <td>183.5</td>\n",
       "      <td>21.3</td>\n",
       "      <td>15.2</td>\n",
       "      <td>36.0</td>\n",
       "      <td>5.4</td>\n",
       "      <td>45.4</td>\n",
       "    </tr>\n",
       "    <tr>\n",
       "      <th>6</th>\n",
       "      <td>Area under Crops(000ha)</td>\n",
       "      <td>2014</td>\n",
       "      <td>000 Hectares</td>\n",
       "      <td>155.6</td>\n",
       "      <td>8.5</td>\n",
       "      <td>6.5</td>\n",
       "      <td>60.1</td>\n",
       "      <td>10.1</td>\n",
       "      <td>65.1</td>\n",
       "    </tr>\n",
       "    <tr>\n",
       "      <th>7</th>\n",
       "      <td>Area under Crops(000ha)</td>\n",
       "      <td>2015</td>\n",
       "      <td>000 Hectares</td>\n",
       "      <td>133.0</td>\n",
       "      <td>12.1</td>\n",
       "      <td>10.1</td>\n",
       "      <td>69.8</td>\n",
       "      <td>11.4</td>\n",
       "      <td>55.3</td>\n",
       "    </tr>\n",
       "    <tr>\n",
       "      <th>8</th>\n",
       "      <td>Area under Crops(000ha)</td>\n",
       "      <td>2016</td>\n",
       "      <td>000 Hectares</td>\n",
       "      <td>114.6</td>\n",
       "      <td>10.0</td>\n",
       "      <td>7.5</td>\n",
       "      <td>74.6</td>\n",
       "      <td>13.2</td>\n",
       "      <td>60.4</td>\n",
       "    </tr>\n",
       "    <tr>\n",
       "      <th>9</th>\n",
       "      <td>Area under Crops(000ha)</td>\n",
       "      <td>2017</td>\n",
       "      <td>000 Hectares</td>\n",
       "      <td>115.2</td>\n",
       "      <td>10.0</td>\n",
       "      <td>6.8</td>\n",
       "      <td>65.0</td>\n",
       "      <td>14.4</td>\n",
       "      <td>60.3</td>\n",
       "    </tr>\n",
       "    <tr>\n",
       "      <th>10</th>\n",
       "      <td>Area under Crops(000ha)</td>\n",
       "      <td>2018</td>\n",
       "      <td>000 Hectares</td>\n",
       "      <td>127.4</td>\n",
       "      <td>7.6</td>\n",
       "      <td>3.6</td>\n",
       "      <td>57.9</td>\n",
       "      <td>10.2</td>\n",
       "      <td>54.4</td>\n",
       "    </tr>\n",
       "    <tr>\n",
       "      <th>11</th>\n",
       "      <td>Area under Crops(000ha)</td>\n",
       "      <td>2019</td>\n",
       "      <td>000 Hectares</td>\n",
       "      <td>96.5</td>\n",
       "      <td>7.2</td>\n",
       "      <td>3.8</td>\n",
       "      <td>82.8</td>\n",
       "      <td>16.6</td>\n",
       "      <td>59.7</td>\n",
       "    </tr>\n",
       "    <tr>\n",
       "      <th>12</th>\n",
       "      <td>Area under Crops(000ha)</td>\n",
       "      <td>2020</td>\n",
       "      <td>000 Hectares</td>\n",
       "      <td>141.7</td>\n",
       "      <td>17.2</td>\n",
       "      <td>11.5</td>\n",
       "      <td>51.5</td>\n",
       "      <td>8.3</td>\n",
       "      <td>35.4</td>\n",
       "    </tr>\n",
       "    <tr>\n",
       "      <th>13</th>\n",
       "      <td>Area under Crops(000ha)</td>\n",
       "      <td>2021</td>\n",
       "      <td>000 Hectares</td>\n",
       "      <td>116.4</td>\n",
       "      <td>14.5</td>\n",
       "      <td>6.1</td>\n",
       "      <td>67.5</td>\n",
       "      <td>13.9</td>\n",
       "      <td>56.2</td>\n",
       "    </tr>\n",
       "    <tr>\n",
       "      <th>14</th>\n",
       "      <td>Crop Production(000tonnes)</td>\n",
       "      <td>2008</td>\n",
       "      <td>000 Tonnes</td>\n",
       "      <td>1112.4</td>\n",
       "      <td>26.4</td>\n",
       "      <td>153.0</td>\n",
       "      <td>181.8</td>\n",
       "      <td>147.9</td>\n",
       "      <td>839.9</td>\n",
       "    </tr>\n",
       "    <tr>\n",
       "      <th>15</th>\n",
       "      <td>Crop Production(000tonnes)</td>\n",
       "      <td>2009</td>\n",
       "      <td>000 Tonnes</td>\n",
       "      <td>1063.1</td>\n",
       "      <td>74.4</td>\n",
       "      <td>137.4</td>\n",
       "      <td>164.2</td>\n",
       "      <td>71.3</td>\n",
       "      <td>552.7</td>\n",
       "    </tr>\n",
       "    <tr>\n",
       "      <th>16</th>\n",
       "      <td>Crop Production(000tonnes)</td>\n",
       "      <td>2010</td>\n",
       "      <td>000 Tonnes</td>\n",
       "      <td>977.9</td>\n",
       "      <td>67.6</td>\n",
       "      <td>137.2</td>\n",
       "      <td>245.1</td>\n",
       "      <td>80.5</td>\n",
       "      <td>532.0</td>\n",
       "    </tr>\n",
       "    <tr>\n",
       "      <th>17</th>\n",
       "      <td>Crop Production(000tonnes)</td>\n",
       "      <td>2011</td>\n",
       "      <td>000 Tonnes</td>\n",
       "      <td>1085.8</td>\n",
       "      <td>97.6</td>\n",
       "      <td>136.4</td>\n",
       "      <td>326.3</td>\n",
       "      <td>70.5</td>\n",
       "      <td>792.9</td>\n",
       "    </tr>\n",
       "    <tr>\n",
       "      <th>18</th>\n",
       "      <td>Crop Production(000tonnes)</td>\n",
       "      <td>2012</td>\n",
       "      <td>000 Tonnes</td>\n",
       "      <td>940.9</td>\n",
       "      <td>88.4</td>\n",
       "      <td>82.2</td>\n",
       "      <td>319.8</td>\n",
       "      <td>68.2</td>\n",
       "      <td>625.7</td>\n",
       "    </tr>\n",
       "    <tr>\n",
       "      <th>19</th>\n",
       "      <td>Crop Production(000tonnes)</td>\n",
       "      <td>2013</td>\n",
       "      <td>000 Tonnes</td>\n",
       "      <td>1320.9</td>\n",
       "      <td>149.1</td>\n",
       "      <td>123.3</td>\n",
       "      <td>341.8</td>\n",
       "      <td>43.4</td>\n",
       "      <td>422.1</td>\n",
       "    </tr>\n",
       "    <tr>\n",
       "      <th>20</th>\n",
       "      <td>Crop Production(000tonnes)</td>\n",
       "      <td>2014</td>\n",
       "      <td>000 Tonnes</td>\n",
       "      <td>1172.5</td>\n",
       "      <td>61.9</td>\n",
       "      <td>53.6</td>\n",
       "      <td>558.7</td>\n",
       "      <td>87.8</td>\n",
       "      <td>663.4</td>\n",
       "    </tr>\n",
       "    <tr>\n",
       "      <th>21</th>\n",
       "      <td>Crop Production(000tonnes)</td>\n",
       "      <td>2015</td>\n",
       "      <td>000 Tonnes</td>\n",
       "      <td>1027.4</td>\n",
       "      <td>93.0</td>\n",
       "      <td>86.5</td>\n",
       "      <td>711.9</td>\n",
       "      <td>104.7</td>\n",
       "      <td>610.1</td>\n",
       "    </tr>\n",
       "    <tr>\n",
       "      <th>22</th>\n",
       "      <td>Crop Production(000tonnes)</td>\n",
       "      <td>2016</td>\n",
       "      <td>000 Tonnes</td>\n",
       "      <td>835.5</td>\n",
       "      <td>73.0</td>\n",
       "      <td>60.3</td>\n",
       "      <td>644.4</td>\n",
       "      <td>110.3</td>\n",
       "      <td>587.5</td>\n",
       "    </tr>\n",
       "    <tr>\n",
       "      <th>23</th>\n",
       "      <td>Crop Production(000tonnes)</td>\n",
       "      <td>2017</td>\n",
       "      <td>000 Tonnes</td>\n",
       "      <td>913.7</td>\n",
       "      <td>76.4</td>\n",
       "      <td>55.2</td>\n",
       "      <td>592.2</td>\n",
       "      <td>128.7</td>\n",
       "      <td>626.6</td>\n",
       "    </tr>\n",
       "    <tr>\n",
       "      <th>24</th>\n",
       "      <td>Crop Production(000tonnes)</td>\n",
       "      <td>2018</td>\n",
       "      <td>000 Tonnes</td>\n",
       "      <td>716.1</td>\n",
       "      <td>42.2</td>\n",
       "      <td>22.2</td>\n",
       "      <td>508.8</td>\n",
       "      <td>80.1</td>\n",
       "      <td>484.6</td>\n",
       "    </tr>\n",
       "    <tr>\n",
       "      <th>25</th>\n",
       "      <td>Crop Production(000tonnes)</td>\n",
       "      <td>2019</td>\n",
       "      <td>000 Tonnes</td>\n",
       "      <td>776.7</td>\n",
       "      <td>55.5</td>\n",
       "      <td>31.4</td>\n",
       "      <td>780.8</td>\n",
       "      <td>147.2</td>\n",
       "      <td>604.6</td>\n",
       "    </tr>\n",
       "    <tr>\n",
       "      <th>26</th>\n",
       "      <td>Crop Production(000tonnes)</td>\n",
       "      <td>2020</td>\n",
       "      <td>000 Tonnes</td>\n",
       "      <td>1004.0</td>\n",
       "      <td>122.3</td>\n",
       "      <td>85.4</td>\n",
       "      <td>426.3</td>\n",
       "      <td>67.6</td>\n",
       "      <td>307.6</td>\n",
       "    </tr>\n",
       "    <tr>\n",
       "      <th>27</th>\n",
       "      <td>Crop Production(000tonnes)</td>\n",
       "      <td>2021</td>\n",
       "      <td>000 Tonnes</td>\n",
       "      <td>917.6</td>\n",
       "      <td>111.4</td>\n",
       "      <td>52.7</td>\n",
       "      <td>638.8</td>\n",
       "      <td>126.9</td>\n",
       "      <td>609.7</td>\n",
       "    </tr>\n",
       "    <tr>\n",
       "      <th>28</th>\n",
       "      <td>Crop Yield per ha(tonnes)</td>\n",
       "      <td>2008</td>\n",
       "      <td>Tonnes</td>\n",
       "      <td>6.7</td>\n",
       "      <td>6.3</td>\n",
       "      <td>6.6</td>\n",
       "      <td>8.6</td>\n",
       "      <td>7.9</td>\n",
       "      <td>9.6</td>\n",
       "    </tr>\n",
       "    <tr>\n",
       "      <th>29</th>\n",
       "      <td>Crop Yield per ha(tonnes)</td>\n",
       "      <td>2009</td>\n",
       "      <td>Tonnes</td>\n",
       "      <td>6.1</td>\n",
       "      <td>6.6</td>\n",
       "      <td>6.8</td>\n",
       "      <td>8.5</td>\n",
       "      <td>7.8</td>\n",
       "      <td>8.6</td>\n",
       "    </tr>\n",
       "    <tr>\n",
       "      <th>30</th>\n",
       "      <td>Crop Yield per ha(tonnes)</td>\n",
       "      <td>2010</td>\n",
       "      <td>Tonnes</td>\n",
       "      <td>6.7</td>\n",
       "      <td>7.2</td>\n",
       "      <td>7.6</td>\n",
       "      <td>8.5</td>\n",
       "      <td>7.8</td>\n",
       "      <td>8.9</td>\n",
       "    </tr>\n",
       "    <tr>\n",
       "      <th>31</th>\n",
       "      <td>Crop Yield per ha(tonnes)</td>\n",
       "      <td>2011</td>\n",
       "      <td>Tonnes</td>\n",
       "      <td>7.5</td>\n",
       "      <td>7.9</td>\n",
       "      <td>8.3</td>\n",
       "      <td>9.1</td>\n",
       "      <td>7.8</td>\n",
       "      <td>10.2</td>\n",
       "    </tr>\n",
       "    <tr>\n",
       "      <th>32</th>\n",
       "      <td>Crop Yield per ha(tonnes)</td>\n",
       "      <td>2012</td>\n",
       "      <td>Tonnes</td>\n",
       "      <td>6.2</td>\n",
       "      <td>6.4</td>\n",
       "      <td>6.1</td>\n",
       "      <td>7.8</td>\n",
       "      <td>6.9</td>\n",
       "      <td>7.4</td>\n",
       "    </tr>\n",
       "    <tr>\n",
       "      <th>33</th>\n",
       "      <td>Crop Yield per ha(tonnes)</td>\n",
       "      <td>2013</td>\n",
       "      <td>Tonnes</td>\n",
       "      <td>7.2</td>\n",
       "      <td>7.0</td>\n",
       "      <td>8.1</td>\n",
       "      <td>9.5</td>\n",
       "      <td>8.1</td>\n",
       "      <td>9.3</td>\n",
       "    </tr>\n",
       "    <tr>\n",
       "      <th>34</th>\n",
       "      <td>Crop Yield per ha(tonnes)</td>\n",
       "      <td>2014</td>\n",
       "      <td>Tonnes</td>\n",
       "      <td>7.5</td>\n",
       "      <td>7.3</td>\n",
       "      <td>8.3</td>\n",
       "      <td>9.3</td>\n",
       "      <td>8.7</td>\n",
       "      <td>10.2</td>\n",
       "    </tr>\n",
       "    <tr>\n",
       "      <th>35</th>\n",
       "      <td>Crop Yield per ha(tonnes)</td>\n",
       "      <td>2015</td>\n",
       "      <td>Tonnes</td>\n",
       "      <td>7.7</td>\n",
       "      <td>7.7</td>\n",
       "      <td>8.6</td>\n",
       "      <td>10.2</td>\n",
       "      <td>9.2</td>\n",
       "      <td>11.0</td>\n",
       "    </tr>\n",
       "    <tr>\n",
       "      <th>36</th>\n",
       "      <td>Crop Yield per ha(tonnes)</td>\n",
       "      <td>2016</td>\n",
       "      <td>Tonnes</td>\n",
       "      <td>7.3</td>\n",
       "      <td>7.3</td>\n",
       "      <td>8.0</td>\n",
       "      <td>8.6</td>\n",
       "      <td>8.3</td>\n",
       "      <td>9.7</td>\n",
       "    </tr>\n",
       "    <tr>\n",
       "      <th>37</th>\n",
       "      <td>Crop Yield per ha(tonnes)</td>\n",
       "      <td>2017</td>\n",
       "      <td>Tonnes</td>\n",
       "      <td>7.9</td>\n",
       "      <td>7.6</td>\n",
       "      <td>8.2</td>\n",
       "      <td>9.1</td>\n",
       "      <td>8.9</td>\n",
       "      <td>10.4</td>\n",
       "    </tr>\n",
       "    <tr>\n",
       "      <th>38</th>\n",
       "      <td>Crop Yield per ha(tonnes)</td>\n",
       "      <td>2018</td>\n",
       "      <td>Tonnes</td>\n",
       "      <td>5.6</td>\n",
       "      <td>5.6</td>\n",
       "      <td>6.2</td>\n",
       "      <td>8.8</td>\n",
       "      <td>7.9</td>\n",
       "      <td>8.9</td>\n",
       "    </tr>\n",
       "    <tr>\n",
       "      <th>39</th>\n",
       "      <td>Crop Yield per ha(tonnes)</td>\n",
       "      <td>2019</td>\n",
       "      <td>Tonnes</td>\n",
       "      <td>8.0</td>\n",
       "      <td>7.7</td>\n",
       "      <td>8.3</td>\n",
       "      <td>9.4</td>\n",
       "      <td>8.9</td>\n",
       "      <td>10.1</td>\n",
       "    </tr>\n",
       "    <tr>\n",
       "      <th>40</th>\n",
       "      <td>Crop Yield per ha(tonnes)</td>\n",
       "      <td>2020</td>\n",
       "      <td>Tonnes</td>\n",
       "      <td>7.1</td>\n",
       "      <td>7.1</td>\n",
       "      <td>7.4</td>\n",
       "      <td>8.3</td>\n",
       "      <td>8.2</td>\n",
       "      <td>8.7</td>\n",
       "    </tr>\n",
       "    <tr>\n",
       "      <th>41</th>\n",
       "      <td>Crop Yield per ha(tonnes)</td>\n",
       "      <td>2021</td>\n",
       "      <td>Tonnes</td>\n",
       "      <td>7.9</td>\n",
       "      <td>7.7</td>\n",
       "      <td>8.7</td>\n",
       "      <td>9.5</td>\n",
       "      <td>9.1</td>\n",
       "      <td>10.8</td>\n",
       "    </tr>\n",
       "  </tbody>\n",
       "</table>\n",
       "</div>"
      ],
      "text/plain": [
       "Type of Crop             Statistic Label  Year          UNIT  Spring barley  \\\n",
       "0                Area under Crops(000ha)  2008  000 Hectares          166.0   \n",
       "1                Area under Crops(000ha)  2009  000 Hectares          174.3   \n",
       "2                Area under Crops(000ha)  2010  000 Hectares          146.0   \n",
       "3                Area under Crops(000ha)  2011  000 Hectares          144.8   \n",
       "4                Area under Crops(000ha)  2012  000 Hectares          151.8   \n",
       "5                Area under Crops(000ha)  2013  000 Hectares          183.5   \n",
       "6                Area under Crops(000ha)  2014  000 Hectares          155.6   \n",
       "7                Area under Crops(000ha)  2015  000 Hectares          133.0   \n",
       "8                Area under Crops(000ha)  2016  000 Hectares          114.6   \n",
       "9                Area under Crops(000ha)  2017  000 Hectares          115.2   \n",
       "10               Area under Crops(000ha)  2018  000 Hectares          127.4   \n",
       "11               Area under Crops(000ha)  2019  000 Hectares           96.5   \n",
       "12               Area under Crops(000ha)  2020  000 Hectares          141.7   \n",
       "13               Area under Crops(000ha)  2021  000 Hectares          116.4   \n",
       "14            Crop Production(000tonnes)  2008    000 Tonnes         1112.4   \n",
       "15            Crop Production(000tonnes)  2009    000 Tonnes         1063.1   \n",
       "16            Crop Production(000tonnes)  2010    000 Tonnes          977.9   \n",
       "17            Crop Production(000tonnes)  2011    000 Tonnes         1085.8   \n",
       "18            Crop Production(000tonnes)  2012    000 Tonnes          940.9   \n",
       "19            Crop Production(000tonnes)  2013    000 Tonnes         1320.9   \n",
       "20            Crop Production(000tonnes)  2014    000 Tonnes         1172.5   \n",
       "21            Crop Production(000tonnes)  2015    000 Tonnes         1027.4   \n",
       "22            Crop Production(000tonnes)  2016    000 Tonnes          835.5   \n",
       "23            Crop Production(000tonnes)  2017    000 Tonnes          913.7   \n",
       "24            Crop Production(000tonnes)  2018    000 Tonnes          716.1   \n",
       "25            Crop Production(000tonnes)  2019    000 Tonnes          776.7   \n",
       "26            Crop Production(000tonnes)  2020    000 Tonnes         1004.0   \n",
       "27            Crop Production(000tonnes)  2021    000 Tonnes          917.6   \n",
       "28             Crop Yield per ha(tonnes)  2008        Tonnes            6.7   \n",
       "29             Crop Yield per ha(tonnes)  2009        Tonnes            6.1   \n",
       "30             Crop Yield per ha(tonnes)  2010        Tonnes            6.7   \n",
       "31             Crop Yield per ha(tonnes)  2011        Tonnes            7.5   \n",
       "32             Crop Yield per ha(tonnes)  2012        Tonnes            6.2   \n",
       "33             Crop Yield per ha(tonnes)  2013        Tonnes            7.2   \n",
       "34             Crop Yield per ha(tonnes)  2014        Tonnes            7.5   \n",
       "35             Crop Yield per ha(tonnes)  2015        Tonnes            7.7   \n",
       "36             Crop Yield per ha(tonnes)  2016        Tonnes            7.3   \n",
       "37             Crop Yield per ha(tonnes)  2017        Tonnes            7.9   \n",
       "38             Crop Yield per ha(tonnes)  2018        Tonnes            5.6   \n",
       "39             Crop Yield per ha(tonnes)  2019        Tonnes            8.0   \n",
       "40             Crop Yield per ha(tonnes)  2020        Tonnes            7.1   \n",
       "41             Crop Yield per ha(tonnes)  2021        Tonnes            7.9   \n",
       "\n",
       "Type of Crop  Spring oats  Spring wheat  Winter barley  Winter oats  \\\n",
       "0                     4.2          23.2           21.1         18.7   \n",
       "1                    11.3          20.2           19.3          9.1   \n",
       "2                     9.4          18.0           28.8         10.3   \n",
       "3                    12.4          16.4           35.9          9.0   \n",
       "4                    13.8          13.5           41.0          9.9   \n",
       "5                    21.3          15.2           36.0          5.4   \n",
       "6                     8.5           6.5           60.1         10.1   \n",
       "7                    12.1          10.1           69.8         11.4   \n",
       "8                    10.0           7.5           74.6         13.2   \n",
       "9                    10.0           6.8           65.0         14.4   \n",
       "10                    7.6           3.6           57.9         10.2   \n",
       "11                    7.2           3.8           82.8         16.6   \n",
       "12                   17.2          11.5           51.5          8.3   \n",
       "13                   14.5           6.1           67.5         13.9   \n",
       "14                   26.4         153.0          181.8        147.9   \n",
       "15                   74.4         137.4          164.2         71.3   \n",
       "16                   67.6         137.2          245.1         80.5   \n",
       "17                   97.6         136.4          326.3         70.5   \n",
       "18                   88.4          82.2          319.8         68.2   \n",
       "19                  149.1         123.3          341.8         43.4   \n",
       "20                   61.9          53.6          558.7         87.8   \n",
       "21                   93.0          86.5          711.9        104.7   \n",
       "22                   73.0          60.3          644.4        110.3   \n",
       "23                   76.4          55.2          592.2        128.7   \n",
       "24                   42.2          22.2          508.8         80.1   \n",
       "25                   55.5          31.4          780.8        147.2   \n",
       "26                  122.3          85.4          426.3         67.6   \n",
       "27                  111.4          52.7          638.8        126.9   \n",
       "28                    6.3           6.6            8.6          7.9   \n",
       "29                    6.6           6.8            8.5          7.8   \n",
       "30                    7.2           7.6            8.5          7.8   \n",
       "31                    7.9           8.3            9.1          7.8   \n",
       "32                    6.4           6.1            7.8          6.9   \n",
       "33                    7.0           8.1            9.5          8.1   \n",
       "34                    7.3           8.3            9.3          8.7   \n",
       "35                    7.7           8.6           10.2          9.2   \n",
       "36                    7.3           8.0            8.6          8.3   \n",
       "37                    7.6           8.2            9.1          8.9   \n",
       "38                    5.6           6.2            8.8          7.9   \n",
       "39                    7.7           8.3            9.4          8.9   \n",
       "40                    7.1           7.4            8.3          8.2   \n",
       "41                    7.7           8.7            9.5          9.1   \n",
       "\n",
       "Type of Crop  Winter wheat  \n",
       "0                     87.5  \n",
       "1                     64.3  \n",
       "2                     59.8  \n",
       "3                     77.7  \n",
       "4                     84.6  \n",
       "5                     45.4  \n",
       "6                     65.1  \n",
       "7                     55.3  \n",
       "8                     60.4  \n",
       "9                     60.3  \n",
       "10                    54.4  \n",
       "11                    59.7  \n",
       "12                    35.4  \n",
       "13                    56.2  \n",
       "14                   839.9  \n",
       "15                   552.7  \n",
       "16                   532.0  \n",
       "17                   792.9  \n",
       "18                   625.7  \n",
       "19                   422.1  \n",
       "20                   663.4  \n",
       "21                   610.1  \n",
       "22                   587.5  \n",
       "23                   626.6  \n",
       "24                   484.6  \n",
       "25                   604.6  \n",
       "26                   307.6  \n",
       "27                   609.7  \n",
       "28                     9.6  \n",
       "29                     8.6  \n",
       "30                     8.9  \n",
       "31                    10.2  \n",
       "32                     7.4  \n",
       "33                     9.3  \n",
       "34                    10.2  \n",
       "35                    11.0  \n",
       "36                     9.7  \n",
       "37                    10.4  \n",
       "38                     8.9  \n",
       "39                    10.1  \n",
       "40                     8.7  \n",
       "41                    10.8  "
      ]
     },
     "execution_count": 14,
     "metadata": {},
     "output_type": "execute_result"
    }
   ],
   "source": [
    "irish_cer.head(50)"
   ]
  },
  {
   "cell_type": "code",
   "execution_count": 15,
   "id": "187b2ed2",
   "metadata": {
    "scrolled": false
   },
   "outputs": [
    {
     "data": {
      "text/html": [
       "<div>\n",
       "<style scoped>\n",
       "    .dataframe tbody tr th:only-of-type {\n",
       "        vertical-align: middle;\n",
       "    }\n",
       "\n",
       "    .dataframe tbody tr th {\n",
       "        vertical-align: top;\n",
       "    }\n",
       "\n",
       "    .dataframe thead th {\n",
       "        text-align: right;\n",
       "    }\n",
       "</style>\n",
       "<table border=\"1\" class=\"dataframe\">\n",
       "  <thead>\n",
       "    <tr style=\"text-align: right;\">\n",
       "      <th>Type of Crop</th>\n",
       "      <th>Statistic Label</th>\n",
       "      <th>Year</th>\n",
       "      <th>Spring barley</th>\n",
       "      <th>Spring oats</th>\n",
       "      <th>Spring wheat</th>\n",
       "      <th>Winter barley</th>\n",
       "      <th>Winter oats</th>\n",
       "      <th>Winter wheat</th>\n",
       "    </tr>\n",
       "  </thead>\n",
       "  <tbody>\n",
       "    <tr>\n",
       "      <th>0</th>\n",
       "      <td>Area under Crops(000ha)</td>\n",
       "      <td>2008</td>\n",
       "      <td>166.0</td>\n",
       "      <td>4.2</td>\n",
       "      <td>23.2</td>\n",
       "      <td>21.1</td>\n",
       "      <td>18.7</td>\n",
       "      <td>87.5</td>\n",
       "    </tr>\n",
       "    <tr>\n",
       "      <th>1</th>\n",
       "      <td>Area under Crops(000ha)</td>\n",
       "      <td>2009</td>\n",
       "      <td>174.3</td>\n",
       "      <td>11.3</td>\n",
       "      <td>20.2</td>\n",
       "      <td>19.3</td>\n",
       "      <td>9.1</td>\n",
       "      <td>64.3</td>\n",
       "    </tr>\n",
       "    <tr>\n",
       "      <th>2</th>\n",
       "      <td>Area under Crops(000ha)</td>\n",
       "      <td>2010</td>\n",
       "      <td>146.0</td>\n",
       "      <td>9.4</td>\n",
       "      <td>18.0</td>\n",
       "      <td>28.8</td>\n",
       "      <td>10.3</td>\n",
       "      <td>59.8</td>\n",
       "    </tr>\n",
       "    <tr>\n",
       "      <th>3</th>\n",
       "      <td>Area under Crops(000ha)</td>\n",
       "      <td>2011</td>\n",
       "      <td>144.8</td>\n",
       "      <td>12.4</td>\n",
       "      <td>16.4</td>\n",
       "      <td>35.9</td>\n",
       "      <td>9.0</td>\n",
       "      <td>77.7</td>\n",
       "    </tr>\n",
       "    <tr>\n",
       "      <th>4</th>\n",
       "      <td>Area under Crops(000ha)</td>\n",
       "      <td>2012</td>\n",
       "      <td>151.8</td>\n",
       "      <td>13.8</td>\n",
       "      <td>13.5</td>\n",
       "      <td>41.0</td>\n",
       "      <td>9.9</td>\n",
       "      <td>84.6</td>\n",
       "    </tr>\n",
       "  </tbody>\n",
       "</table>\n",
       "</div>"
      ],
      "text/plain": [
       "Type of Crop          Statistic Label  Year  Spring barley  Spring oats  \\\n",
       "0             Area under Crops(000ha)  2008          166.0          4.2   \n",
       "1             Area under Crops(000ha)  2009          174.3         11.3   \n",
       "2             Area under Crops(000ha)  2010          146.0          9.4   \n",
       "3             Area under Crops(000ha)  2011          144.8         12.4   \n",
       "4             Area under Crops(000ha)  2012          151.8         13.8   \n",
       "\n",
       "Type of Crop  Spring wheat  Winter barley  Winter oats  Winter wheat  \n",
       "0                     23.2           21.1         18.7          87.5  \n",
       "1                     20.2           19.3          9.1          64.3  \n",
       "2                     18.0           28.8         10.3          59.8  \n",
       "3                     16.4           35.9          9.0          77.7  \n",
       "4                     13.5           41.0          9.9          84.6  "
      ]
     },
     "execution_count": 15,
     "metadata": {},
     "output_type": "execute_result"
    }
   ],
   "source": [
    "# Dropping the \"UNIT\" column because its description has been added to the \"Statistic Label\" column\n",
    "irish_cer = irish_cer.drop(columns=[\"UNIT\"])\n",
    "irish_cer.head()"
   ]
  },
  {
   "cell_type": "code",
   "execution_count": 16,
   "id": "11e9997d",
   "metadata": {
    "scrolled": true
   },
   "outputs": [
    {
     "data": {
      "text/html": [
       "<div>\n",
       "<style scoped>\n",
       "    .dataframe tbody tr th:only-of-type {\n",
       "        vertical-align: middle;\n",
       "    }\n",
       "\n",
       "    .dataframe tbody tr th {\n",
       "        vertical-align: top;\n",
       "    }\n",
       "\n",
       "    .dataframe thead th {\n",
       "        text-align: right;\n",
       "    }\n",
       "</style>\n",
       "<table border=\"1\" class=\"dataframe\">\n",
       "  <thead>\n",
       "    <tr style=\"text-align: right;\">\n",
       "      <th>Type of Crop</th>\n",
       "      <th>Statistic Label</th>\n",
       "      <th>Year</th>\n",
       "      <th>Spring barley</th>\n",
       "      <th>Spring oats</th>\n",
       "      <th>Spring wheat</th>\n",
       "      <th>Winter barley</th>\n",
       "      <th>Winter oats</th>\n",
       "      <th>Winter wheat</th>\n",
       "      <th>Barley_total</th>\n",
       "      <th>Oat_total</th>\n",
       "      <th>Wheat_total</th>\n",
       "    </tr>\n",
       "  </thead>\n",
       "  <tbody>\n",
       "    <tr>\n",
       "      <th>0</th>\n",
       "      <td>Area under Crops(000ha)</td>\n",
       "      <td>2008</td>\n",
       "      <td>166.0</td>\n",
       "      <td>4.2</td>\n",
       "      <td>23.2</td>\n",
       "      <td>21.1</td>\n",
       "      <td>18.7</td>\n",
       "      <td>87.5</td>\n",
       "      <td>187.1</td>\n",
       "      <td>22.9</td>\n",
       "      <td>110.7</td>\n",
       "    </tr>\n",
       "    <tr>\n",
       "      <th>1</th>\n",
       "      <td>Area under Crops(000ha)</td>\n",
       "      <td>2009</td>\n",
       "      <td>174.3</td>\n",
       "      <td>11.3</td>\n",
       "      <td>20.2</td>\n",
       "      <td>19.3</td>\n",
       "      <td>9.1</td>\n",
       "      <td>64.3</td>\n",
       "      <td>193.6</td>\n",
       "      <td>20.4</td>\n",
       "      <td>84.5</td>\n",
       "    </tr>\n",
       "    <tr>\n",
       "      <th>2</th>\n",
       "      <td>Area under Crops(000ha)</td>\n",
       "      <td>2010</td>\n",
       "      <td>146.0</td>\n",
       "      <td>9.4</td>\n",
       "      <td>18.0</td>\n",
       "      <td>28.8</td>\n",
       "      <td>10.3</td>\n",
       "      <td>59.8</td>\n",
       "      <td>174.8</td>\n",
       "      <td>19.7</td>\n",
       "      <td>77.8</td>\n",
       "    </tr>\n",
       "    <tr>\n",
       "      <th>3</th>\n",
       "      <td>Area under Crops(000ha)</td>\n",
       "      <td>2011</td>\n",
       "      <td>144.8</td>\n",
       "      <td>12.4</td>\n",
       "      <td>16.4</td>\n",
       "      <td>35.9</td>\n",
       "      <td>9.0</td>\n",
       "      <td>77.7</td>\n",
       "      <td>180.7</td>\n",
       "      <td>21.4</td>\n",
       "      <td>94.1</td>\n",
       "    </tr>\n",
       "    <tr>\n",
       "      <th>4</th>\n",
       "      <td>Area under Crops(000ha)</td>\n",
       "      <td>2012</td>\n",
       "      <td>151.8</td>\n",
       "      <td>13.8</td>\n",
       "      <td>13.5</td>\n",
       "      <td>41.0</td>\n",
       "      <td>9.9</td>\n",
       "      <td>84.6</td>\n",
       "      <td>192.8</td>\n",
       "      <td>23.7</td>\n",
       "      <td>98.1</td>\n",
       "    </tr>\n",
       "    <tr>\n",
       "      <th>5</th>\n",
       "      <td>Area under Crops(000ha)</td>\n",
       "      <td>2013</td>\n",
       "      <td>183.5</td>\n",
       "      <td>21.3</td>\n",
       "      <td>15.2</td>\n",
       "      <td>36.0</td>\n",
       "      <td>5.4</td>\n",
       "      <td>45.4</td>\n",
       "      <td>219.5</td>\n",
       "      <td>26.7</td>\n",
       "      <td>60.6</td>\n",
       "    </tr>\n",
       "    <tr>\n",
       "      <th>6</th>\n",
       "      <td>Area under Crops(000ha)</td>\n",
       "      <td>2014</td>\n",
       "      <td>155.6</td>\n",
       "      <td>8.5</td>\n",
       "      <td>6.5</td>\n",
       "      <td>60.1</td>\n",
       "      <td>10.1</td>\n",
       "      <td>65.1</td>\n",
       "      <td>215.7</td>\n",
       "      <td>18.6</td>\n",
       "      <td>71.6</td>\n",
       "    </tr>\n",
       "    <tr>\n",
       "      <th>7</th>\n",
       "      <td>Area under Crops(000ha)</td>\n",
       "      <td>2015</td>\n",
       "      <td>133.0</td>\n",
       "      <td>12.1</td>\n",
       "      <td>10.1</td>\n",
       "      <td>69.8</td>\n",
       "      <td>11.4</td>\n",
       "      <td>55.3</td>\n",
       "      <td>202.8</td>\n",
       "      <td>23.5</td>\n",
       "      <td>65.4</td>\n",
       "    </tr>\n",
       "    <tr>\n",
       "      <th>8</th>\n",
       "      <td>Area under Crops(000ha)</td>\n",
       "      <td>2016</td>\n",
       "      <td>114.6</td>\n",
       "      <td>10.0</td>\n",
       "      <td>7.5</td>\n",
       "      <td>74.6</td>\n",
       "      <td>13.2</td>\n",
       "      <td>60.4</td>\n",
       "      <td>189.2</td>\n",
       "      <td>23.2</td>\n",
       "      <td>67.9</td>\n",
       "    </tr>\n",
       "    <tr>\n",
       "      <th>9</th>\n",
       "      <td>Area under Crops(000ha)</td>\n",
       "      <td>2017</td>\n",
       "      <td>115.2</td>\n",
       "      <td>10.0</td>\n",
       "      <td>6.8</td>\n",
       "      <td>65.0</td>\n",
       "      <td>14.4</td>\n",
       "      <td>60.3</td>\n",
       "      <td>180.2</td>\n",
       "      <td>24.4</td>\n",
       "      <td>67.1</td>\n",
       "    </tr>\n",
       "    <tr>\n",
       "      <th>10</th>\n",
       "      <td>Area under Crops(000ha)</td>\n",
       "      <td>2018</td>\n",
       "      <td>127.4</td>\n",
       "      <td>7.6</td>\n",
       "      <td>3.6</td>\n",
       "      <td>57.9</td>\n",
       "      <td>10.2</td>\n",
       "      <td>54.4</td>\n",
       "      <td>185.3</td>\n",
       "      <td>17.8</td>\n",
       "      <td>58.0</td>\n",
       "    </tr>\n",
       "    <tr>\n",
       "      <th>11</th>\n",
       "      <td>Area under Crops(000ha)</td>\n",
       "      <td>2019</td>\n",
       "      <td>96.5</td>\n",
       "      <td>7.2</td>\n",
       "      <td>3.8</td>\n",
       "      <td>82.8</td>\n",
       "      <td>16.6</td>\n",
       "      <td>59.7</td>\n",
       "      <td>179.3</td>\n",
       "      <td>23.8</td>\n",
       "      <td>63.5</td>\n",
       "    </tr>\n",
       "    <tr>\n",
       "      <th>12</th>\n",
       "      <td>Area under Crops(000ha)</td>\n",
       "      <td>2020</td>\n",
       "      <td>141.7</td>\n",
       "      <td>17.2</td>\n",
       "      <td>11.5</td>\n",
       "      <td>51.5</td>\n",
       "      <td>8.3</td>\n",
       "      <td>35.4</td>\n",
       "      <td>193.2</td>\n",
       "      <td>25.5</td>\n",
       "      <td>46.9</td>\n",
       "    </tr>\n",
       "    <tr>\n",
       "      <th>13</th>\n",
       "      <td>Area under Crops(000ha)</td>\n",
       "      <td>2021</td>\n",
       "      <td>116.4</td>\n",
       "      <td>14.5</td>\n",
       "      <td>6.1</td>\n",
       "      <td>67.5</td>\n",
       "      <td>13.9</td>\n",
       "      <td>56.2</td>\n",
       "      <td>183.9</td>\n",
       "      <td>28.4</td>\n",
       "      <td>62.3</td>\n",
       "    </tr>\n",
       "    <tr>\n",
       "      <th>14</th>\n",
       "      <td>Crop Production(000tonnes)</td>\n",
       "      <td>2008</td>\n",
       "      <td>1112.4</td>\n",
       "      <td>26.4</td>\n",
       "      <td>153.0</td>\n",
       "      <td>181.8</td>\n",
       "      <td>147.9</td>\n",
       "      <td>839.9</td>\n",
       "      <td>1294.2</td>\n",
       "      <td>174.3</td>\n",
       "      <td>992.9</td>\n",
       "    </tr>\n",
       "    <tr>\n",
       "      <th>15</th>\n",
       "      <td>Crop Production(000tonnes)</td>\n",
       "      <td>2009</td>\n",
       "      <td>1063.1</td>\n",
       "      <td>74.4</td>\n",
       "      <td>137.4</td>\n",
       "      <td>164.2</td>\n",
       "      <td>71.3</td>\n",
       "      <td>552.7</td>\n",
       "      <td>1227.3</td>\n",
       "      <td>145.7</td>\n",
       "      <td>690.1</td>\n",
       "    </tr>\n",
       "    <tr>\n",
       "      <th>16</th>\n",
       "      <td>Crop Production(000tonnes)</td>\n",
       "      <td>2010</td>\n",
       "      <td>977.9</td>\n",
       "      <td>67.6</td>\n",
       "      <td>137.2</td>\n",
       "      <td>245.1</td>\n",
       "      <td>80.5</td>\n",
       "      <td>532.0</td>\n",
       "      <td>1223.0</td>\n",
       "      <td>148.1</td>\n",
       "      <td>669.2</td>\n",
       "    </tr>\n",
       "    <tr>\n",
       "      <th>17</th>\n",
       "      <td>Crop Production(000tonnes)</td>\n",
       "      <td>2011</td>\n",
       "      <td>1085.8</td>\n",
       "      <td>97.6</td>\n",
       "      <td>136.4</td>\n",
       "      <td>326.3</td>\n",
       "      <td>70.5</td>\n",
       "      <td>792.9</td>\n",
       "      <td>1412.1</td>\n",
       "      <td>168.1</td>\n",
       "      <td>929.3</td>\n",
       "    </tr>\n",
       "    <tr>\n",
       "      <th>18</th>\n",
       "      <td>Crop Production(000tonnes)</td>\n",
       "      <td>2012</td>\n",
       "      <td>940.9</td>\n",
       "      <td>88.4</td>\n",
       "      <td>82.2</td>\n",
       "      <td>319.8</td>\n",
       "      <td>68.2</td>\n",
       "      <td>625.7</td>\n",
       "      <td>1260.7</td>\n",
       "      <td>156.6</td>\n",
       "      <td>707.9</td>\n",
       "    </tr>\n",
       "    <tr>\n",
       "      <th>19</th>\n",
       "      <td>Crop Production(000tonnes)</td>\n",
       "      <td>2013</td>\n",
       "      <td>1320.9</td>\n",
       "      <td>149.1</td>\n",
       "      <td>123.3</td>\n",
       "      <td>341.8</td>\n",
       "      <td>43.4</td>\n",
       "      <td>422.1</td>\n",
       "      <td>1662.7</td>\n",
       "      <td>192.5</td>\n",
       "      <td>545.4</td>\n",
       "    </tr>\n",
       "    <tr>\n",
       "      <th>20</th>\n",
       "      <td>Crop Production(000tonnes)</td>\n",
       "      <td>2014</td>\n",
       "      <td>1172.5</td>\n",
       "      <td>61.9</td>\n",
       "      <td>53.6</td>\n",
       "      <td>558.7</td>\n",
       "      <td>87.8</td>\n",
       "      <td>663.4</td>\n",
       "      <td>1731.2</td>\n",
       "      <td>149.7</td>\n",
       "      <td>717.0</td>\n",
       "    </tr>\n",
       "    <tr>\n",
       "      <th>21</th>\n",
       "      <td>Crop Production(000tonnes)</td>\n",
       "      <td>2015</td>\n",
       "      <td>1027.4</td>\n",
       "      <td>93.0</td>\n",
       "      <td>86.5</td>\n",
       "      <td>711.9</td>\n",
       "      <td>104.7</td>\n",
       "      <td>610.1</td>\n",
       "      <td>1739.3</td>\n",
       "      <td>197.7</td>\n",
       "      <td>696.6</td>\n",
       "    </tr>\n",
       "    <tr>\n",
       "      <th>22</th>\n",
       "      <td>Crop Production(000tonnes)</td>\n",
       "      <td>2016</td>\n",
       "      <td>835.5</td>\n",
       "      <td>73.0</td>\n",
       "      <td>60.3</td>\n",
       "      <td>644.4</td>\n",
       "      <td>110.3</td>\n",
       "      <td>587.5</td>\n",
       "      <td>1479.9</td>\n",
       "      <td>183.3</td>\n",
       "      <td>647.8</td>\n",
       "    </tr>\n",
       "    <tr>\n",
       "      <th>23</th>\n",
       "      <td>Crop Production(000tonnes)</td>\n",
       "      <td>2017</td>\n",
       "      <td>913.7</td>\n",
       "      <td>76.4</td>\n",
       "      <td>55.2</td>\n",
       "      <td>592.2</td>\n",
       "      <td>128.7</td>\n",
       "      <td>626.6</td>\n",
       "      <td>1505.9</td>\n",
       "      <td>205.1</td>\n",
       "      <td>681.8</td>\n",
       "    </tr>\n",
       "    <tr>\n",
       "      <th>24</th>\n",
       "      <td>Crop Production(000tonnes)</td>\n",
       "      <td>2018</td>\n",
       "      <td>716.1</td>\n",
       "      <td>42.2</td>\n",
       "      <td>22.2</td>\n",
       "      <td>508.8</td>\n",
       "      <td>80.1</td>\n",
       "      <td>484.6</td>\n",
       "      <td>1224.9</td>\n",
       "      <td>122.3</td>\n",
       "      <td>506.8</td>\n",
       "    </tr>\n",
       "    <tr>\n",
       "      <th>25</th>\n",
       "      <td>Crop Production(000tonnes)</td>\n",
       "      <td>2019</td>\n",
       "      <td>776.7</td>\n",
       "      <td>55.5</td>\n",
       "      <td>31.4</td>\n",
       "      <td>780.8</td>\n",
       "      <td>147.2</td>\n",
       "      <td>604.6</td>\n",
       "      <td>1557.5</td>\n",
       "      <td>202.7</td>\n",
       "      <td>636.0</td>\n",
       "    </tr>\n",
       "    <tr>\n",
       "      <th>26</th>\n",
       "      <td>Crop Production(000tonnes)</td>\n",
       "      <td>2020</td>\n",
       "      <td>1004.0</td>\n",
       "      <td>122.3</td>\n",
       "      <td>85.4</td>\n",
       "      <td>426.3</td>\n",
       "      <td>67.6</td>\n",
       "      <td>307.6</td>\n",
       "      <td>1430.3</td>\n",
       "      <td>189.9</td>\n",
       "      <td>393.0</td>\n",
       "    </tr>\n",
       "    <tr>\n",
       "      <th>27</th>\n",
       "      <td>Crop Production(000tonnes)</td>\n",
       "      <td>2021</td>\n",
       "      <td>917.6</td>\n",
       "      <td>111.4</td>\n",
       "      <td>52.7</td>\n",
       "      <td>638.8</td>\n",
       "      <td>126.9</td>\n",
       "      <td>609.7</td>\n",
       "      <td>1556.4</td>\n",
       "      <td>238.3</td>\n",
       "      <td>662.4</td>\n",
       "    </tr>\n",
       "    <tr>\n",
       "      <th>28</th>\n",
       "      <td>Crop Yield per ha(tonnes)</td>\n",
       "      <td>2008</td>\n",
       "      <td>6.7</td>\n",
       "      <td>6.3</td>\n",
       "      <td>6.6</td>\n",
       "      <td>8.6</td>\n",
       "      <td>7.9</td>\n",
       "      <td>9.6</td>\n",
       "      <td>15.3</td>\n",
       "      <td>14.2</td>\n",
       "      <td>16.2</td>\n",
       "    </tr>\n",
       "    <tr>\n",
       "      <th>29</th>\n",
       "      <td>Crop Yield per ha(tonnes)</td>\n",
       "      <td>2009</td>\n",
       "      <td>6.1</td>\n",
       "      <td>6.6</td>\n",
       "      <td>6.8</td>\n",
       "      <td>8.5</td>\n",
       "      <td>7.8</td>\n",
       "      <td>8.6</td>\n",
       "      <td>14.6</td>\n",
       "      <td>14.4</td>\n",
       "      <td>15.4</td>\n",
       "    </tr>\n",
       "    <tr>\n",
       "      <th>30</th>\n",
       "      <td>Crop Yield per ha(tonnes)</td>\n",
       "      <td>2010</td>\n",
       "      <td>6.7</td>\n",
       "      <td>7.2</td>\n",
       "      <td>7.6</td>\n",
       "      <td>8.5</td>\n",
       "      <td>7.8</td>\n",
       "      <td>8.9</td>\n",
       "      <td>15.2</td>\n",
       "      <td>15.0</td>\n",
       "      <td>16.5</td>\n",
       "    </tr>\n",
       "    <tr>\n",
       "      <th>31</th>\n",
       "      <td>Crop Yield per ha(tonnes)</td>\n",
       "      <td>2011</td>\n",
       "      <td>7.5</td>\n",
       "      <td>7.9</td>\n",
       "      <td>8.3</td>\n",
       "      <td>9.1</td>\n",
       "      <td>7.8</td>\n",
       "      <td>10.2</td>\n",
       "      <td>16.6</td>\n",
       "      <td>15.7</td>\n",
       "      <td>18.5</td>\n",
       "    </tr>\n",
       "    <tr>\n",
       "      <th>32</th>\n",
       "      <td>Crop Yield per ha(tonnes)</td>\n",
       "      <td>2012</td>\n",
       "      <td>6.2</td>\n",
       "      <td>6.4</td>\n",
       "      <td>6.1</td>\n",
       "      <td>7.8</td>\n",
       "      <td>6.9</td>\n",
       "      <td>7.4</td>\n",
       "      <td>14.0</td>\n",
       "      <td>13.3</td>\n",
       "      <td>13.5</td>\n",
       "    </tr>\n",
       "    <tr>\n",
       "      <th>33</th>\n",
       "      <td>Crop Yield per ha(tonnes)</td>\n",
       "      <td>2013</td>\n",
       "      <td>7.2</td>\n",
       "      <td>7.0</td>\n",
       "      <td>8.1</td>\n",
       "      <td>9.5</td>\n",
       "      <td>8.1</td>\n",
       "      <td>9.3</td>\n",
       "      <td>16.7</td>\n",
       "      <td>15.1</td>\n",
       "      <td>17.4</td>\n",
       "    </tr>\n",
       "    <tr>\n",
       "      <th>34</th>\n",
       "      <td>Crop Yield per ha(tonnes)</td>\n",
       "      <td>2014</td>\n",
       "      <td>7.5</td>\n",
       "      <td>7.3</td>\n",
       "      <td>8.3</td>\n",
       "      <td>9.3</td>\n",
       "      <td>8.7</td>\n",
       "      <td>10.2</td>\n",
       "      <td>16.8</td>\n",
       "      <td>16.0</td>\n",
       "      <td>18.5</td>\n",
       "    </tr>\n",
       "    <tr>\n",
       "      <th>35</th>\n",
       "      <td>Crop Yield per ha(tonnes)</td>\n",
       "      <td>2015</td>\n",
       "      <td>7.7</td>\n",
       "      <td>7.7</td>\n",
       "      <td>8.6</td>\n",
       "      <td>10.2</td>\n",
       "      <td>9.2</td>\n",
       "      <td>11.0</td>\n",
       "      <td>17.9</td>\n",
       "      <td>16.9</td>\n",
       "      <td>19.6</td>\n",
       "    </tr>\n",
       "    <tr>\n",
       "      <th>36</th>\n",
       "      <td>Crop Yield per ha(tonnes)</td>\n",
       "      <td>2016</td>\n",
       "      <td>7.3</td>\n",
       "      <td>7.3</td>\n",
       "      <td>8.0</td>\n",
       "      <td>8.6</td>\n",
       "      <td>8.3</td>\n",
       "      <td>9.7</td>\n",
       "      <td>15.9</td>\n",
       "      <td>15.6</td>\n",
       "      <td>17.7</td>\n",
       "    </tr>\n",
       "    <tr>\n",
       "      <th>37</th>\n",
       "      <td>Crop Yield per ha(tonnes)</td>\n",
       "      <td>2017</td>\n",
       "      <td>7.9</td>\n",
       "      <td>7.6</td>\n",
       "      <td>8.2</td>\n",
       "      <td>9.1</td>\n",
       "      <td>8.9</td>\n",
       "      <td>10.4</td>\n",
       "      <td>17.0</td>\n",
       "      <td>16.5</td>\n",
       "      <td>18.6</td>\n",
       "    </tr>\n",
       "    <tr>\n",
       "      <th>38</th>\n",
       "      <td>Crop Yield per ha(tonnes)</td>\n",
       "      <td>2018</td>\n",
       "      <td>5.6</td>\n",
       "      <td>5.6</td>\n",
       "      <td>6.2</td>\n",
       "      <td>8.8</td>\n",
       "      <td>7.9</td>\n",
       "      <td>8.9</td>\n",
       "      <td>14.4</td>\n",
       "      <td>13.5</td>\n",
       "      <td>15.1</td>\n",
       "    </tr>\n",
       "    <tr>\n",
       "      <th>39</th>\n",
       "      <td>Crop Yield per ha(tonnes)</td>\n",
       "      <td>2019</td>\n",
       "      <td>8.0</td>\n",
       "      <td>7.7</td>\n",
       "      <td>8.3</td>\n",
       "      <td>9.4</td>\n",
       "      <td>8.9</td>\n",
       "      <td>10.1</td>\n",
       "      <td>17.4</td>\n",
       "      <td>16.6</td>\n",
       "      <td>18.4</td>\n",
       "    </tr>\n",
       "    <tr>\n",
       "      <th>40</th>\n",
       "      <td>Crop Yield per ha(tonnes)</td>\n",
       "      <td>2020</td>\n",
       "      <td>7.1</td>\n",
       "      <td>7.1</td>\n",
       "      <td>7.4</td>\n",
       "      <td>8.3</td>\n",
       "      <td>8.2</td>\n",
       "      <td>8.7</td>\n",
       "      <td>15.4</td>\n",
       "      <td>15.3</td>\n",
       "      <td>16.1</td>\n",
       "    </tr>\n",
       "    <tr>\n",
       "      <th>41</th>\n",
       "      <td>Crop Yield per ha(tonnes)</td>\n",
       "      <td>2021</td>\n",
       "      <td>7.9</td>\n",
       "      <td>7.7</td>\n",
       "      <td>8.7</td>\n",
       "      <td>9.5</td>\n",
       "      <td>9.1</td>\n",
       "      <td>10.8</td>\n",
       "      <td>17.4</td>\n",
       "      <td>16.8</td>\n",
       "      <td>19.5</td>\n",
       "    </tr>\n",
       "  </tbody>\n",
       "</table>\n",
       "</div>"
      ],
      "text/plain": [
       "Type of Crop             Statistic Label  Year  Spring barley  Spring oats  \\\n",
       "0                Area under Crops(000ha)  2008          166.0          4.2   \n",
       "1                Area under Crops(000ha)  2009          174.3         11.3   \n",
       "2                Area under Crops(000ha)  2010          146.0          9.4   \n",
       "3                Area under Crops(000ha)  2011          144.8         12.4   \n",
       "4                Area under Crops(000ha)  2012          151.8         13.8   \n",
       "5                Area under Crops(000ha)  2013          183.5         21.3   \n",
       "6                Area under Crops(000ha)  2014          155.6          8.5   \n",
       "7                Area under Crops(000ha)  2015          133.0         12.1   \n",
       "8                Area under Crops(000ha)  2016          114.6         10.0   \n",
       "9                Area under Crops(000ha)  2017          115.2         10.0   \n",
       "10               Area under Crops(000ha)  2018          127.4          7.6   \n",
       "11               Area under Crops(000ha)  2019           96.5          7.2   \n",
       "12               Area under Crops(000ha)  2020          141.7         17.2   \n",
       "13               Area under Crops(000ha)  2021          116.4         14.5   \n",
       "14            Crop Production(000tonnes)  2008         1112.4         26.4   \n",
       "15            Crop Production(000tonnes)  2009         1063.1         74.4   \n",
       "16            Crop Production(000tonnes)  2010          977.9         67.6   \n",
       "17            Crop Production(000tonnes)  2011         1085.8         97.6   \n",
       "18            Crop Production(000tonnes)  2012          940.9         88.4   \n",
       "19            Crop Production(000tonnes)  2013         1320.9        149.1   \n",
       "20            Crop Production(000tonnes)  2014         1172.5         61.9   \n",
       "21            Crop Production(000tonnes)  2015         1027.4         93.0   \n",
       "22            Crop Production(000tonnes)  2016          835.5         73.0   \n",
       "23            Crop Production(000tonnes)  2017          913.7         76.4   \n",
       "24            Crop Production(000tonnes)  2018          716.1         42.2   \n",
       "25            Crop Production(000tonnes)  2019          776.7         55.5   \n",
       "26            Crop Production(000tonnes)  2020         1004.0        122.3   \n",
       "27            Crop Production(000tonnes)  2021          917.6        111.4   \n",
       "28             Crop Yield per ha(tonnes)  2008            6.7          6.3   \n",
       "29             Crop Yield per ha(tonnes)  2009            6.1          6.6   \n",
       "30             Crop Yield per ha(tonnes)  2010            6.7          7.2   \n",
       "31             Crop Yield per ha(tonnes)  2011            7.5          7.9   \n",
       "32             Crop Yield per ha(tonnes)  2012            6.2          6.4   \n",
       "33             Crop Yield per ha(tonnes)  2013            7.2          7.0   \n",
       "34             Crop Yield per ha(tonnes)  2014            7.5          7.3   \n",
       "35             Crop Yield per ha(tonnes)  2015            7.7          7.7   \n",
       "36             Crop Yield per ha(tonnes)  2016            7.3          7.3   \n",
       "37             Crop Yield per ha(tonnes)  2017            7.9          7.6   \n",
       "38             Crop Yield per ha(tonnes)  2018            5.6          5.6   \n",
       "39             Crop Yield per ha(tonnes)  2019            8.0          7.7   \n",
       "40             Crop Yield per ha(tonnes)  2020            7.1          7.1   \n",
       "41             Crop Yield per ha(tonnes)  2021            7.9          7.7   \n",
       "\n",
       "Type of Crop  Spring wheat  Winter barley  Winter oats  Winter wheat  \\\n",
       "0                     23.2           21.1         18.7          87.5   \n",
       "1                     20.2           19.3          9.1          64.3   \n",
       "2                     18.0           28.8         10.3          59.8   \n",
       "3                     16.4           35.9          9.0          77.7   \n",
       "4                     13.5           41.0          9.9          84.6   \n",
       "5                     15.2           36.0          5.4          45.4   \n",
       "6                      6.5           60.1         10.1          65.1   \n",
       "7                     10.1           69.8         11.4          55.3   \n",
       "8                      7.5           74.6         13.2          60.4   \n",
       "9                      6.8           65.0         14.4          60.3   \n",
       "10                     3.6           57.9         10.2          54.4   \n",
       "11                     3.8           82.8         16.6          59.7   \n",
       "12                    11.5           51.5          8.3          35.4   \n",
       "13                     6.1           67.5         13.9          56.2   \n",
       "14                   153.0          181.8        147.9         839.9   \n",
       "15                   137.4          164.2         71.3         552.7   \n",
       "16                   137.2          245.1         80.5         532.0   \n",
       "17                   136.4          326.3         70.5         792.9   \n",
       "18                    82.2          319.8         68.2         625.7   \n",
       "19                   123.3          341.8         43.4         422.1   \n",
       "20                    53.6          558.7         87.8         663.4   \n",
       "21                    86.5          711.9        104.7         610.1   \n",
       "22                    60.3          644.4        110.3         587.5   \n",
       "23                    55.2          592.2        128.7         626.6   \n",
       "24                    22.2          508.8         80.1         484.6   \n",
       "25                    31.4          780.8        147.2         604.6   \n",
       "26                    85.4          426.3         67.6         307.6   \n",
       "27                    52.7          638.8        126.9         609.7   \n",
       "28                     6.6            8.6          7.9           9.6   \n",
       "29                     6.8            8.5          7.8           8.6   \n",
       "30                     7.6            8.5          7.8           8.9   \n",
       "31                     8.3            9.1          7.8          10.2   \n",
       "32                     6.1            7.8          6.9           7.4   \n",
       "33                     8.1            9.5          8.1           9.3   \n",
       "34                     8.3            9.3          8.7          10.2   \n",
       "35                     8.6           10.2          9.2          11.0   \n",
       "36                     8.0            8.6          8.3           9.7   \n",
       "37                     8.2            9.1          8.9          10.4   \n",
       "38                     6.2            8.8          7.9           8.9   \n",
       "39                     8.3            9.4          8.9          10.1   \n",
       "40                     7.4            8.3          8.2           8.7   \n",
       "41                     8.7            9.5          9.1          10.8   \n",
       "\n",
       "Type of Crop  Barley_total  Oat_total  Wheat_total  \n",
       "0                    187.1       22.9        110.7  \n",
       "1                    193.6       20.4         84.5  \n",
       "2                    174.8       19.7         77.8  \n",
       "3                    180.7       21.4         94.1  \n",
       "4                    192.8       23.7         98.1  \n",
       "5                    219.5       26.7         60.6  \n",
       "6                    215.7       18.6         71.6  \n",
       "7                    202.8       23.5         65.4  \n",
       "8                    189.2       23.2         67.9  \n",
       "9                    180.2       24.4         67.1  \n",
       "10                   185.3       17.8         58.0  \n",
       "11                   179.3       23.8         63.5  \n",
       "12                   193.2       25.5         46.9  \n",
       "13                   183.9       28.4         62.3  \n",
       "14                  1294.2      174.3        992.9  \n",
       "15                  1227.3      145.7        690.1  \n",
       "16                  1223.0      148.1        669.2  \n",
       "17                  1412.1      168.1        929.3  \n",
       "18                  1260.7      156.6        707.9  \n",
       "19                  1662.7      192.5        545.4  \n",
       "20                  1731.2      149.7        717.0  \n",
       "21                  1739.3      197.7        696.6  \n",
       "22                  1479.9      183.3        647.8  \n",
       "23                  1505.9      205.1        681.8  \n",
       "24                  1224.9      122.3        506.8  \n",
       "25                  1557.5      202.7        636.0  \n",
       "26                  1430.3      189.9        393.0  \n",
       "27                  1556.4      238.3        662.4  \n",
       "28                    15.3       14.2         16.2  \n",
       "29                    14.6       14.4         15.4  \n",
       "30                    15.2       15.0         16.5  \n",
       "31                    16.6       15.7         18.5  \n",
       "32                    14.0       13.3         13.5  \n",
       "33                    16.7       15.1         17.4  \n",
       "34                    16.8       16.0         18.5  \n",
       "35                    17.9       16.9         19.6  \n",
       "36                    15.9       15.6         17.7  \n",
       "37                    17.0       16.5         18.6  \n",
       "38                    14.4       13.5         15.1  \n",
       "39                    17.4       16.6         18.4  \n",
       "40                    15.4       15.3         16.1  \n",
       "41                    17.4       16.8         19.5  "
      ]
     },
     "execution_count": 16,
     "metadata": {},
     "output_type": "execute_result"
    }
   ],
   "source": [
    "# adding new columns for the totals of the cereals\n",
    "df_irish = irish_cer.assign(Barley_total=lambda x: x['Spring barley'] + x['Winter barley'],\n",
    "                     Oat_total=lambda x: x['Spring oats'] + x['Winter oats'],\n",
    "                     Wheat_total=lambda x: x['Spring wheat'] + x['Winter wheat'])\n",
    "df_irish"
   ]
  },
  {
   "cell_type": "code",
   "execution_count": 25,
   "id": "22a2ffd5",
   "metadata": {},
   "outputs": [
    {
     "data": {
      "text/html": [
       "<div>\n",
       "<style scoped>\n",
       "    .dataframe tbody tr th:only-of-type {\n",
       "        vertical-align: middle;\n",
       "    }\n",
       "\n",
       "    .dataframe tbody tr th {\n",
       "        vertical-align: top;\n",
       "    }\n",
       "\n",
       "    .dataframe thead th {\n",
       "        text-align: right;\n",
       "    }\n",
       "</style>\n",
       "<table border=\"1\" class=\"dataframe\">\n",
       "  <thead>\n",
       "    <tr style=\"text-align: right;\">\n",
       "      <th>Type of Crop</th>\n",
       "      <th>Statistic Label</th>\n",
       "      <th>Year</th>\n",
       "      <th>Spring barley</th>\n",
       "      <th>Spring oats</th>\n",
       "      <th>Spring wheat</th>\n",
       "      <th>Winter barley</th>\n",
       "      <th>Winter oats</th>\n",
       "      <th>Winter wheat</th>\n",
       "      <th>Barley_total</th>\n",
       "      <th>Oat_total</th>\n",
       "      <th>Wheat_total</th>\n",
       "    </tr>\n",
       "  </thead>\n",
       "  <tbody>\n",
       "    <tr>\n",
       "      <th>0</th>\n",
       "      <td>Area under Crops(000ha)</td>\n",
       "      <td>2008</td>\n",
       "      <td>166.0</td>\n",
       "      <td>4.2</td>\n",
       "      <td>23.2</td>\n",
       "      <td>21.1</td>\n",
       "      <td>18.7</td>\n",
       "      <td>87.5</td>\n",
       "      <td>187.1</td>\n",
       "      <td>22.9</td>\n",
       "      <td>110.7</td>\n",
       "    </tr>\n",
       "    <tr>\n",
       "      <th>1</th>\n",
       "      <td>Area under Crops(000ha)</td>\n",
       "      <td>2009</td>\n",
       "      <td>174.3</td>\n",
       "      <td>11.3</td>\n",
       "      <td>20.2</td>\n",
       "      <td>19.3</td>\n",
       "      <td>9.1</td>\n",
       "      <td>64.3</td>\n",
       "      <td>193.6</td>\n",
       "      <td>20.4</td>\n",
       "      <td>84.5</td>\n",
       "    </tr>\n",
       "    <tr>\n",
       "      <th>2</th>\n",
       "      <td>Area under Crops(000ha)</td>\n",
       "      <td>2010</td>\n",
       "      <td>146.0</td>\n",
       "      <td>9.4</td>\n",
       "      <td>18.0</td>\n",
       "      <td>28.8</td>\n",
       "      <td>10.3</td>\n",
       "      <td>59.8</td>\n",
       "      <td>174.8</td>\n",
       "      <td>19.7</td>\n",
       "      <td>77.8</td>\n",
       "    </tr>\n",
       "    <tr>\n",
       "      <th>3</th>\n",
       "      <td>Area under Crops(000ha)</td>\n",
       "      <td>2011</td>\n",
       "      <td>144.8</td>\n",
       "      <td>12.4</td>\n",
       "      <td>16.4</td>\n",
       "      <td>35.9</td>\n",
       "      <td>9.0</td>\n",
       "      <td>77.7</td>\n",
       "      <td>180.7</td>\n",
       "      <td>21.4</td>\n",
       "      <td>94.1</td>\n",
       "    </tr>\n",
       "    <tr>\n",
       "      <th>4</th>\n",
       "      <td>Area under Crops(000ha)</td>\n",
       "      <td>2012</td>\n",
       "      <td>151.8</td>\n",
       "      <td>13.8</td>\n",
       "      <td>13.5</td>\n",
       "      <td>41.0</td>\n",
       "      <td>9.9</td>\n",
       "      <td>84.6</td>\n",
       "      <td>192.8</td>\n",
       "      <td>23.7</td>\n",
       "      <td>98.1</td>\n",
       "    </tr>\n",
       "    <tr>\n",
       "      <th>5</th>\n",
       "      <td>Area under Crops(000ha)</td>\n",
       "      <td>2013</td>\n",
       "      <td>183.5</td>\n",
       "      <td>21.3</td>\n",
       "      <td>15.2</td>\n",
       "      <td>36.0</td>\n",
       "      <td>5.4</td>\n",
       "      <td>45.4</td>\n",
       "      <td>219.5</td>\n",
       "      <td>26.7</td>\n",
       "      <td>60.6</td>\n",
       "    </tr>\n",
       "    <tr>\n",
       "      <th>6</th>\n",
       "      <td>Area under Crops(000ha)</td>\n",
       "      <td>2014</td>\n",
       "      <td>155.6</td>\n",
       "      <td>8.5</td>\n",
       "      <td>6.5</td>\n",
       "      <td>60.1</td>\n",
       "      <td>10.1</td>\n",
       "      <td>65.1</td>\n",
       "      <td>215.7</td>\n",
       "      <td>18.6</td>\n",
       "      <td>71.6</td>\n",
       "    </tr>\n",
       "    <tr>\n",
       "      <th>7</th>\n",
       "      <td>Area under Crops(000ha)</td>\n",
       "      <td>2015</td>\n",
       "      <td>133.0</td>\n",
       "      <td>12.1</td>\n",
       "      <td>10.1</td>\n",
       "      <td>69.8</td>\n",
       "      <td>11.4</td>\n",
       "      <td>55.3</td>\n",
       "      <td>202.8</td>\n",
       "      <td>23.5</td>\n",
       "      <td>65.4</td>\n",
       "    </tr>\n",
       "    <tr>\n",
       "      <th>8</th>\n",
       "      <td>Area under Crops(000ha)</td>\n",
       "      <td>2016</td>\n",
       "      <td>114.6</td>\n",
       "      <td>10.0</td>\n",
       "      <td>7.5</td>\n",
       "      <td>74.6</td>\n",
       "      <td>13.2</td>\n",
       "      <td>60.4</td>\n",
       "      <td>189.2</td>\n",
       "      <td>23.2</td>\n",
       "      <td>67.9</td>\n",
       "    </tr>\n",
       "    <tr>\n",
       "      <th>9</th>\n",
       "      <td>Area under Crops(000ha)</td>\n",
       "      <td>2017</td>\n",
       "      <td>115.2</td>\n",
       "      <td>10.0</td>\n",
       "      <td>6.8</td>\n",
       "      <td>65.0</td>\n",
       "      <td>14.4</td>\n",
       "      <td>60.3</td>\n",
       "      <td>180.2</td>\n",
       "      <td>24.4</td>\n",
       "      <td>67.1</td>\n",
       "    </tr>\n",
       "    <tr>\n",
       "      <th>10</th>\n",
       "      <td>Area under Crops(000ha)</td>\n",
       "      <td>2018</td>\n",
       "      <td>127.4</td>\n",
       "      <td>7.6</td>\n",
       "      <td>3.6</td>\n",
       "      <td>57.9</td>\n",
       "      <td>10.2</td>\n",
       "      <td>54.4</td>\n",
       "      <td>185.3</td>\n",
       "      <td>17.8</td>\n",
       "      <td>58.0</td>\n",
       "    </tr>\n",
       "    <tr>\n",
       "      <th>11</th>\n",
       "      <td>Area under Crops(000ha)</td>\n",
       "      <td>2019</td>\n",
       "      <td>96.5</td>\n",
       "      <td>7.2</td>\n",
       "      <td>3.8</td>\n",
       "      <td>82.8</td>\n",
       "      <td>16.6</td>\n",
       "      <td>59.7</td>\n",
       "      <td>179.3</td>\n",
       "      <td>23.8</td>\n",
       "      <td>63.5</td>\n",
       "    </tr>\n",
       "    <tr>\n",
       "      <th>12</th>\n",
       "      <td>Area under Crops(000ha)</td>\n",
       "      <td>2020</td>\n",
       "      <td>141.7</td>\n",
       "      <td>17.2</td>\n",
       "      <td>11.5</td>\n",
       "      <td>51.5</td>\n",
       "      <td>8.3</td>\n",
       "      <td>35.4</td>\n",
       "      <td>193.2</td>\n",
       "      <td>25.5</td>\n",
       "      <td>46.9</td>\n",
       "    </tr>\n",
       "    <tr>\n",
       "      <th>13</th>\n",
       "      <td>Area under Crops(000ha)</td>\n",
       "      <td>2021</td>\n",
       "      <td>116.4</td>\n",
       "      <td>14.5</td>\n",
       "      <td>6.1</td>\n",
       "      <td>67.5</td>\n",
       "      <td>13.9</td>\n",
       "      <td>56.2</td>\n",
       "      <td>183.9</td>\n",
       "      <td>28.4</td>\n",
       "      <td>62.3</td>\n",
       "    </tr>\n",
       "  </tbody>\n",
       "</table>\n",
       "</div>"
      ],
      "text/plain": [
       "Type of Crop          Statistic Label  Year  Spring barley  Spring oats  \\\n",
       "0             Area under Crops(000ha)  2008          166.0          4.2   \n",
       "1             Area under Crops(000ha)  2009          174.3         11.3   \n",
       "2             Area under Crops(000ha)  2010          146.0          9.4   \n",
       "3             Area under Crops(000ha)  2011          144.8         12.4   \n",
       "4             Area under Crops(000ha)  2012          151.8         13.8   \n",
       "5             Area under Crops(000ha)  2013          183.5         21.3   \n",
       "6             Area under Crops(000ha)  2014          155.6          8.5   \n",
       "7             Area under Crops(000ha)  2015          133.0         12.1   \n",
       "8             Area under Crops(000ha)  2016          114.6         10.0   \n",
       "9             Area under Crops(000ha)  2017          115.2         10.0   \n",
       "10            Area under Crops(000ha)  2018          127.4          7.6   \n",
       "11            Area under Crops(000ha)  2019           96.5          7.2   \n",
       "12            Area under Crops(000ha)  2020          141.7         17.2   \n",
       "13            Area under Crops(000ha)  2021          116.4         14.5   \n",
       "\n",
       "Type of Crop  Spring wheat  Winter barley  Winter oats  Winter wheat  \\\n",
       "0                     23.2           21.1         18.7          87.5   \n",
       "1                     20.2           19.3          9.1          64.3   \n",
       "2                     18.0           28.8         10.3          59.8   \n",
       "3                     16.4           35.9          9.0          77.7   \n",
       "4                     13.5           41.0          9.9          84.6   \n",
       "5                     15.2           36.0          5.4          45.4   \n",
       "6                      6.5           60.1         10.1          65.1   \n",
       "7                     10.1           69.8         11.4          55.3   \n",
       "8                      7.5           74.6         13.2          60.4   \n",
       "9                      6.8           65.0         14.4          60.3   \n",
       "10                     3.6           57.9         10.2          54.4   \n",
       "11                     3.8           82.8         16.6          59.7   \n",
       "12                    11.5           51.5          8.3          35.4   \n",
       "13                     6.1           67.5         13.9          56.2   \n",
       "\n",
       "Type of Crop  Barley_total  Oat_total  Wheat_total  \n",
       "0                    187.1       22.9        110.7  \n",
       "1                    193.6       20.4         84.5  \n",
       "2                    174.8       19.7         77.8  \n",
       "3                    180.7       21.4         94.1  \n",
       "4                    192.8       23.7         98.1  \n",
       "5                    219.5       26.7         60.6  \n",
       "6                    215.7       18.6         71.6  \n",
       "7                    202.8       23.5         65.4  \n",
       "8                    189.2       23.2         67.9  \n",
       "9                    180.2       24.4         67.1  \n",
       "10                   185.3       17.8         58.0  \n",
       "11                   179.3       23.8         63.5  \n",
       "12                   193.2       25.5         46.9  \n",
       "13                   183.9       28.4         62.3  "
      ]
     },
     "execution_count": 25,
     "metadata": {},
     "output_type": "execute_result"
    }
   ],
   "source": [
    "#Using boolean indexing: You can use boolean indexing to select rows that meet a certain condition.\n",
    "#For example, if you have a dataframe df with a column column_name, \n",
    "#you can use the following code to select all rows where the value in column_name is equal to value:\n",
    "\n",
    "area = df_irish[df_irish['Statistic Label'] == \"Area under Crops(000ha)\"]\n",
    "area"
   ]
  },
  {
   "cell_type": "markdown",
   "id": "58a58486",
   "metadata": {},
   "source": [
    "#### (iii.) Graphical Representation of the Data\n",
    "\n",
    "* Bar Graph; Bar charts are one of the most common data visualizations. You can use them to quickly compare data across categories, highlight differences, show trends and outliers, and reveal historical highs and lows at a glance.\n",
    "* Line Chart; The line chart, or line graph, connects several distinct data points, presenting them as one continuous evolution. Use line charts to view trends in data, usually over time\n",
    "* Heatmap; Heat Map Chart, or Heatmap is a two-dimensional visual representation of data, where values are encoded in colors, delivering a convenient, insightful view of information\n",
    "* Bubble Chart; Bubble charts are super useful types of graphs for making a comparison of the relationships between data in 3 numeric-data dimensions\n",
    "* https://www.tableau.com/learn/whitepapers/which-chart-or-graph-is-right-for-you\n",
    "* https://www.intellspot.com/types-graphs-charts/\n",
    "* https://www.anychart.com/chartopedia/chart-type/heatmap/#:~:text=Heat%20Map%20Chart%2C%20or%20Heatmap,denoting%20different%20sets%20of%20categories."
   ]
  },
  {
   "cell_type": "markdown",
   "id": "3003e9c7",
   "metadata": {},
   "source": [
    "#### Bar Chart "
   ]
  },
  {
   "cell_type": "code",
   "execution_count": 18,
   "id": "b7232af1",
   "metadata": {
    "scrolled": true
   },
   "outputs": [],
   "source": [
    "#!pip install altair\n",
    "#!pip install altair_viewer\n",
    "#!pip install vega\n",
    "#!pip install altair vega_datasets"
   ]
  },
  {
   "cell_type": "code",
   "execution_count": 19,
   "id": "b66c5a6d",
   "metadata": {},
   "outputs": [],
   "source": [
    "import altair as alt\n",
    "import plotly.express as px\n",
    "import plotly.graph_objs as go"
   ]
  },
  {
   "cell_type": "code",
   "execution_count": 32,
   "id": "e70e30ac",
   "metadata": {},
   "outputs": [
    {
     "data": {
      "application/vnd.plotly.v1+json": {
       "config": {
        "plotlyServerURL": "https://plot.ly"
       },
       "data": [
        {
         "name": "Spring barley",
         "textfont": {
          "color": "black",
          "size": 16
         },
         "type": "bar",
         "x": [
          2008,
          2009,
          2010,
          2011,
          2012,
          2013,
          2014,
          2015,
          2016,
          2017,
          2018,
          2019,
          2020,
          2021
         ],
         "y": [
          166,
          174.3,
          146,
          144.8,
          151.8,
          183.5,
          155.6,
          133,
          114.6,
          115.2,
          127.4,
          96.5,
          141.7,
          116.4
         ]
        },
        {
         "name": "Spring oats",
         "textfont": {
          "color": "black",
          "size": 16
         },
         "type": "bar",
         "x": [
          2008,
          2009,
          2010,
          2011,
          2012,
          2013,
          2014,
          2015,
          2016,
          2017,
          2018,
          2019,
          2020,
          2021
         ],
         "y": [
          4.2,
          11.3,
          9.4,
          12.4,
          13.8,
          21.3,
          8.5,
          12.1,
          10,
          10,
          7.6,
          7.2,
          17.2,
          14.5
         ]
        },
        {
         "name": "Spring wheat",
         "textfont": {
          "color": "black",
          "size": 16
         },
         "type": "bar",
         "x": [
          2008,
          2009,
          2010,
          2011,
          2012,
          2013,
          2014,
          2015,
          2016,
          2017,
          2018,
          2019,
          2020,
          2021
         ],
         "y": [
          23.2,
          20.2,
          18,
          16.4,
          13.5,
          15.2,
          6.5,
          10.1,
          7.5,
          6.8,
          3.6,
          3.8,
          11.5,
          6.1
         ]
        },
        {
         "name": "Winter barley",
         "textfont": {
          "color": "black",
          "size": 16
         },
         "type": "bar",
         "x": [
          2008,
          2009,
          2010,
          2011,
          2012,
          2013,
          2014,
          2015,
          2016,
          2017,
          2018,
          2019,
          2020,
          2021
         ],
         "y": [
          21.1,
          19.3,
          28.8,
          35.9,
          41,
          36,
          60.1,
          69.8,
          74.6,
          65,
          57.9,
          82.8,
          51.5,
          67.5
         ]
        },
        {
         "name": "Winter oats",
         "textfont": {
          "color": "black",
          "size": 16
         },
         "type": "bar",
         "x": [
          2008,
          2009,
          2010,
          2011,
          2012,
          2013,
          2014,
          2015,
          2016,
          2017,
          2018,
          2019,
          2020,
          2021
         ],
         "y": [
          18.7,
          9.1,
          10.3,
          9,
          9.9,
          5.4,
          10.1,
          11.4,
          13.2,
          14.4,
          10.2,
          16.6,
          8.3,
          13.9
         ]
        },
        {
         "name": "Winter wheat",
         "textfont": {
          "color": "black",
          "size": 16
         },
         "type": "bar",
         "x": [
          2008,
          2009,
          2010,
          2011,
          2012,
          2013,
          2014,
          2015,
          2016,
          2017,
          2018,
          2019,
          2020,
          2021
         ],
         "y": [
          87.5,
          64.3,
          59.8,
          77.7,
          84.6,
          45.4,
          65.1,
          55.3,
          60.4,
          60.3,
          54.4,
          59.7,
          35.4,
          56.2
         ]
        }
       ],
       "layout": {
        "height": 700,
        "template": {
         "data": {
          "bar": [
           {
            "error_x": {
             "color": "#2a3f5f"
            },
            "error_y": {
             "color": "#2a3f5f"
            },
            "marker": {
             "line": {
              "color": "#E5ECF6",
              "width": 0.5
             },
             "pattern": {
              "fillmode": "overlay",
              "size": 10,
              "solidity": 0.2
             }
            },
            "type": "bar"
           }
          ],
          "barpolar": [
           {
            "marker": {
             "line": {
              "color": "#E5ECF6",
              "width": 0.5
             },
             "pattern": {
              "fillmode": "overlay",
              "size": 10,
              "solidity": 0.2
             }
            },
            "type": "barpolar"
           }
          ],
          "carpet": [
           {
            "aaxis": {
             "endlinecolor": "#2a3f5f",
             "gridcolor": "white",
             "linecolor": "white",
             "minorgridcolor": "white",
             "startlinecolor": "#2a3f5f"
            },
            "baxis": {
             "endlinecolor": "#2a3f5f",
             "gridcolor": "white",
             "linecolor": "white",
             "minorgridcolor": "white",
             "startlinecolor": "#2a3f5f"
            },
            "type": "carpet"
           }
          ],
          "choropleth": [
           {
            "colorbar": {
             "outlinewidth": 0,
             "ticks": ""
            },
            "type": "choropleth"
           }
          ],
          "contour": [
           {
            "colorbar": {
             "outlinewidth": 0,
             "ticks": ""
            },
            "colorscale": [
             [
              0,
              "#0d0887"
             ],
             [
              0.1111111111111111,
              "#46039f"
             ],
             [
              0.2222222222222222,
              "#7201a8"
             ],
             [
              0.3333333333333333,
              "#9c179e"
             ],
             [
              0.4444444444444444,
              "#bd3786"
             ],
             [
              0.5555555555555556,
              "#d8576b"
             ],
             [
              0.6666666666666666,
              "#ed7953"
             ],
             [
              0.7777777777777778,
              "#fb9f3a"
             ],
             [
              0.8888888888888888,
              "#fdca26"
             ],
             [
              1,
              "#f0f921"
             ]
            ],
            "type": "contour"
           }
          ],
          "contourcarpet": [
           {
            "colorbar": {
             "outlinewidth": 0,
             "ticks": ""
            },
            "type": "contourcarpet"
           }
          ],
          "heatmap": [
           {
            "colorbar": {
             "outlinewidth": 0,
             "ticks": ""
            },
            "colorscale": [
             [
              0,
              "#0d0887"
             ],
             [
              0.1111111111111111,
              "#46039f"
             ],
             [
              0.2222222222222222,
              "#7201a8"
             ],
             [
              0.3333333333333333,
              "#9c179e"
             ],
             [
              0.4444444444444444,
              "#bd3786"
             ],
             [
              0.5555555555555556,
              "#d8576b"
             ],
             [
              0.6666666666666666,
              "#ed7953"
             ],
             [
              0.7777777777777778,
              "#fb9f3a"
             ],
             [
              0.8888888888888888,
              "#fdca26"
             ],
             [
              1,
              "#f0f921"
             ]
            ],
            "type": "heatmap"
           }
          ],
          "heatmapgl": [
           {
            "colorbar": {
             "outlinewidth": 0,
             "ticks": ""
            },
            "colorscale": [
             [
              0,
              "#0d0887"
             ],
             [
              0.1111111111111111,
              "#46039f"
             ],
             [
              0.2222222222222222,
              "#7201a8"
             ],
             [
              0.3333333333333333,
              "#9c179e"
             ],
             [
              0.4444444444444444,
              "#bd3786"
             ],
             [
              0.5555555555555556,
              "#d8576b"
             ],
             [
              0.6666666666666666,
              "#ed7953"
             ],
             [
              0.7777777777777778,
              "#fb9f3a"
             ],
             [
              0.8888888888888888,
              "#fdca26"
             ],
             [
              1,
              "#f0f921"
             ]
            ],
            "type": "heatmapgl"
           }
          ],
          "histogram": [
           {
            "marker": {
             "pattern": {
              "fillmode": "overlay",
              "size": 10,
              "solidity": 0.2
             }
            },
            "type": "histogram"
           }
          ],
          "histogram2d": [
           {
            "colorbar": {
             "outlinewidth": 0,
             "ticks": ""
            },
            "colorscale": [
             [
              0,
              "#0d0887"
             ],
             [
              0.1111111111111111,
              "#46039f"
             ],
             [
              0.2222222222222222,
              "#7201a8"
             ],
             [
              0.3333333333333333,
              "#9c179e"
             ],
             [
              0.4444444444444444,
              "#bd3786"
             ],
             [
              0.5555555555555556,
              "#d8576b"
             ],
             [
              0.6666666666666666,
              "#ed7953"
             ],
             [
              0.7777777777777778,
              "#fb9f3a"
             ],
             [
              0.8888888888888888,
              "#fdca26"
             ],
             [
              1,
              "#f0f921"
             ]
            ],
            "type": "histogram2d"
           }
          ],
          "histogram2dcontour": [
           {
            "colorbar": {
             "outlinewidth": 0,
             "ticks": ""
            },
            "colorscale": [
             [
              0,
              "#0d0887"
             ],
             [
              0.1111111111111111,
              "#46039f"
             ],
             [
              0.2222222222222222,
              "#7201a8"
             ],
             [
              0.3333333333333333,
              "#9c179e"
             ],
             [
              0.4444444444444444,
              "#bd3786"
             ],
             [
              0.5555555555555556,
              "#d8576b"
             ],
             [
              0.6666666666666666,
              "#ed7953"
             ],
             [
              0.7777777777777778,
              "#fb9f3a"
             ],
             [
              0.8888888888888888,
              "#fdca26"
             ],
             [
              1,
              "#f0f921"
             ]
            ],
            "type": "histogram2dcontour"
           }
          ],
          "mesh3d": [
           {
            "colorbar": {
             "outlinewidth": 0,
             "ticks": ""
            },
            "type": "mesh3d"
           }
          ],
          "parcoords": [
           {
            "line": {
             "colorbar": {
              "outlinewidth": 0,
              "ticks": ""
             }
            },
            "type": "parcoords"
           }
          ],
          "pie": [
           {
            "automargin": true,
            "type": "pie"
           }
          ],
          "scatter": [
           {
            "marker": {
             "colorbar": {
              "outlinewidth": 0,
              "ticks": ""
             }
            },
            "type": "scatter"
           }
          ],
          "scatter3d": [
           {
            "line": {
             "colorbar": {
              "outlinewidth": 0,
              "ticks": ""
             }
            },
            "marker": {
             "colorbar": {
              "outlinewidth": 0,
              "ticks": ""
             }
            },
            "type": "scatter3d"
           }
          ],
          "scattercarpet": [
           {
            "marker": {
             "colorbar": {
              "outlinewidth": 0,
              "ticks": ""
             }
            },
            "type": "scattercarpet"
           }
          ],
          "scattergeo": [
           {
            "marker": {
             "colorbar": {
              "outlinewidth": 0,
              "ticks": ""
             }
            },
            "type": "scattergeo"
           }
          ],
          "scattergl": [
           {
            "marker": {
             "colorbar": {
              "outlinewidth": 0,
              "ticks": ""
             }
            },
            "type": "scattergl"
           }
          ],
          "scattermapbox": [
           {
            "marker": {
             "colorbar": {
              "outlinewidth": 0,
              "ticks": ""
             }
            },
            "type": "scattermapbox"
           }
          ],
          "scatterpolar": [
           {
            "marker": {
             "colorbar": {
              "outlinewidth": 0,
              "ticks": ""
             }
            },
            "type": "scatterpolar"
           }
          ],
          "scatterpolargl": [
           {
            "marker": {
             "colorbar": {
              "outlinewidth": 0,
              "ticks": ""
             }
            },
            "type": "scatterpolargl"
           }
          ],
          "scatterternary": [
           {
            "marker": {
             "colorbar": {
              "outlinewidth": 0,
              "ticks": ""
             }
            },
            "type": "scatterternary"
           }
          ],
          "surface": [
           {
            "colorbar": {
             "outlinewidth": 0,
             "ticks": ""
            },
            "colorscale": [
             [
              0,
              "#0d0887"
             ],
             [
              0.1111111111111111,
              "#46039f"
             ],
             [
              0.2222222222222222,
              "#7201a8"
             ],
             [
              0.3333333333333333,
              "#9c179e"
             ],
             [
              0.4444444444444444,
              "#bd3786"
             ],
             [
              0.5555555555555556,
              "#d8576b"
             ],
             [
              0.6666666666666666,
              "#ed7953"
             ],
             [
              0.7777777777777778,
              "#fb9f3a"
             ],
             [
              0.8888888888888888,
              "#fdca26"
             ],
             [
              1,
              "#f0f921"
             ]
            ],
            "type": "surface"
           }
          ],
          "table": [
           {
            "cells": {
             "fill": {
              "color": "#EBF0F8"
             },
             "line": {
              "color": "white"
             }
            },
            "header": {
             "fill": {
              "color": "#C8D4E3"
             },
             "line": {
              "color": "white"
             }
            },
            "type": "table"
           }
          ]
         },
         "layout": {
          "annotationdefaults": {
           "arrowcolor": "#2a3f5f",
           "arrowhead": 0,
           "arrowwidth": 1
          },
          "autotypenumbers": "strict",
          "coloraxis": {
           "colorbar": {
            "outlinewidth": 0,
            "ticks": ""
           }
          },
          "colorscale": {
           "diverging": [
            [
             0,
             "#8e0152"
            ],
            [
             0.1,
             "#c51b7d"
            ],
            [
             0.2,
             "#de77ae"
            ],
            [
             0.3,
             "#f1b6da"
            ],
            [
             0.4,
             "#fde0ef"
            ],
            [
             0.5,
             "#f7f7f7"
            ],
            [
             0.6,
             "#e6f5d0"
            ],
            [
             0.7,
             "#b8e186"
            ],
            [
             0.8,
             "#7fbc41"
            ],
            [
             0.9,
             "#4d9221"
            ],
            [
             1,
             "#276419"
            ]
           ],
           "sequential": [
            [
             0,
             "#0d0887"
            ],
            [
             0.1111111111111111,
             "#46039f"
            ],
            [
             0.2222222222222222,
             "#7201a8"
            ],
            [
             0.3333333333333333,
             "#9c179e"
            ],
            [
             0.4444444444444444,
             "#bd3786"
            ],
            [
             0.5555555555555556,
             "#d8576b"
            ],
            [
             0.6666666666666666,
             "#ed7953"
            ],
            [
             0.7777777777777778,
             "#fb9f3a"
            ],
            [
             0.8888888888888888,
             "#fdca26"
            ],
            [
             1,
             "#f0f921"
            ]
           ],
           "sequentialminus": [
            [
             0,
             "#0d0887"
            ],
            [
             0.1111111111111111,
             "#46039f"
            ],
            [
             0.2222222222222222,
             "#7201a8"
            ],
            [
             0.3333333333333333,
             "#9c179e"
            ],
            [
             0.4444444444444444,
             "#bd3786"
            ],
            [
             0.5555555555555556,
             "#d8576b"
            ],
            [
             0.6666666666666666,
             "#ed7953"
            ],
            [
             0.7777777777777778,
             "#fb9f3a"
            ],
            [
             0.8888888888888888,
             "#fdca26"
            ],
            [
             1,
             "#f0f921"
            ]
           ]
          },
          "colorway": [
           "#636efa",
           "#EF553B",
           "#00cc96",
           "#ab63fa",
           "#FFA15A",
           "#19d3f3",
           "#FF6692",
           "#B6E880",
           "#FF97FF",
           "#FECB52"
          ],
          "font": {
           "color": "#2a3f5f"
          },
          "geo": {
           "bgcolor": "white",
           "lakecolor": "white",
           "landcolor": "#E5ECF6",
           "showlakes": true,
           "showland": true,
           "subunitcolor": "white"
          },
          "hoverlabel": {
           "align": "left"
          },
          "hovermode": "closest",
          "mapbox": {
           "style": "light"
          },
          "paper_bgcolor": "white",
          "plot_bgcolor": "#E5ECF6",
          "polar": {
           "angularaxis": {
            "gridcolor": "white",
            "linecolor": "white",
            "ticks": ""
           },
           "bgcolor": "#E5ECF6",
           "radialaxis": {
            "gridcolor": "white",
            "linecolor": "white",
            "ticks": ""
           }
          },
          "scene": {
           "xaxis": {
            "backgroundcolor": "#E5ECF6",
            "gridcolor": "white",
            "gridwidth": 2,
            "linecolor": "white",
            "showbackground": true,
            "ticks": "",
            "zerolinecolor": "white"
           },
           "yaxis": {
            "backgroundcolor": "#E5ECF6",
            "gridcolor": "white",
            "gridwidth": 2,
            "linecolor": "white",
            "showbackground": true,
            "ticks": "",
            "zerolinecolor": "white"
           },
           "zaxis": {
            "backgroundcolor": "#E5ECF6",
            "gridcolor": "white",
            "gridwidth": 2,
            "linecolor": "white",
            "showbackground": true,
            "ticks": "",
            "zerolinecolor": "white"
           }
          },
          "shapedefaults": {
           "line": {
            "color": "#2a3f5f"
           }
          },
          "ternary": {
           "aaxis": {
            "gridcolor": "white",
            "linecolor": "white",
            "ticks": ""
           },
           "baxis": {
            "gridcolor": "white",
            "linecolor": "white",
            "ticks": ""
           },
           "bgcolor": "#E5ECF6",
           "caxis": {
            "gridcolor": "white",
            "linecolor": "white",
            "ticks": ""
           }
          },
          "title": {
           "x": 0.05
          },
          "xaxis": {
           "automargin": true,
           "gridcolor": "white",
           "linecolor": "white",
           "ticks": "",
           "title": {
            "standoff": 15
           },
           "zerolinecolor": "white",
           "zerolinewidth": 2
          },
          "yaxis": {
           "automargin": true,
           "gridcolor": "white",
           "linecolor": "white",
           "ticks": "",
           "title": {
            "standoff": 15
           },
           "zerolinecolor": "white",
           "zerolinewidth": 2
          }
         }
        },
        "title": {
         "text": "Bar Chart to Show Comparisons & Volume (2004 to 2011)"
        },
        "width": 1000,
        "xaxis": {
         "title": {
          "text": "Year"
         }
        },
        "yaxis": {
         "title": {
          "text": "Values"
         }
        }
       }
      },
      "text/html": [
       "<div>                            <div id=\"bc889ea6-40d1-4eb6-848b-2d92816a9722\" class=\"plotly-graph-div\" style=\"height:700px; width:1000px;\"></div>            <script type=\"text/javascript\">                require([\"plotly\"], function(Plotly) {                    window.PLOTLYENV=window.PLOTLYENV || {};                                    if (document.getElementById(\"bc889ea6-40d1-4eb6-848b-2d92816a9722\")) {                    Plotly.newPlot(                        \"bc889ea6-40d1-4eb6-848b-2d92816a9722\",                        [{\"name\":\"Spring barley\",\"textfont\":{\"color\":\"black\",\"size\":16},\"x\":[2008,2009,2010,2011,2012,2013,2014,2015,2016,2017,2018,2019,2020,2021],\"y\":[166.0,174.3,146.0,144.8,151.8,183.5,155.6,133.0,114.6,115.2,127.4,96.5,141.7,116.4],\"type\":\"bar\"},{\"name\":\"Spring oats\",\"textfont\":{\"color\":\"black\",\"size\":16},\"x\":[2008,2009,2010,2011,2012,2013,2014,2015,2016,2017,2018,2019,2020,2021],\"y\":[4.2,11.3,9.4,12.4,13.8,21.3,8.5,12.1,10.0,10.0,7.6,7.2,17.2,14.5],\"type\":\"bar\"},{\"name\":\"Spring wheat\",\"textfont\":{\"color\":\"black\",\"size\":16},\"x\":[2008,2009,2010,2011,2012,2013,2014,2015,2016,2017,2018,2019,2020,2021],\"y\":[23.2,20.2,18.0,16.4,13.5,15.2,6.5,10.1,7.5,6.8,3.6,3.8,11.5,6.1],\"type\":\"bar\"},{\"name\":\"Winter barley\",\"textfont\":{\"color\":\"black\",\"size\":16},\"x\":[2008,2009,2010,2011,2012,2013,2014,2015,2016,2017,2018,2019,2020,2021],\"y\":[21.1,19.3,28.8,35.9,41.0,36.0,60.1,69.8,74.6,65.0,57.9,82.8,51.5,67.5],\"type\":\"bar\"},{\"name\":\"Winter oats\",\"textfont\":{\"color\":\"black\",\"size\":16},\"x\":[2008,2009,2010,2011,2012,2013,2014,2015,2016,2017,2018,2019,2020,2021],\"y\":[18.7,9.1,10.3,9.0,9.9,5.4,10.1,11.4,13.2,14.4,10.2,16.6,8.3,13.9],\"type\":\"bar\"},{\"name\":\"Winter wheat\",\"textfont\":{\"color\":\"black\",\"size\":16},\"x\":[2008,2009,2010,2011,2012,2013,2014,2015,2016,2017,2018,2019,2020,2021],\"y\":[87.5,64.3,59.8,77.7,84.6,45.4,65.1,55.3,60.4,60.3,54.4,59.7,35.4,56.2],\"type\":\"bar\"}],                        {\"template\":{\"data\":{\"bar\":[{\"error_x\":{\"color\":\"#2a3f5f\"},\"error_y\":{\"color\":\"#2a3f5f\"},\"marker\":{\"line\":{\"color\":\"#E5ECF6\",\"width\":0.5},\"pattern\":{\"fillmode\":\"overlay\",\"size\":10,\"solidity\":0.2}},\"type\":\"bar\"}],\"barpolar\":[{\"marker\":{\"line\":{\"color\":\"#E5ECF6\",\"width\":0.5},\"pattern\":{\"fillmode\":\"overlay\",\"size\":10,\"solidity\":0.2}},\"type\":\"barpolar\"}],\"carpet\":[{\"aaxis\":{\"endlinecolor\":\"#2a3f5f\",\"gridcolor\":\"white\",\"linecolor\":\"white\",\"minorgridcolor\":\"white\",\"startlinecolor\":\"#2a3f5f\"},\"baxis\":{\"endlinecolor\":\"#2a3f5f\",\"gridcolor\":\"white\",\"linecolor\":\"white\",\"minorgridcolor\":\"white\",\"startlinecolor\":\"#2a3f5f\"},\"type\":\"carpet\"}],\"choropleth\":[{\"colorbar\":{\"outlinewidth\":0,\"ticks\":\"\"},\"type\":\"choropleth\"}],\"contour\":[{\"colorbar\":{\"outlinewidth\":0,\"ticks\":\"\"},\"colorscale\":[[0.0,\"#0d0887\"],[0.1111111111111111,\"#46039f\"],[0.2222222222222222,\"#7201a8\"],[0.3333333333333333,\"#9c179e\"],[0.4444444444444444,\"#bd3786\"],[0.5555555555555556,\"#d8576b\"],[0.6666666666666666,\"#ed7953\"],[0.7777777777777778,\"#fb9f3a\"],[0.8888888888888888,\"#fdca26\"],[1.0,\"#f0f921\"]],\"type\":\"contour\"}],\"contourcarpet\":[{\"colorbar\":{\"outlinewidth\":0,\"ticks\":\"\"},\"type\":\"contourcarpet\"}],\"heatmap\":[{\"colorbar\":{\"outlinewidth\":0,\"ticks\":\"\"},\"colorscale\":[[0.0,\"#0d0887\"],[0.1111111111111111,\"#46039f\"],[0.2222222222222222,\"#7201a8\"],[0.3333333333333333,\"#9c179e\"],[0.4444444444444444,\"#bd3786\"],[0.5555555555555556,\"#d8576b\"],[0.6666666666666666,\"#ed7953\"],[0.7777777777777778,\"#fb9f3a\"],[0.8888888888888888,\"#fdca26\"],[1.0,\"#f0f921\"]],\"type\":\"heatmap\"}],\"heatmapgl\":[{\"colorbar\":{\"outlinewidth\":0,\"ticks\":\"\"},\"colorscale\":[[0.0,\"#0d0887\"],[0.1111111111111111,\"#46039f\"],[0.2222222222222222,\"#7201a8\"],[0.3333333333333333,\"#9c179e\"],[0.4444444444444444,\"#bd3786\"],[0.5555555555555556,\"#d8576b\"],[0.6666666666666666,\"#ed7953\"],[0.7777777777777778,\"#fb9f3a\"],[0.8888888888888888,\"#fdca26\"],[1.0,\"#f0f921\"]],\"type\":\"heatmapgl\"}],\"histogram\":[{\"marker\":{\"pattern\":{\"fillmode\":\"overlay\",\"size\":10,\"solidity\":0.2}},\"type\":\"histogram\"}],\"histogram2d\":[{\"colorbar\":{\"outlinewidth\":0,\"ticks\":\"\"},\"colorscale\":[[0.0,\"#0d0887\"],[0.1111111111111111,\"#46039f\"],[0.2222222222222222,\"#7201a8\"],[0.3333333333333333,\"#9c179e\"],[0.4444444444444444,\"#bd3786\"],[0.5555555555555556,\"#d8576b\"],[0.6666666666666666,\"#ed7953\"],[0.7777777777777778,\"#fb9f3a\"],[0.8888888888888888,\"#fdca26\"],[1.0,\"#f0f921\"]],\"type\":\"histogram2d\"}],\"histogram2dcontour\":[{\"colorbar\":{\"outlinewidth\":0,\"ticks\":\"\"},\"colorscale\":[[0.0,\"#0d0887\"],[0.1111111111111111,\"#46039f\"],[0.2222222222222222,\"#7201a8\"],[0.3333333333333333,\"#9c179e\"],[0.4444444444444444,\"#bd3786\"],[0.5555555555555556,\"#d8576b\"],[0.6666666666666666,\"#ed7953\"],[0.7777777777777778,\"#fb9f3a\"],[0.8888888888888888,\"#fdca26\"],[1.0,\"#f0f921\"]],\"type\":\"histogram2dcontour\"}],\"mesh3d\":[{\"colorbar\":{\"outlinewidth\":0,\"ticks\":\"\"},\"type\":\"mesh3d\"}],\"parcoords\":[{\"line\":{\"colorbar\":{\"outlinewidth\":0,\"ticks\":\"\"}},\"type\":\"parcoords\"}],\"pie\":[{\"automargin\":true,\"type\":\"pie\"}],\"scatter\":[{\"marker\":{\"colorbar\":{\"outlinewidth\":0,\"ticks\":\"\"}},\"type\":\"scatter\"}],\"scatter3d\":[{\"line\":{\"colorbar\":{\"outlinewidth\":0,\"ticks\":\"\"}},\"marker\":{\"colorbar\":{\"outlinewidth\":0,\"ticks\":\"\"}},\"type\":\"scatter3d\"}],\"scattercarpet\":[{\"marker\":{\"colorbar\":{\"outlinewidth\":0,\"ticks\":\"\"}},\"type\":\"scattercarpet\"}],\"scattergeo\":[{\"marker\":{\"colorbar\":{\"outlinewidth\":0,\"ticks\":\"\"}},\"type\":\"scattergeo\"}],\"scattergl\":[{\"marker\":{\"colorbar\":{\"outlinewidth\":0,\"ticks\":\"\"}},\"type\":\"scattergl\"}],\"scattermapbox\":[{\"marker\":{\"colorbar\":{\"outlinewidth\":0,\"ticks\":\"\"}},\"type\":\"scattermapbox\"}],\"scatterpolar\":[{\"marker\":{\"colorbar\":{\"outlinewidth\":0,\"ticks\":\"\"}},\"type\":\"scatterpolar\"}],\"scatterpolargl\":[{\"marker\":{\"colorbar\":{\"outlinewidth\":0,\"ticks\":\"\"}},\"type\":\"scatterpolargl\"}],\"scatterternary\":[{\"marker\":{\"colorbar\":{\"outlinewidth\":0,\"ticks\":\"\"}},\"type\":\"scatterternary\"}],\"surface\":[{\"colorbar\":{\"outlinewidth\":0,\"ticks\":\"\"},\"colorscale\":[[0.0,\"#0d0887\"],[0.1111111111111111,\"#46039f\"],[0.2222222222222222,\"#7201a8\"],[0.3333333333333333,\"#9c179e\"],[0.4444444444444444,\"#bd3786\"],[0.5555555555555556,\"#d8576b\"],[0.6666666666666666,\"#ed7953\"],[0.7777777777777778,\"#fb9f3a\"],[0.8888888888888888,\"#fdca26\"],[1.0,\"#f0f921\"]],\"type\":\"surface\"}],\"table\":[{\"cells\":{\"fill\":{\"color\":\"#EBF0F8\"},\"line\":{\"color\":\"white\"}},\"header\":{\"fill\":{\"color\":\"#C8D4E3\"},\"line\":{\"color\":\"white\"}},\"type\":\"table\"}]},\"layout\":{\"annotationdefaults\":{\"arrowcolor\":\"#2a3f5f\",\"arrowhead\":0,\"arrowwidth\":1},\"autotypenumbers\":\"strict\",\"coloraxis\":{\"colorbar\":{\"outlinewidth\":0,\"ticks\":\"\"}},\"colorscale\":{\"diverging\":[[0,\"#8e0152\"],[0.1,\"#c51b7d\"],[0.2,\"#de77ae\"],[0.3,\"#f1b6da\"],[0.4,\"#fde0ef\"],[0.5,\"#f7f7f7\"],[0.6,\"#e6f5d0\"],[0.7,\"#b8e186\"],[0.8,\"#7fbc41\"],[0.9,\"#4d9221\"],[1,\"#276419\"]],\"sequential\":[[0.0,\"#0d0887\"],[0.1111111111111111,\"#46039f\"],[0.2222222222222222,\"#7201a8\"],[0.3333333333333333,\"#9c179e\"],[0.4444444444444444,\"#bd3786\"],[0.5555555555555556,\"#d8576b\"],[0.6666666666666666,\"#ed7953\"],[0.7777777777777778,\"#fb9f3a\"],[0.8888888888888888,\"#fdca26\"],[1.0,\"#f0f921\"]],\"sequentialminus\":[[0.0,\"#0d0887\"],[0.1111111111111111,\"#46039f\"],[0.2222222222222222,\"#7201a8\"],[0.3333333333333333,\"#9c179e\"],[0.4444444444444444,\"#bd3786\"],[0.5555555555555556,\"#d8576b\"],[0.6666666666666666,\"#ed7953\"],[0.7777777777777778,\"#fb9f3a\"],[0.8888888888888888,\"#fdca26\"],[1.0,\"#f0f921\"]]},\"colorway\":[\"#636efa\",\"#EF553B\",\"#00cc96\",\"#ab63fa\",\"#FFA15A\",\"#19d3f3\",\"#FF6692\",\"#B6E880\",\"#FF97FF\",\"#FECB52\"],\"font\":{\"color\":\"#2a3f5f\"},\"geo\":{\"bgcolor\":\"white\",\"lakecolor\":\"white\",\"landcolor\":\"#E5ECF6\",\"showlakes\":true,\"showland\":true,\"subunitcolor\":\"white\"},\"hoverlabel\":{\"align\":\"left\"},\"hovermode\":\"closest\",\"mapbox\":{\"style\":\"light\"},\"paper_bgcolor\":\"white\",\"plot_bgcolor\":\"#E5ECF6\",\"polar\":{\"angularaxis\":{\"gridcolor\":\"white\",\"linecolor\":\"white\",\"ticks\":\"\"},\"bgcolor\":\"#E5ECF6\",\"radialaxis\":{\"gridcolor\":\"white\",\"linecolor\":\"white\",\"ticks\":\"\"}},\"scene\":{\"xaxis\":{\"backgroundcolor\":\"#E5ECF6\",\"gridcolor\":\"white\",\"gridwidth\":2,\"linecolor\":\"white\",\"showbackground\":true,\"ticks\":\"\",\"zerolinecolor\":\"white\"},\"yaxis\":{\"backgroundcolor\":\"#E5ECF6\",\"gridcolor\":\"white\",\"gridwidth\":2,\"linecolor\":\"white\",\"showbackground\":true,\"ticks\":\"\",\"zerolinecolor\":\"white\"},\"zaxis\":{\"backgroundcolor\":\"#E5ECF6\",\"gridcolor\":\"white\",\"gridwidth\":2,\"linecolor\":\"white\",\"showbackground\":true,\"ticks\":\"\",\"zerolinecolor\":\"white\"}},\"shapedefaults\":{\"line\":{\"color\":\"#2a3f5f\"}},\"ternary\":{\"aaxis\":{\"gridcolor\":\"white\",\"linecolor\":\"white\",\"ticks\":\"\"},\"baxis\":{\"gridcolor\":\"white\",\"linecolor\":\"white\",\"ticks\":\"\"},\"bgcolor\":\"#E5ECF6\",\"caxis\":{\"gridcolor\":\"white\",\"linecolor\":\"white\",\"ticks\":\"\"}},\"title\":{\"x\":0.05},\"xaxis\":{\"automargin\":true,\"gridcolor\":\"white\",\"linecolor\":\"white\",\"ticks\":\"\",\"title\":{\"standoff\":15},\"zerolinecolor\":\"white\",\"zerolinewidth\":2},\"yaxis\":{\"automargin\":true,\"gridcolor\":\"white\",\"linecolor\":\"white\",\"ticks\":\"\",\"title\":{\"standoff\":15},\"zerolinecolor\":\"white\",\"zerolinewidth\":2}}},\"title\":{\"text\":\"Bar Chart to Show Comparisons & Volume (2004 to 2011)\"},\"xaxis\":{\"title\":{\"text\":\"Year\"}},\"yaxis\":{\"title\":{\"text\":\"Values\"}},\"width\":1000,\"height\":700},                        {\"responsive\": true}                    ).then(function(){\n",
       "                            \n",
       "var gd = document.getElementById('bc889ea6-40d1-4eb6-848b-2d92816a9722');\n",
       "var x = new MutationObserver(function (mutations, observer) {{\n",
       "        var display = window.getComputedStyle(gd).display;\n",
       "        if (!display || display === 'none') {{\n",
       "            console.log([gd, 'removed!']);\n",
       "            Plotly.purge(gd);\n",
       "            observer.disconnect();\n",
       "        }}\n",
       "}});\n",
       "\n",
       "// Listen for the removal of the full notebook cells\n",
       "var notebookContainer = gd.closest('#notebook-container');\n",
       "if (notebookContainer) {{\n",
       "    x.observe(notebookContainer, {childList: true});\n",
       "}}\n",
       "\n",
       "// Listen for the clearing of the current output cell\n",
       "var outputEl = gd.closest('.output');\n",
       "if (outputEl) {{\n",
       "    x.observe(outputEl, {childList: true});\n",
       "}}\n",
       "\n",
       "                        })                };                });            </script>        </div>"
      ]
     },
     "metadata": {},
     "output_type": "display_data"
    }
   ],
   "source": [
    "# Bar Chart for area under crops\n",
    "fig = go.Figure(data=[\n",
    "    go.Bar(\n",
    "        x=area['Year'], \n",
    "        y=area[col], \n",
    "        name=col, \n",
    "        #text=area['Statistic Label'],\n",
    "        textfont=dict(size=16, color='black')  # increase the font size and set the font color to black\n",
    "    ) for col in [\"Spring barley\",\"Spring oats\",\"Spring wheat\",\"Winter barley\",\"Winter oats\",\"Winter wheat\"]\n",
    "])\n",
    "\n",
    "# Update the layout\n",
    "fig.update_layout(\n",
    "    title='Bar Chart to Show Comparisons & Volume (2004 to 2011)',\n",
    "    xaxis_title='Year',\n",
    "    yaxis_title='Values',\n",
    "    width=1000,  # sets the width of the figure in pixels\n",
    "    height=700   # sets the height of the figure in pixels\n",
    ")"
   ]
  },
  {
   "cell_type": "code",
   "execution_count": 23,
   "id": "295b278d",
   "metadata": {},
   "outputs": [
    {
     "data": {
      "application/vnd.plotly.v1+json": {
       "config": {
        "plotlyServerURL": "https://plot.ly"
       },
       "data": [
        {
         "name": "Barley_total",
         "text": [
          "Area under Crops(000ha)",
          "Area under Crops(000ha)",
          "Area under Crops(000ha)",
          "Area under Crops(000ha)",
          "Area under Crops(000ha)",
          "Area under Crops(000ha)",
          "Area under Crops(000ha)",
          "Area under Crops(000ha)",
          "Area under Crops(000ha)",
          "Area under Crops(000ha)",
          "Area under Crops(000ha)",
          "Area under Crops(000ha)",
          "Area under Crops(000ha)",
          "Area under Crops(000ha)",
          "Crop Production(000tonnes)",
          "Crop Production(000tonnes)",
          "Crop Production(000tonnes)",
          "Crop Production(000tonnes)",
          "Crop Production(000tonnes)",
          "Crop Production(000tonnes)",
          "Crop Production(000tonnes)",
          "Crop Production(000tonnes)",
          "Crop Production(000tonnes)",
          "Crop Production(000tonnes)",
          "Crop Production(000tonnes)",
          "Crop Production(000tonnes)",
          "Crop Production(000tonnes)",
          "Crop Production(000tonnes)",
          "Crop Yield per ha(tonnes)",
          "Crop Yield per ha(tonnes)",
          "Crop Yield per ha(tonnes)",
          "Crop Yield per ha(tonnes)",
          "Crop Yield per ha(tonnes)",
          "Crop Yield per ha(tonnes)",
          "Crop Yield per ha(tonnes)",
          "Crop Yield per ha(tonnes)",
          "Crop Yield per ha(tonnes)",
          "Crop Yield per ha(tonnes)",
          "Crop Yield per ha(tonnes)",
          "Crop Yield per ha(tonnes)",
          "Crop Yield per ha(tonnes)",
          "Crop Yield per ha(tonnes)"
         ],
         "textfont": {
          "color": "black",
          "size": 16
         },
         "type": "bar",
         "x": [
          2008,
          2009,
          2010,
          2011,
          2012,
          2013,
          2014,
          2015,
          2016,
          2017,
          2018,
          2019,
          2020,
          2021,
          2008,
          2009,
          2010,
          2011,
          2012,
          2013,
          2014,
          2015,
          2016,
          2017,
          2018,
          2019,
          2020,
          2021,
          2008,
          2009,
          2010,
          2011,
          2012,
          2013,
          2014,
          2015,
          2016,
          2017,
          2018,
          2019,
          2020,
          2021
         ],
         "y": [
          187.1,
          193.60000000000002,
          174.8,
          180.70000000000002,
          192.8,
          219.5,
          215.7,
          202.8,
          189.2,
          180.2,
          185.3,
          179.3,
          193.2,
          183.9,
          1294.2,
          1227.3,
          1223,
          1412.1,
          1260.7,
          1662.7,
          1731.2,
          1739.3000000000002,
          1479.9,
          1505.9,
          1224.9,
          1557.5,
          1430.3,
          1556.4,
          15.3,
          14.6,
          15.2,
          16.6,
          14,
          16.7,
          16.8,
          17.9,
          15.899999999999999,
          17,
          14.4,
          17.4,
          15.4,
          17.4
         ]
        },
        {
         "name": "Oat_total",
         "text": [
          "Area under Crops(000ha)",
          "Area under Crops(000ha)",
          "Area under Crops(000ha)",
          "Area under Crops(000ha)",
          "Area under Crops(000ha)",
          "Area under Crops(000ha)",
          "Area under Crops(000ha)",
          "Area under Crops(000ha)",
          "Area under Crops(000ha)",
          "Area under Crops(000ha)",
          "Area under Crops(000ha)",
          "Area under Crops(000ha)",
          "Area under Crops(000ha)",
          "Area under Crops(000ha)",
          "Crop Production(000tonnes)",
          "Crop Production(000tonnes)",
          "Crop Production(000tonnes)",
          "Crop Production(000tonnes)",
          "Crop Production(000tonnes)",
          "Crop Production(000tonnes)",
          "Crop Production(000tonnes)",
          "Crop Production(000tonnes)",
          "Crop Production(000tonnes)",
          "Crop Production(000tonnes)",
          "Crop Production(000tonnes)",
          "Crop Production(000tonnes)",
          "Crop Production(000tonnes)",
          "Crop Production(000tonnes)",
          "Crop Yield per ha(tonnes)",
          "Crop Yield per ha(tonnes)",
          "Crop Yield per ha(tonnes)",
          "Crop Yield per ha(tonnes)",
          "Crop Yield per ha(tonnes)",
          "Crop Yield per ha(tonnes)",
          "Crop Yield per ha(tonnes)",
          "Crop Yield per ha(tonnes)",
          "Crop Yield per ha(tonnes)",
          "Crop Yield per ha(tonnes)",
          "Crop Yield per ha(tonnes)",
          "Crop Yield per ha(tonnes)",
          "Crop Yield per ha(tonnes)",
          "Crop Yield per ha(tonnes)"
         ],
         "textfont": {
          "color": "black",
          "size": 16
         },
         "type": "bar",
         "x": [
          2008,
          2009,
          2010,
          2011,
          2012,
          2013,
          2014,
          2015,
          2016,
          2017,
          2018,
          2019,
          2020,
          2021,
          2008,
          2009,
          2010,
          2011,
          2012,
          2013,
          2014,
          2015,
          2016,
          2017,
          2018,
          2019,
          2020,
          2021,
          2008,
          2009,
          2010,
          2011,
          2012,
          2013,
          2014,
          2015,
          2016,
          2017,
          2018,
          2019,
          2020,
          2021
         ],
         "y": [
          22.9,
          20.4,
          19.700000000000003,
          21.4,
          23.700000000000003,
          26.700000000000003,
          18.6,
          23.5,
          23.2,
          24.4,
          17.799999999999997,
          23.8,
          25.5,
          28.4,
          174.3,
          145.7,
          148.1,
          168.1,
          156.60000000000002,
          192.5,
          149.7,
          197.7,
          183.3,
          205.1,
          122.3,
          202.7,
          189.89999999999998,
          238.3,
          14.2,
          14.399999999999999,
          15,
          15.7,
          13.3,
          15.1,
          16,
          16.9,
          15.600000000000001,
          16.5,
          13.5,
          16.6,
          15.299999999999999,
          16.8
         ]
        },
        {
         "name": "Wheat_total",
         "text": [
          "Area under Crops(000ha)",
          "Area under Crops(000ha)",
          "Area under Crops(000ha)",
          "Area under Crops(000ha)",
          "Area under Crops(000ha)",
          "Area under Crops(000ha)",
          "Area under Crops(000ha)",
          "Area under Crops(000ha)",
          "Area under Crops(000ha)",
          "Area under Crops(000ha)",
          "Area under Crops(000ha)",
          "Area under Crops(000ha)",
          "Area under Crops(000ha)",
          "Area under Crops(000ha)",
          "Crop Production(000tonnes)",
          "Crop Production(000tonnes)",
          "Crop Production(000tonnes)",
          "Crop Production(000tonnes)",
          "Crop Production(000tonnes)",
          "Crop Production(000tonnes)",
          "Crop Production(000tonnes)",
          "Crop Production(000tonnes)",
          "Crop Production(000tonnes)",
          "Crop Production(000tonnes)",
          "Crop Production(000tonnes)",
          "Crop Production(000tonnes)",
          "Crop Production(000tonnes)",
          "Crop Production(000tonnes)",
          "Crop Yield per ha(tonnes)",
          "Crop Yield per ha(tonnes)",
          "Crop Yield per ha(tonnes)",
          "Crop Yield per ha(tonnes)",
          "Crop Yield per ha(tonnes)",
          "Crop Yield per ha(tonnes)",
          "Crop Yield per ha(tonnes)",
          "Crop Yield per ha(tonnes)",
          "Crop Yield per ha(tonnes)",
          "Crop Yield per ha(tonnes)",
          "Crop Yield per ha(tonnes)",
          "Crop Yield per ha(tonnes)",
          "Crop Yield per ha(tonnes)",
          "Crop Yield per ha(tonnes)"
         ],
         "textfont": {
          "color": "black",
          "size": 16
         },
         "type": "bar",
         "x": [
          2008,
          2009,
          2010,
          2011,
          2012,
          2013,
          2014,
          2015,
          2016,
          2017,
          2018,
          2019,
          2020,
          2021,
          2008,
          2009,
          2010,
          2011,
          2012,
          2013,
          2014,
          2015,
          2016,
          2017,
          2018,
          2019,
          2020,
          2021,
          2008,
          2009,
          2010,
          2011,
          2012,
          2013,
          2014,
          2015,
          2016,
          2017,
          2018,
          2019,
          2020,
          2021
         ],
         "y": [
          110.7,
          84.5,
          77.8,
          94.1,
          98.1,
          60.599999999999994,
          71.6,
          65.39999999999999,
          67.9,
          67.1,
          58,
          63.5,
          46.9,
          62.300000000000004,
          992.9,
          690.1,
          669.2,
          929.3,
          707.9000000000001,
          545.4,
          717,
          696.6,
          647.8,
          681.8000000000001,
          506.8,
          636,
          393,
          662.4000000000001,
          16.2,
          15.399999999999999,
          16.5,
          18.5,
          13.5,
          17.4,
          18.5,
          19.6,
          17.7,
          18.6,
          15.100000000000001,
          18.4,
          16.1,
          19.5
         ]
        }
       ],
       "layout": {
        "height": 600,
        "template": {
         "data": {
          "bar": [
           {
            "error_x": {
             "color": "#2a3f5f"
            },
            "error_y": {
             "color": "#2a3f5f"
            },
            "marker": {
             "line": {
              "color": "#E5ECF6",
              "width": 0.5
             },
             "pattern": {
              "fillmode": "overlay",
              "size": 10,
              "solidity": 0.2
             }
            },
            "type": "bar"
           }
          ],
          "barpolar": [
           {
            "marker": {
             "line": {
              "color": "#E5ECF6",
              "width": 0.5
             },
             "pattern": {
              "fillmode": "overlay",
              "size": 10,
              "solidity": 0.2
             }
            },
            "type": "barpolar"
           }
          ],
          "carpet": [
           {
            "aaxis": {
             "endlinecolor": "#2a3f5f",
             "gridcolor": "white",
             "linecolor": "white",
             "minorgridcolor": "white",
             "startlinecolor": "#2a3f5f"
            },
            "baxis": {
             "endlinecolor": "#2a3f5f",
             "gridcolor": "white",
             "linecolor": "white",
             "minorgridcolor": "white",
             "startlinecolor": "#2a3f5f"
            },
            "type": "carpet"
           }
          ],
          "choropleth": [
           {
            "colorbar": {
             "outlinewidth": 0,
             "ticks": ""
            },
            "type": "choropleth"
           }
          ],
          "contour": [
           {
            "colorbar": {
             "outlinewidth": 0,
             "ticks": ""
            },
            "colorscale": [
             [
              0,
              "#0d0887"
             ],
             [
              0.1111111111111111,
              "#46039f"
             ],
             [
              0.2222222222222222,
              "#7201a8"
             ],
             [
              0.3333333333333333,
              "#9c179e"
             ],
             [
              0.4444444444444444,
              "#bd3786"
             ],
             [
              0.5555555555555556,
              "#d8576b"
             ],
             [
              0.6666666666666666,
              "#ed7953"
             ],
             [
              0.7777777777777778,
              "#fb9f3a"
             ],
             [
              0.8888888888888888,
              "#fdca26"
             ],
             [
              1,
              "#f0f921"
             ]
            ],
            "type": "contour"
           }
          ],
          "contourcarpet": [
           {
            "colorbar": {
             "outlinewidth": 0,
             "ticks": ""
            },
            "type": "contourcarpet"
           }
          ],
          "heatmap": [
           {
            "colorbar": {
             "outlinewidth": 0,
             "ticks": ""
            },
            "colorscale": [
             [
              0,
              "#0d0887"
             ],
             [
              0.1111111111111111,
              "#46039f"
             ],
             [
              0.2222222222222222,
              "#7201a8"
             ],
             [
              0.3333333333333333,
              "#9c179e"
             ],
             [
              0.4444444444444444,
              "#bd3786"
             ],
             [
              0.5555555555555556,
              "#d8576b"
             ],
             [
              0.6666666666666666,
              "#ed7953"
             ],
             [
              0.7777777777777778,
              "#fb9f3a"
             ],
             [
              0.8888888888888888,
              "#fdca26"
             ],
             [
              1,
              "#f0f921"
             ]
            ],
            "type": "heatmap"
           }
          ],
          "heatmapgl": [
           {
            "colorbar": {
             "outlinewidth": 0,
             "ticks": ""
            },
            "colorscale": [
             [
              0,
              "#0d0887"
             ],
             [
              0.1111111111111111,
              "#46039f"
             ],
             [
              0.2222222222222222,
              "#7201a8"
             ],
             [
              0.3333333333333333,
              "#9c179e"
             ],
             [
              0.4444444444444444,
              "#bd3786"
             ],
             [
              0.5555555555555556,
              "#d8576b"
             ],
             [
              0.6666666666666666,
              "#ed7953"
             ],
             [
              0.7777777777777778,
              "#fb9f3a"
             ],
             [
              0.8888888888888888,
              "#fdca26"
             ],
             [
              1,
              "#f0f921"
             ]
            ],
            "type": "heatmapgl"
           }
          ],
          "histogram": [
           {
            "marker": {
             "pattern": {
              "fillmode": "overlay",
              "size": 10,
              "solidity": 0.2
             }
            },
            "type": "histogram"
           }
          ],
          "histogram2d": [
           {
            "colorbar": {
             "outlinewidth": 0,
             "ticks": ""
            },
            "colorscale": [
             [
              0,
              "#0d0887"
             ],
             [
              0.1111111111111111,
              "#46039f"
             ],
             [
              0.2222222222222222,
              "#7201a8"
             ],
             [
              0.3333333333333333,
              "#9c179e"
             ],
             [
              0.4444444444444444,
              "#bd3786"
             ],
             [
              0.5555555555555556,
              "#d8576b"
             ],
             [
              0.6666666666666666,
              "#ed7953"
             ],
             [
              0.7777777777777778,
              "#fb9f3a"
             ],
             [
              0.8888888888888888,
              "#fdca26"
             ],
             [
              1,
              "#f0f921"
             ]
            ],
            "type": "histogram2d"
           }
          ],
          "histogram2dcontour": [
           {
            "colorbar": {
             "outlinewidth": 0,
             "ticks": ""
            },
            "colorscale": [
             [
              0,
              "#0d0887"
             ],
             [
              0.1111111111111111,
              "#46039f"
             ],
             [
              0.2222222222222222,
              "#7201a8"
             ],
             [
              0.3333333333333333,
              "#9c179e"
             ],
             [
              0.4444444444444444,
              "#bd3786"
             ],
             [
              0.5555555555555556,
              "#d8576b"
             ],
             [
              0.6666666666666666,
              "#ed7953"
             ],
             [
              0.7777777777777778,
              "#fb9f3a"
             ],
             [
              0.8888888888888888,
              "#fdca26"
             ],
             [
              1,
              "#f0f921"
             ]
            ],
            "type": "histogram2dcontour"
           }
          ],
          "mesh3d": [
           {
            "colorbar": {
             "outlinewidth": 0,
             "ticks": ""
            },
            "type": "mesh3d"
           }
          ],
          "parcoords": [
           {
            "line": {
             "colorbar": {
              "outlinewidth": 0,
              "ticks": ""
             }
            },
            "type": "parcoords"
           }
          ],
          "pie": [
           {
            "automargin": true,
            "type": "pie"
           }
          ],
          "scatter": [
           {
            "marker": {
             "colorbar": {
              "outlinewidth": 0,
              "ticks": ""
             }
            },
            "type": "scatter"
           }
          ],
          "scatter3d": [
           {
            "line": {
             "colorbar": {
              "outlinewidth": 0,
              "ticks": ""
             }
            },
            "marker": {
             "colorbar": {
              "outlinewidth": 0,
              "ticks": ""
             }
            },
            "type": "scatter3d"
           }
          ],
          "scattercarpet": [
           {
            "marker": {
             "colorbar": {
              "outlinewidth": 0,
              "ticks": ""
             }
            },
            "type": "scattercarpet"
           }
          ],
          "scattergeo": [
           {
            "marker": {
             "colorbar": {
              "outlinewidth": 0,
              "ticks": ""
             }
            },
            "type": "scattergeo"
           }
          ],
          "scattergl": [
           {
            "marker": {
             "colorbar": {
              "outlinewidth": 0,
              "ticks": ""
             }
            },
            "type": "scattergl"
           }
          ],
          "scattermapbox": [
           {
            "marker": {
             "colorbar": {
              "outlinewidth": 0,
              "ticks": ""
             }
            },
            "type": "scattermapbox"
           }
          ],
          "scatterpolar": [
           {
            "marker": {
             "colorbar": {
              "outlinewidth": 0,
              "ticks": ""
             }
            },
            "type": "scatterpolar"
           }
          ],
          "scatterpolargl": [
           {
            "marker": {
             "colorbar": {
              "outlinewidth": 0,
              "ticks": ""
             }
            },
            "type": "scatterpolargl"
           }
          ],
          "scatterternary": [
           {
            "marker": {
             "colorbar": {
              "outlinewidth": 0,
              "ticks": ""
             }
            },
            "type": "scatterternary"
           }
          ],
          "surface": [
           {
            "colorbar": {
             "outlinewidth": 0,
             "ticks": ""
            },
            "colorscale": [
             [
              0,
              "#0d0887"
             ],
             [
              0.1111111111111111,
              "#46039f"
             ],
             [
              0.2222222222222222,
              "#7201a8"
             ],
             [
              0.3333333333333333,
              "#9c179e"
             ],
             [
              0.4444444444444444,
              "#bd3786"
             ],
             [
              0.5555555555555556,
              "#d8576b"
             ],
             [
              0.6666666666666666,
              "#ed7953"
             ],
             [
              0.7777777777777778,
              "#fb9f3a"
             ],
             [
              0.8888888888888888,
              "#fdca26"
             ],
             [
              1,
              "#f0f921"
             ]
            ],
            "type": "surface"
           }
          ],
          "table": [
           {
            "cells": {
             "fill": {
              "color": "#EBF0F8"
             },
             "line": {
              "color": "white"
             }
            },
            "header": {
             "fill": {
              "color": "#C8D4E3"
             },
             "line": {
              "color": "white"
             }
            },
            "type": "table"
           }
          ]
         },
         "layout": {
          "annotationdefaults": {
           "arrowcolor": "#2a3f5f",
           "arrowhead": 0,
           "arrowwidth": 1
          },
          "autotypenumbers": "strict",
          "coloraxis": {
           "colorbar": {
            "outlinewidth": 0,
            "ticks": ""
           }
          },
          "colorscale": {
           "diverging": [
            [
             0,
             "#8e0152"
            ],
            [
             0.1,
             "#c51b7d"
            ],
            [
             0.2,
             "#de77ae"
            ],
            [
             0.3,
             "#f1b6da"
            ],
            [
             0.4,
             "#fde0ef"
            ],
            [
             0.5,
             "#f7f7f7"
            ],
            [
             0.6,
             "#e6f5d0"
            ],
            [
             0.7,
             "#b8e186"
            ],
            [
             0.8,
             "#7fbc41"
            ],
            [
             0.9,
             "#4d9221"
            ],
            [
             1,
             "#276419"
            ]
           ],
           "sequential": [
            [
             0,
             "#0d0887"
            ],
            [
             0.1111111111111111,
             "#46039f"
            ],
            [
             0.2222222222222222,
             "#7201a8"
            ],
            [
             0.3333333333333333,
             "#9c179e"
            ],
            [
             0.4444444444444444,
             "#bd3786"
            ],
            [
             0.5555555555555556,
             "#d8576b"
            ],
            [
             0.6666666666666666,
             "#ed7953"
            ],
            [
             0.7777777777777778,
             "#fb9f3a"
            ],
            [
             0.8888888888888888,
             "#fdca26"
            ],
            [
             1,
             "#f0f921"
            ]
           ],
           "sequentialminus": [
            [
             0,
             "#0d0887"
            ],
            [
             0.1111111111111111,
             "#46039f"
            ],
            [
             0.2222222222222222,
             "#7201a8"
            ],
            [
             0.3333333333333333,
             "#9c179e"
            ],
            [
             0.4444444444444444,
             "#bd3786"
            ],
            [
             0.5555555555555556,
             "#d8576b"
            ],
            [
             0.6666666666666666,
             "#ed7953"
            ],
            [
             0.7777777777777778,
             "#fb9f3a"
            ],
            [
             0.8888888888888888,
             "#fdca26"
            ],
            [
             1,
             "#f0f921"
            ]
           ]
          },
          "colorway": [
           "#636efa",
           "#EF553B",
           "#00cc96",
           "#ab63fa",
           "#FFA15A",
           "#19d3f3",
           "#FF6692",
           "#B6E880",
           "#FF97FF",
           "#FECB52"
          ],
          "font": {
           "color": "#2a3f5f"
          },
          "geo": {
           "bgcolor": "white",
           "lakecolor": "white",
           "landcolor": "#E5ECF6",
           "showlakes": true,
           "showland": true,
           "subunitcolor": "white"
          },
          "hoverlabel": {
           "align": "left"
          },
          "hovermode": "closest",
          "mapbox": {
           "style": "light"
          },
          "paper_bgcolor": "white",
          "plot_bgcolor": "#E5ECF6",
          "polar": {
           "angularaxis": {
            "gridcolor": "white",
            "linecolor": "white",
            "ticks": ""
           },
           "bgcolor": "#E5ECF6",
           "radialaxis": {
            "gridcolor": "white",
            "linecolor": "white",
            "ticks": ""
           }
          },
          "scene": {
           "xaxis": {
            "backgroundcolor": "#E5ECF6",
            "gridcolor": "white",
            "gridwidth": 2,
            "linecolor": "white",
            "showbackground": true,
            "ticks": "",
            "zerolinecolor": "white"
           },
           "yaxis": {
            "backgroundcolor": "#E5ECF6",
            "gridcolor": "white",
            "gridwidth": 2,
            "linecolor": "white",
            "showbackground": true,
            "ticks": "",
            "zerolinecolor": "white"
           },
           "zaxis": {
            "backgroundcolor": "#E5ECF6",
            "gridcolor": "white",
            "gridwidth": 2,
            "linecolor": "white",
            "showbackground": true,
            "ticks": "",
            "zerolinecolor": "white"
           }
          },
          "shapedefaults": {
           "line": {
            "color": "#2a3f5f"
           }
          },
          "ternary": {
           "aaxis": {
            "gridcolor": "white",
            "linecolor": "white",
            "ticks": ""
           },
           "baxis": {
            "gridcolor": "white",
            "linecolor": "white",
            "ticks": ""
           },
           "bgcolor": "#E5ECF6",
           "caxis": {
            "gridcolor": "white",
            "linecolor": "white",
            "ticks": ""
           }
          },
          "title": {
           "x": 0.05
          },
          "xaxis": {
           "automargin": true,
           "gridcolor": "white",
           "linecolor": "white",
           "ticks": "",
           "title": {
            "standoff": 15
           },
           "zerolinecolor": "white",
           "zerolinewidth": 2
          },
          "yaxis": {
           "automargin": true,
           "gridcolor": "white",
           "linecolor": "white",
           "ticks": "",
           "title": {
            "standoff": 15
           },
           "zerolinecolor": "white",
           "zerolinewidth": 2
          }
         }
        },
        "title": {
         "text": "Bar Chart to Show Comparisons & Volume (2004 to 2011)"
        },
        "width": 1200,
        "xaxis": {
         "title": {
          "text": "Year"
         }
        },
        "yaxis": {
         "title": {
          "text": "Values"
         }
        }
       }
      },
      "text/html": [
       "<div>                            <div id=\"ac1bf3d2-f676-4b07-9a1b-739301c5c98a\" class=\"plotly-graph-div\" style=\"height:600px; width:1200px;\"></div>            <script type=\"text/javascript\">                require([\"plotly\"], function(Plotly) {                    window.PLOTLYENV=window.PLOTLYENV || {};                                    if (document.getElementById(\"ac1bf3d2-f676-4b07-9a1b-739301c5c98a\")) {                    Plotly.newPlot(                        \"ac1bf3d2-f676-4b07-9a1b-739301c5c98a\",                        [{\"name\":\"Barley_total\",\"text\":[\"Area under Crops(000ha)\",\"Area under Crops(000ha)\",\"Area under Crops(000ha)\",\"Area under Crops(000ha)\",\"Area under Crops(000ha)\",\"Area under Crops(000ha)\",\"Area under Crops(000ha)\",\"Area under Crops(000ha)\",\"Area under Crops(000ha)\",\"Area under Crops(000ha)\",\"Area under Crops(000ha)\",\"Area under Crops(000ha)\",\"Area under Crops(000ha)\",\"Area under Crops(000ha)\",\"Crop Production(000tonnes)\",\"Crop Production(000tonnes)\",\"Crop Production(000tonnes)\",\"Crop Production(000tonnes)\",\"Crop Production(000tonnes)\",\"Crop Production(000tonnes)\",\"Crop Production(000tonnes)\",\"Crop Production(000tonnes)\",\"Crop Production(000tonnes)\",\"Crop Production(000tonnes)\",\"Crop Production(000tonnes)\",\"Crop Production(000tonnes)\",\"Crop Production(000tonnes)\",\"Crop Production(000tonnes)\",\"Crop Yield per ha(tonnes)\",\"Crop Yield per ha(tonnes)\",\"Crop Yield per ha(tonnes)\",\"Crop Yield per ha(tonnes)\",\"Crop Yield per ha(tonnes)\",\"Crop Yield per ha(tonnes)\",\"Crop Yield per ha(tonnes)\",\"Crop Yield per ha(tonnes)\",\"Crop Yield per ha(tonnes)\",\"Crop Yield per ha(tonnes)\",\"Crop Yield per ha(tonnes)\",\"Crop Yield per ha(tonnes)\",\"Crop Yield per ha(tonnes)\",\"Crop Yield per ha(tonnes)\"],\"textfont\":{\"color\":\"black\",\"size\":16},\"x\":[2008,2009,2010,2011,2012,2013,2014,2015,2016,2017,2018,2019,2020,2021,2008,2009,2010,2011,2012,2013,2014,2015,2016,2017,2018,2019,2020,2021,2008,2009,2010,2011,2012,2013,2014,2015,2016,2017,2018,2019,2020,2021],\"y\":[187.1,193.60000000000002,174.8,180.70000000000002,192.8,219.5,215.7,202.8,189.2,180.2,185.3,179.3,193.2,183.9,1294.2,1227.3,1223.0,1412.1,1260.7,1662.7,1731.2,1739.3000000000002,1479.9,1505.9,1224.9,1557.5,1430.3,1556.4,15.3,14.6,15.2,16.6,14.0,16.7,16.8,17.9,15.899999999999999,17.0,14.4,17.4,15.4,17.4],\"type\":\"bar\"},{\"name\":\"Oat_total\",\"text\":[\"Area under Crops(000ha)\",\"Area under Crops(000ha)\",\"Area under Crops(000ha)\",\"Area under Crops(000ha)\",\"Area under Crops(000ha)\",\"Area under Crops(000ha)\",\"Area under Crops(000ha)\",\"Area under Crops(000ha)\",\"Area under Crops(000ha)\",\"Area under Crops(000ha)\",\"Area under Crops(000ha)\",\"Area under Crops(000ha)\",\"Area under Crops(000ha)\",\"Area under Crops(000ha)\",\"Crop Production(000tonnes)\",\"Crop Production(000tonnes)\",\"Crop Production(000tonnes)\",\"Crop Production(000tonnes)\",\"Crop Production(000tonnes)\",\"Crop Production(000tonnes)\",\"Crop Production(000tonnes)\",\"Crop Production(000tonnes)\",\"Crop Production(000tonnes)\",\"Crop Production(000tonnes)\",\"Crop Production(000tonnes)\",\"Crop Production(000tonnes)\",\"Crop Production(000tonnes)\",\"Crop Production(000tonnes)\",\"Crop Yield per ha(tonnes)\",\"Crop Yield per ha(tonnes)\",\"Crop Yield per ha(tonnes)\",\"Crop Yield per ha(tonnes)\",\"Crop Yield per ha(tonnes)\",\"Crop Yield per ha(tonnes)\",\"Crop Yield per ha(tonnes)\",\"Crop Yield per ha(tonnes)\",\"Crop Yield per ha(tonnes)\",\"Crop Yield per ha(tonnes)\",\"Crop Yield per ha(tonnes)\",\"Crop Yield per ha(tonnes)\",\"Crop Yield per ha(tonnes)\",\"Crop Yield per ha(tonnes)\"],\"textfont\":{\"color\":\"black\",\"size\":16},\"x\":[2008,2009,2010,2011,2012,2013,2014,2015,2016,2017,2018,2019,2020,2021,2008,2009,2010,2011,2012,2013,2014,2015,2016,2017,2018,2019,2020,2021,2008,2009,2010,2011,2012,2013,2014,2015,2016,2017,2018,2019,2020,2021],\"y\":[22.9,20.4,19.700000000000003,21.4,23.700000000000003,26.700000000000003,18.6,23.5,23.2,24.4,17.799999999999997,23.8,25.5,28.4,174.3,145.7,148.1,168.1,156.60000000000002,192.5,149.7,197.7,183.3,205.1,122.3,202.7,189.89999999999998,238.3,14.2,14.399999999999999,15.0,15.7,13.3,15.1,16.0,16.9,15.600000000000001,16.5,13.5,16.6,15.299999999999999,16.8],\"type\":\"bar\"},{\"name\":\"Wheat_total\",\"text\":[\"Area under Crops(000ha)\",\"Area under Crops(000ha)\",\"Area under Crops(000ha)\",\"Area under Crops(000ha)\",\"Area under Crops(000ha)\",\"Area under Crops(000ha)\",\"Area under Crops(000ha)\",\"Area under Crops(000ha)\",\"Area under Crops(000ha)\",\"Area under Crops(000ha)\",\"Area under Crops(000ha)\",\"Area under Crops(000ha)\",\"Area under Crops(000ha)\",\"Area under Crops(000ha)\",\"Crop Production(000tonnes)\",\"Crop Production(000tonnes)\",\"Crop Production(000tonnes)\",\"Crop Production(000tonnes)\",\"Crop Production(000tonnes)\",\"Crop Production(000tonnes)\",\"Crop Production(000tonnes)\",\"Crop Production(000tonnes)\",\"Crop Production(000tonnes)\",\"Crop Production(000tonnes)\",\"Crop Production(000tonnes)\",\"Crop Production(000tonnes)\",\"Crop Production(000tonnes)\",\"Crop Production(000tonnes)\",\"Crop Yield per ha(tonnes)\",\"Crop Yield per ha(tonnes)\",\"Crop Yield per ha(tonnes)\",\"Crop Yield per ha(tonnes)\",\"Crop Yield per ha(tonnes)\",\"Crop Yield per ha(tonnes)\",\"Crop Yield per ha(tonnes)\",\"Crop Yield per ha(tonnes)\",\"Crop Yield per ha(tonnes)\",\"Crop Yield per ha(tonnes)\",\"Crop Yield per ha(tonnes)\",\"Crop Yield per ha(tonnes)\",\"Crop Yield per ha(tonnes)\",\"Crop Yield per ha(tonnes)\"],\"textfont\":{\"color\":\"black\",\"size\":16},\"x\":[2008,2009,2010,2011,2012,2013,2014,2015,2016,2017,2018,2019,2020,2021,2008,2009,2010,2011,2012,2013,2014,2015,2016,2017,2018,2019,2020,2021,2008,2009,2010,2011,2012,2013,2014,2015,2016,2017,2018,2019,2020,2021],\"y\":[110.7,84.5,77.8,94.1,98.1,60.599999999999994,71.6,65.39999999999999,67.9,67.1,58.0,63.5,46.9,62.300000000000004,992.9,690.1,669.2,929.3,707.9000000000001,545.4,717.0,696.6,647.8,681.8000000000001,506.8,636.0,393.0,662.4000000000001,16.2,15.399999999999999,16.5,18.5,13.5,17.4,18.5,19.6,17.7,18.6,15.100000000000001,18.4,16.1,19.5],\"type\":\"bar\"}],                        {\"template\":{\"data\":{\"bar\":[{\"error_x\":{\"color\":\"#2a3f5f\"},\"error_y\":{\"color\":\"#2a3f5f\"},\"marker\":{\"line\":{\"color\":\"#E5ECF6\",\"width\":0.5},\"pattern\":{\"fillmode\":\"overlay\",\"size\":10,\"solidity\":0.2}},\"type\":\"bar\"}],\"barpolar\":[{\"marker\":{\"line\":{\"color\":\"#E5ECF6\",\"width\":0.5},\"pattern\":{\"fillmode\":\"overlay\",\"size\":10,\"solidity\":0.2}},\"type\":\"barpolar\"}],\"carpet\":[{\"aaxis\":{\"endlinecolor\":\"#2a3f5f\",\"gridcolor\":\"white\",\"linecolor\":\"white\",\"minorgridcolor\":\"white\",\"startlinecolor\":\"#2a3f5f\"},\"baxis\":{\"endlinecolor\":\"#2a3f5f\",\"gridcolor\":\"white\",\"linecolor\":\"white\",\"minorgridcolor\":\"white\",\"startlinecolor\":\"#2a3f5f\"},\"type\":\"carpet\"}],\"choropleth\":[{\"colorbar\":{\"outlinewidth\":0,\"ticks\":\"\"},\"type\":\"choropleth\"}],\"contour\":[{\"colorbar\":{\"outlinewidth\":0,\"ticks\":\"\"},\"colorscale\":[[0.0,\"#0d0887\"],[0.1111111111111111,\"#46039f\"],[0.2222222222222222,\"#7201a8\"],[0.3333333333333333,\"#9c179e\"],[0.4444444444444444,\"#bd3786\"],[0.5555555555555556,\"#d8576b\"],[0.6666666666666666,\"#ed7953\"],[0.7777777777777778,\"#fb9f3a\"],[0.8888888888888888,\"#fdca26\"],[1.0,\"#f0f921\"]],\"type\":\"contour\"}],\"contourcarpet\":[{\"colorbar\":{\"outlinewidth\":0,\"ticks\":\"\"},\"type\":\"contourcarpet\"}],\"heatmap\":[{\"colorbar\":{\"outlinewidth\":0,\"ticks\":\"\"},\"colorscale\":[[0.0,\"#0d0887\"],[0.1111111111111111,\"#46039f\"],[0.2222222222222222,\"#7201a8\"],[0.3333333333333333,\"#9c179e\"],[0.4444444444444444,\"#bd3786\"],[0.5555555555555556,\"#d8576b\"],[0.6666666666666666,\"#ed7953\"],[0.7777777777777778,\"#fb9f3a\"],[0.8888888888888888,\"#fdca26\"],[1.0,\"#f0f921\"]],\"type\":\"heatmap\"}],\"heatmapgl\":[{\"colorbar\":{\"outlinewidth\":0,\"ticks\":\"\"},\"colorscale\":[[0.0,\"#0d0887\"],[0.1111111111111111,\"#46039f\"],[0.2222222222222222,\"#7201a8\"],[0.3333333333333333,\"#9c179e\"],[0.4444444444444444,\"#bd3786\"],[0.5555555555555556,\"#d8576b\"],[0.6666666666666666,\"#ed7953\"],[0.7777777777777778,\"#fb9f3a\"],[0.8888888888888888,\"#fdca26\"],[1.0,\"#f0f921\"]],\"type\":\"heatmapgl\"}],\"histogram\":[{\"marker\":{\"pattern\":{\"fillmode\":\"overlay\",\"size\":10,\"solidity\":0.2}},\"type\":\"histogram\"}],\"histogram2d\":[{\"colorbar\":{\"outlinewidth\":0,\"ticks\":\"\"},\"colorscale\":[[0.0,\"#0d0887\"],[0.1111111111111111,\"#46039f\"],[0.2222222222222222,\"#7201a8\"],[0.3333333333333333,\"#9c179e\"],[0.4444444444444444,\"#bd3786\"],[0.5555555555555556,\"#d8576b\"],[0.6666666666666666,\"#ed7953\"],[0.7777777777777778,\"#fb9f3a\"],[0.8888888888888888,\"#fdca26\"],[1.0,\"#f0f921\"]],\"type\":\"histogram2d\"}],\"histogram2dcontour\":[{\"colorbar\":{\"outlinewidth\":0,\"ticks\":\"\"},\"colorscale\":[[0.0,\"#0d0887\"],[0.1111111111111111,\"#46039f\"],[0.2222222222222222,\"#7201a8\"],[0.3333333333333333,\"#9c179e\"],[0.4444444444444444,\"#bd3786\"],[0.5555555555555556,\"#d8576b\"],[0.6666666666666666,\"#ed7953\"],[0.7777777777777778,\"#fb9f3a\"],[0.8888888888888888,\"#fdca26\"],[1.0,\"#f0f921\"]],\"type\":\"histogram2dcontour\"}],\"mesh3d\":[{\"colorbar\":{\"outlinewidth\":0,\"ticks\":\"\"},\"type\":\"mesh3d\"}],\"parcoords\":[{\"line\":{\"colorbar\":{\"outlinewidth\":0,\"ticks\":\"\"}},\"type\":\"parcoords\"}],\"pie\":[{\"automargin\":true,\"type\":\"pie\"}],\"scatter\":[{\"marker\":{\"colorbar\":{\"outlinewidth\":0,\"ticks\":\"\"}},\"type\":\"scatter\"}],\"scatter3d\":[{\"line\":{\"colorbar\":{\"outlinewidth\":0,\"ticks\":\"\"}},\"marker\":{\"colorbar\":{\"outlinewidth\":0,\"ticks\":\"\"}},\"type\":\"scatter3d\"}],\"scattercarpet\":[{\"marker\":{\"colorbar\":{\"outlinewidth\":0,\"ticks\":\"\"}},\"type\":\"scattercarpet\"}],\"scattergeo\":[{\"marker\":{\"colorbar\":{\"outlinewidth\":0,\"ticks\":\"\"}},\"type\":\"scattergeo\"}],\"scattergl\":[{\"marker\":{\"colorbar\":{\"outlinewidth\":0,\"ticks\":\"\"}},\"type\":\"scattergl\"}],\"scattermapbox\":[{\"marker\":{\"colorbar\":{\"outlinewidth\":0,\"ticks\":\"\"}},\"type\":\"scattermapbox\"}],\"scatterpolar\":[{\"marker\":{\"colorbar\":{\"outlinewidth\":0,\"ticks\":\"\"}},\"type\":\"scatterpolar\"}],\"scatterpolargl\":[{\"marker\":{\"colorbar\":{\"outlinewidth\":0,\"ticks\":\"\"}},\"type\":\"scatterpolargl\"}],\"scatterternary\":[{\"marker\":{\"colorbar\":{\"outlinewidth\":0,\"ticks\":\"\"}},\"type\":\"scatterternary\"}],\"surface\":[{\"colorbar\":{\"outlinewidth\":0,\"ticks\":\"\"},\"colorscale\":[[0.0,\"#0d0887\"],[0.1111111111111111,\"#46039f\"],[0.2222222222222222,\"#7201a8\"],[0.3333333333333333,\"#9c179e\"],[0.4444444444444444,\"#bd3786\"],[0.5555555555555556,\"#d8576b\"],[0.6666666666666666,\"#ed7953\"],[0.7777777777777778,\"#fb9f3a\"],[0.8888888888888888,\"#fdca26\"],[1.0,\"#f0f921\"]],\"type\":\"surface\"}],\"table\":[{\"cells\":{\"fill\":{\"color\":\"#EBF0F8\"},\"line\":{\"color\":\"white\"}},\"header\":{\"fill\":{\"color\":\"#C8D4E3\"},\"line\":{\"color\":\"white\"}},\"type\":\"table\"}]},\"layout\":{\"annotationdefaults\":{\"arrowcolor\":\"#2a3f5f\",\"arrowhead\":0,\"arrowwidth\":1},\"autotypenumbers\":\"strict\",\"coloraxis\":{\"colorbar\":{\"outlinewidth\":0,\"ticks\":\"\"}},\"colorscale\":{\"diverging\":[[0,\"#8e0152\"],[0.1,\"#c51b7d\"],[0.2,\"#de77ae\"],[0.3,\"#f1b6da\"],[0.4,\"#fde0ef\"],[0.5,\"#f7f7f7\"],[0.6,\"#e6f5d0\"],[0.7,\"#b8e186\"],[0.8,\"#7fbc41\"],[0.9,\"#4d9221\"],[1,\"#276419\"]],\"sequential\":[[0.0,\"#0d0887\"],[0.1111111111111111,\"#46039f\"],[0.2222222222222222,\"#7201a8\"],[0.3333333333333333,\"#9c179e\"],[0.4444444444444444,\"#bd3786\"],[0.5555555555555556,\"#d8576b\"],[0.6666666666666666,\"#ed7953\"],[0.7777777777777778,\"#fb9f3a\"],[0.8888888888888888,\"#fdca26\"],[1.0,\"#f0f921\"]],\"sequentialminus\":[[0.0,\"#0d0887\"],[0.1111111111111111,\"#46039f\"],[0.2222222222222222,\"#7201a8\"],[0.3333333333333333,\"#9c179e\"],[0.4444444444444444,\"#bd3786\"],[0.5555555555555556,\"#d8576b\"],[0.6666666666666666,\"#ed7953\"],[0.7777777777777778,\"#fb9f3a\"],[0.8888888888888888,\"#fdca26\"],[1.0,\"#f0f921\"]]},\"colorway\":[\"#636efa\",\"#EF553B\",\"#00cc96\",\"#ab63fa\",\"#FFA15A\",\"#19d3f3\",\"#FF6692\",\"#B6E880\",\"#FF97FF\",\"#FECB52\"],\"font\":{\"color\":\"#2a3f5f\"},\"geo\":{\"bgcolor\":\"white\",\"lakecolor\":\"white\",\"landcolor\":\"#E5ECF6\",\"showlakes\":true,\"showland\":true,\"subunitcolor\":\"white\"},\"hoverlabel\":{\"align\":\"left\"},\"hovermode\":\"closest\",\"mapbox\":{\"style\":\"light\"},\"paper_bgcolor\":\"white\",\"plot_bgcolor\":\"#E5ECF6\",\"polar\":{\"angularaxis\":{\"gridcolor\":\"white\",\"linecolor\":\"white\",\"ticks\":\"\"},\"bgcolor\":\"#E5ECF6\",\"radialaxis\":{\"gridcolor\":\"white\",\"linecolor\":\"white\",\"ticks\":\"\"}},\"scene\":{\"xaxis\":{\"backgroundcolor\":\"#E5ECF6\",\"gridcolor\":\"white\",\"gridwidth\":2,\"linecolor\":\"white\",\"showbackground\":true,\"ticks\":\"\",\"zerolinecolor\":\"white\"},\"yaxis\":{\"backgroundcolor\":\"#E5ECF6\",\"gridcolor\":\"white\",\"gridwidth\":2,\"linecolor\":\"white\",\"showbackground\":true,\"ticks\":\"\",\"zerolinecolor\":\"white\"},\"zaxis\":{\"backgroundcolor\":\"#E5ECF6\",\"gridcolor\":\"white\",\"gridwidth\":2,\"linecolor\":\"white\",\"showbackground\":true,\"ticks\":\"\",\"zerolinecolor\":\"white\"}},\"shapedefaults\":{\"line\":{\"color\":\"#2a3f5f\"}},\"ternary\":{\"aaxis\":{\"gridcolor\":\"white\",\"linecolor\":\"white\",\"ticks\":\"\"},\"baxis\":{\"gridcolor\":\"white\",\"linecolor\":\"white\",\"ticks\":\"\"},\"bgcolor\":\"#E5ECF6\",\"caxis\":{\"gridcolor\":\"white\",\"linecolor\":\"white\",\"ticks\":\"\"}},\"title\":{\"x\":0.05},\"xaxis\":{\"automargin\":true,\"gridcolor\":\"white\",\"linecolor\":\"white\",\"ticks\":\"\",\"title\":{\"standoff\":15},\"zerolinecolor\":\"white\",\"zerolinewidth\":2},\"yaxis\":{\"automargin\":true,\"gridcolor\":\"white\",\"linecolor\":\"white\",\"ticks\":\"\",\"title\":{\"standoff\":15},\"zerolinecolor\":\"white\",\"zerolinewidth\":2}}},\"title\":{\"text\":\"Bar Chart to Show Comparisons & Volume (2004 to 2011)\"},\"xaxis\":{\"title\":{\"text\":\"Year\"}},\"yaxis\":{\"title\":{\"text\":\"Values\"}},\"width\":1200,\"height\":600},                        {\"responsive\": true}                    ).then(function(){\n",
       "                            \n",
       "var gd = document.getElementById('ac1bf3d2-f676-4b07-9a1b-739301c5c98a');\n",
       "var x = new MutationObserver(function (mutations, observer) {{\n",
       "        var display = window.getComputedStyle(gd).display;\n",
       "        if (!display || display === 'none') {{\n",
       "            console.log([gd, 'removed!']);\n",
       "            Plotly.purge(gd);\n",
       "            observer.disconnect();\n",
       "        }}\n",
       "}});\n",
       "\n",
       "// Listen for the removal of the full notebook cells\n",
       "var notebookContainer = gd.closest('#notebook-container');\n",
       "if (notebookContainer) {{\n",
       "    x.observe(notebookContainer, {childList: true});\n",
       "}}\n",
       "\n",
       "// Listen for the clearing of the current output cell\n",
       "var outputEl = gd.closest('.output');\n",
       "if (outputEl) {{\n",
       "    x.observe(outputEl, {childList: true});\n",
       "}}\n",
       "\n",
       "                        })                };                });            </script>        </div>"
      ]
     },
     "metadata": {},
     "output_type": "display_data"
    }
   ],
   "source": [
    "fig = go.Figure(data=[\n",
    "    go.Bar(\n",
    "        x=df_irish['Year'], \n",
    "        y=df_irish[col], \n",
    "        name=col, \n",
    "        text=df_irish['Statistic Label'],\n",
    "        textfont=dict(size=16, color='black')  # increase the font size and set the font color to red\n",
    "    ) for col in [\"Barley_total\",\"Oat_total\",\"Wheat_total\"]\n",
    "])\n",
    "\n",
    "# Update the layout\n",
    "fig.update_layout(\n",
    "    title='Bar Chart to Show Comparisons & Volume (2004 to 2011)',\n",
    "    xaxis_title='Year',\n",
    "    yaxis_title='Values',\n",
    "    width=1200,  # sets the width of the figure in pixels\n",
    "    height=600   # sets the height of the figure in pixels\n",
    ")"
   ]
  },
  {
   "cell_type": "code",
   "execution_count": null,
   "id": "bdf649fe",
   "metadata": {},
   "outputs": [],
   "source": []
  },
  {
   "cell_type": "markdown",
   "id": "c6ec1905",
   "metadata": {},
   "source": [
    "#### Bubble Chart"
   ]
  },
  {
   "cell_type": "code",
   "execution_count": null,
   "id": "3281c122",
   "metadata": {},
   "outputs": [],
   "source": []
  },
  {
   "cell_type": "markdown",
   "id": "b67d645f",
   "metadata": {},
   "source": [
    "### STEP 3: Loading & Exploring Data on Cereal Crops Worldwide in Comparison to Ireland(source: World Bank)"
   ]
  },
  {
   "cell_type": "markdown",
   "id": "a91fbaba",
   "metadata": {},
   "source": [
    "#### DATA SET 1: Cereal Production in Metric Tonnes\n",
    "* Load the Data set\n",
    "* Data Cleaning"
   ]
  },
  {
   "cell_type": "code",
   "execution_count": null,
   "id": "7f63516b",
   "metadata": {},
   "outputs": [],
   "source": [
    "# loading data set on cereal production in metric tonnes\n",
    "df_prod = pd.read_csv(\"API_AG.PRD.CREL.MT_DS2_en_csv_v2_4772045.csv\")"
   ]
  },
  {
   "cell_type": "code",
   "execution_count": null,
   "id": "9be288fe",
   "metadata": {},
   "outputs": [],
   "source": [
    "# Displaying the head of data set 1\n",
    "df_prod.head()"
   ]
  },
  {
   "cell_type": "code",
   "execution_count": null,
   "id": "ed086319",
   "metadata": {
    "scrolled": true
   },
   "outputs": [],
   "source": [
    "# Displaying the tail of data set 1\n",
    "df_prod.tail()"
   ]
  },
  {
   "cell_type": "code",
   "execution_count": null,
   "id": "182da321",
   "metadata": {},
   "outputs": [],
   "source": [
    "# Displaying the info of the data set 1\n",
    "# checking for data types because sometimes variables may be stored as string or an object\n",
    "df_prod.info()"
   ]
  },
  {
   "cell_type": "code",
   "execution_count": null,
   "id": "82046a45",
   "metadata": {},
   "outputs": [],
   "source": [
    "# Check if there are 'Not A Number' (NaN) values, also known as missing data, in the dataset columns\n",
    "df_prod_missing =df_prod.isna()\n",
    "df_prod_missing.head()"
   ]
  },
  {
   "cell_type": "code",
   "execution_count": null,
   "id": "52cc0690",
   "metadata": {},
   "outputs": [],
   "source": [
    "# Function to check for missing values and replace them with zeros\n",
    "def fill_missing_values(df_prod):\n",
    "    # Check for missing values\n",
    "    missing = df_prod.isnull().sum()\n",
    "    \n",
    "    # Replace missing values with 0\n",
    "    df_prod = df_prod.fillna(0)\n",
    "      \n",
    "    return df_prod\n"
   ]
  },
  {
   "cell_type": "code",
   "execution_count": null,
   "id": "25e59eb6",
   "metadata": {},
   "outputs": [],
   "source": [
    "# Fill missing values with 0\n",
    "df_prod = fill_missing_values(df_prod)\n",
    "df_prod.head()"
   ]
  },
  {
   "cell_type": "code",
   "execution_count": null,
   "id": "b37d413e",
   "metadata": {
    "scrolled": true
   },
   "outputs": [],
   "source": [
    "# checking on the description of the values of the column \"1960\"\n",
    "df_prod[\"1960\"].describe"
   ]
  },
  {
   "cell_type": "code",
   "execution_count": null,
   "id": "02ad8f29",
   "metadata": {},
   "outputs": [],
   "source": [
    "# checking on the description of the values of the column \"2021\"\n",
    "df_prod[\"2021\"].describe"
   ]
  },
  {
   "cell_type": "code",
   "execution_count": null,
   "id": "e3fb6603",
   "metadata": {},
   "outputs": [],
   "source": [
    "# dropping the column \"1960\" & \"2021\" because they have zeroes\n",
    "df_prod = df_prod.drop(columns=[\"1960\",\"2021\"])\n",
    "df_prod.head()"
   ]
  },
  {
   "cell_type": "code",
   "execution_count": null,
   "id": "42c0ca2e",
   "metadata": {},
   "outputs": [],
   "source": [
    "# Using Melt to arrange the data set in a chronological order\n",
    "# to be able to add more columns from new data sets and retain meaning\n",
    "df_prod_melt=df_prod.melt(id_vars=[\"Country Name\",\"Country Code\",\"Indicator Name\",\"Indicator Code\"],\n",
    "                    var_name=\"Date\",\n",
    "                    value_name=\"Cereals\")"
   ]
  },
  {
   "cell_type": "code",
   "execution_count": null,
   "id": "5caa7732",
   "metadata": {},
   "outputs": [],
   "source": [
    "# loading the first five rows of the melted data\n",
    "df_prod_melt.head()"
   ]
  },
  {
   "cell_type": "code",
   "execution_count": null,
   "id": "491df497",
   "metadata": {},
   "outputs": [],
   "source": [
    "# Rename the 'Cereals' column to 'Cereals(metric tons)' so as to drop colum \"Indicator Name\" & \"Indicator Code\"\n",
    "df_prod1 = df_prod_melt.rename(columns={'Cereals': 'CerealProduction(metric tons)'})\n",
    "df_prod1.head()"
   ]
  },
  {
   "cell_type": "code",
   "execution_count": null,
   "id": "5b634672",
   "metadata": {},
   "outputs": [],
   "source": [
    "# dropping the column \"Indicator Name\" & \"Indicator Code\"\n",
    "# because their description has been added to the \"Cereals(metric tons)\" column\n",
    "# the description of the data set information(mark down) has been giving before loading the data hence\n",
    "df_prodmt = df_prod1.drop(columns=[\"Indicator Name\",\"Indicator Code\"])\n",
    "df_prodmt.head()"
   ]
  },
  {
   "cell_type": "code",
   "execution_count": null,
   "id": "3289b164",
   "metadata": {},
   "outputs": [],
   "source": [
    "# Changing the year column from an object into a string for analysis\n",
    "df_prodmt[\"Date\"] = pd.to_numeric(df_prodmt[\"Date\"])\n",
    "df_prodmt.info()"
   ]
  },
  {
   "cell_type": "markdown",
   "id": "f77c43aa",
   "metadata": {},
   "source": [
    "#### DATA SET 2: Cereal Yields Per Hectare\n",
    "* Load the Data set\n",
    "* Data Cleaning"
   ]
  },
  {
   "cell_type": "code",
   "execution_count": null,
   "id": "fc9d147c",
   "metadata": {},
   "outputs": [],
   "source": [
    "# loading data set on cereal yields per hectare\n",
    "df_yield = pd.read_csv(\"API_AG.YLD.CREL.KG_DS2_en_csv_v2_4772233.csv\")"
   ]
  },
  {
   "cell_type": "code",
   "execution_count": null,
   "id": "abf9eb15",
   "metadata": {},
   "outputs": [],
   "source": [
    "# Displaying the head of data set 2\n",
    "df_yield.head()"
   ]
  },
  {
   "cell_type": "code",
   "execution_count": null,
   "id": "16f8483a",
   "metadata": {},
   "outputs": [],
   "source": [
    "# Function to check for missing values and replace them with zeros\n",
    "def fill_missing_values(df_yield):\n",
    "    # Check for missing values\n",
    "    missing = df_yield.isnull().sum()\n",
    "    \n",
    "    # Replace missing values with 0\n",
    "    df_yield = df_yield.fillna(0)\n",
    "      \n",
    "    return df_yield"
   ]
  },
  {
   "cell_type": "code",
   "execution_count": null,
   "id": "8eb1cbd2",
   "metadata": {},
   "outputs": [],
   "source": [
    "# Fill missing values with 0\n",
    "df_yield = fill_missing_values(df_yield)\n",
    "df_yield.head()"
   ]
  },
  {
   "cell_type": "code",
   "execution_count": null,
   "id": "ad37aabc",
   "metadata": {},
   "outputs": [],
   "source": [
    "# dropping the column \"1960\" & \"2021\" because they have zeroes\n",
    "df_yield = df_yield.drop(columns=[\"1960\",\"2021\"])\n",
    "df_yield.head()"
   ]
  },
  {
   "cell_type": "code",
   "execution_count": null,
   "id": "0d1324e6",
   "metadata": {},
   "outputs": [],
   "source": [
    "# Using Melt to arrange the data set in a chronological order\n",
    "# to be able to add more columns from new data sets and retain meaning\n",
    "df_yield_melt=df_yield.melt(id_vars=[\"Country Name\",\"Country Code\",\"Indicator Name\",\"Indicator Code\"],\n",
    "                    var_name=\"Date\",\n",
    "                    value_name=\"CerealYield(Kg per ha)\")"
   ]
  },
  {
   "cell_type": "code",
   "execution_count": null,
   "id": "8f8b0eae",
   "metadata": {},
   "outputs": [],
   "source": [
    "# dropping the column \"Indicator Name\" & \"Indicator Code\"\n",
    "# because their description has been added to the \"CerealYield(Kg per ha)\" column\n",
    "# the description of the data set information(mark down) has been giving before loading the data hence\n",
    "df_yieldkg = df_yield_melt.drop(columns=[\"Indicator Name\",\"Indicator Code\"])\n",
    "df_yieldkg.head()"
   ]
  },
  {
   "cell_type": "code",
   "execution_count": null,
   "id": "a3149a33",
   "metadata": {
    "scrolled": true
   },
   "outputs": [],
   "source": [
    "# Changing the year column from an object into a string for analysis\n",
    "df_yieldkg[\"Date\"] = pd.to_numeric(df_yieldkg[\"Date\"])\n",
    "df_yieldkg.info()"
   ]
  },
  {
   "cell_type": "markdown",
   "id": "7100fc80",
   "metadata": {},
   "source": [
    "#### DATA SET 3: Land Under Cereal Production\n",
    "* Load the Data set\n",
    "* Data Cleaning"
   ]
  },
  {
   "cell_type": "code",
   "execution_count": null,
   "id": "1d1ab943",
   "metadata": {},
   "outputs": [],
   "source": [
    "# loading data set on land under cereal production\n",
    "df_land = pd.read_csv(\"API_AG.LND.CREL.HA_DS2_en_csv_v2_4772643.csv\")"
   ]
  },
  {
   "cell_type": "code",
   "execution_count": null,
   "id": "2cb83f62",
   "metadata": {},
   "outputs": [],
   "source": [
    "# Displaying the head of data set 3\n",
    "df_land.head()"
   ]
  },
  {
   "cell_type": "code",
   "execution_count": null,
   "id": "aecd6855",
   "metadata": {},
   "outputs": [],
   "source": [
    "# Function to check for missing values and replace them with zeros\n",
    "def fill_missing_values(df_land):\n",
    "    # Check for missing values\n",
    "    missing = df_land.isnull().sum()\n",
    "    \n",
    "    # Replace missing values with 0\n",
    "    df_land = df_land.fillna(0)\n",
    "      \n",
    "    return df_land"
   ]
  },
  {
   "cell_type": "code",
   "execution_count": null,
   "id": "086e96d4",
   "metadata": {},
   "outputs": [],
   "source": [
    "# Fill missing values with 0\n",
    "df_land = fill_missing_values(df_land)\n",
    "df_land.head()"
   ]
  },
  {
   "cell_type": "code",
   "execution_count": null,
   "id": "12c056be",
   "metadata": {},
   "outputs": [],
   "source": [
    "# dropping the column \"1960\" & \"2021\" to balance the years with the data set 1 and data set 2 when merging\n",
    "df_land = df_land.drop(columns=[\"1960\",\"2021\"])\n",
    "df_land.head()"
   ]
  },
  {
   "cell_type": "code",
   "execution_count": null,
   "id": "0224a555",
   "metadata": {},
   "outputs": [],
   "source": [
    "# Using Melt to arrange the data set in a chronological order\n",
    "# to be able to add more columns from new data sets and retain meaning\n",
    "df_land_melt=df_land.melt(id_vars=[\"Country Name\",\"Country Code\",\"Indicator Name\",\"Indicator Code\"],\n",
    "                    var_name=\"Date\",\n",
    "                    value_name=\"LandUnderCereal(ha)\")"
   ]
  },
  {
   "cell_type": "code",
   "execution_count": null,
   "id": "2fc6ef56",
   "metadata": {},
   "outputs": [],
   "source": [
    "# dropping the column \"Indicator Name\" & \"Indicator Code\"\n",
    "# because their description has been added to the \"LandUnderCereal(ha)\" column\n",
    "# the description of the data set information(mark down) has been giving before loading the data hence\n",
    "df_landha = df_land_melt.drop(columns=[\"Indicator Name\",\"Indicator Code\"])\n",
    "df_landha.head()"
   ]
  },
  {
   "cell_type": "code",
   "execution_count": null,
   "id": "10ff09e0",
   "metadata": {},
   "outputs": [],
   "source": [
    "# Changing the year column from an object into a string for analysis\n",
    "df_landha[\"Date\"] = pd.to_numeric(df_landha[\"Date\"])\n",
    "df_landha.info()"
   ]
  },
  {
   "cell_type": "markdown",
   "id": "8ddbfa40",
   "metadata": {},
   "source": [
    "### Merging Data Set 1, Data Set 2 & Data Set 3 to one Data set(World Data on Arable Production of Cereals)"
   ]
  },
  {
   "cell_type": "code",
   "execution_count": null,
   "id": "5892b744",
   "metadata": {},
   "outputs": [],
   "source": [
    "# Adding the columns \"CerealYield(Kg per ha)\",\"LandUnderCereal(ha)\" from df_yieldkg & df_landha to df_prodmt\n",
    "df_prodmt[\"CerealYield(Kg per ha)\"] = df_yieldkg[\"CerealYield(Kg per ha)\"]\n",
    "df_prodmt[\"LandUnderCereal(ha)\"] = df_landha[\"LandUnderCereal(ha)\"]\n",
    "\n",
    "# Saving the resulting data set to a new CSV file\n",
    "df_prodmt.to_csv(\"arable-production-of-cereal-crops\", index=False)\n"
   ]
  },
  {
   "cell_type": "code",
   "execution_count": null,
   "id": "a4b4acab",
   "metadata": {},
   "outputs": [],
   "source": [
    "df_arable = df_prodmt\n",
    "df_arable"
   ]
  },
  {
   "cell_type": "code",
   "execution_count": null,
   "id": "0daff2bb",
   "metadata": {},
   "outputs": [],
   "source": []
  },
  {
   "cell_type": "code",
   "execution_count": null,
   "id": "e58924b8",
   "metadata": {},
   "outputs": [],
   "source": []
  }
 ],
 "metadata": {
  "kernelspec": {
   "display_name": "Python 3 (ipykernel)",
   "language": "python",
   "name": "python3"
  },
  "language_info": {
   "codemirror_mode": {
    "name": "ipython",
    "version": 3
   },
   "file_extension": ".py",
   "mimetype": "text/x-python",
   "name": "python",
   "nbconvert_exporter": "python",
   "pygments_lexer": "ipython3",
   "version": "3.9.12"
  }
 },
 "nbformat": 4,
 "nbformat_minor": 5
}
